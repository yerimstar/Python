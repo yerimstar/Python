{
 "cells": [
  {
   "cell_type": "code",
   "execution_count": 13,
   "metadata": {},
   "outputs": [
    {
     "name": "stdout",
     "output_type": "stream",
     "text": [
      "X.shape:  (50, 1)\n",
      "y.shpae:  (50, 1)\n",
      "max(X):  [2.99813734]\n",
      "min(X):  [0.12847971]\n",
      "\n",
      "theta:  [[3]\n",
      " [2]]\n",
      "X1.shape:  (50, 2)\n",
      "predictions[:3]:  [[4.0536863 ]\n",
      " [9.99894773]\n",
      " [5.76908517]]\n",
      "predictions.shape:  (50, 1)\n"
     ]
    },
    {
     "data": {
      "image/png": "[encoded data removed]",
      "text/plain": [
       "<Figure size 432x288 with 1 Axes>"
      ]
     },
     "metadata": {
      "needs_background": "light"
     },
     "output_type": "display_data"
    }
   ],
   "source": [
    "import numpy as np\n",
    "import matplotlib.pyplot as plt\n",
    "\n",
    "X = 3*np.random.rand(50,1)\n",
    "y = 2+3*X +np.random.randn(50,1)\n",
    "theta0 = 2\n",
    "theta1 = 3\n",
    "theta = np.array([[theta1,theta0]]).T\n",
    "oneColumns = np.full((50,1),1)\n",
    "X1 = np.column_stack((X,oneColumns))\n",
    "predictions = np.matmul(X1,theta)\n",
    "\n",
    "plt.scatter(X,y)\n",
    "print(\"X.shape: \",X.shape)\n",
    "print(\"y.shpae: \",y.shape)\n",
    "print(\"max(X): \",max(X))\n",
    "print(\"min(X): \",min(X))\n",
    "print()\n",
    "print(\"theta: \",theta)\n",
    "print(\"X1.shape: \",X1.shape)\n",
    "print(\"predictions[:3]: \",predictions[:3])\n",
    "print(\"predictions.shape: \",predictions.shape)"
   ]
  },
  {
   "cell_type": "code",
   "execution_count": null,
   "metadata": {},
   "outputs": [],
   "source": []
  },
  {
   "cell_type": "code",
   "execution_count": null,
   "metadata": {},
   "outputs": [],
   "source": []
  },
  {
   "cell_type": "code",
   "execution_count": null,
   "metadata": {},
   "outputs": [],
   "source": []
  }
 ],
 "metadata": {
  "kernelspec": {
   "display_name": "Python 3",
   "language": "python",
   "name": "python3"
  },
  "language_info": {
   "codemirror_mode": {
    "name": "ipython",
    "version": 3
   },
   "file_extension": ".py",
   "mimetype": "text/x-python",
   "name": "python",
   "nbconvert_exporter": "python",
   "pygments_lexer": "ipython3",
   "version": "3.7.6"
  }
 },
 "nbformat": 4,
 "nbformat_minor": 4
}

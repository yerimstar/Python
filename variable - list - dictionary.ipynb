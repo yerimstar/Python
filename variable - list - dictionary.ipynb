{
 "cells": [
  {
   "cell_type": "code",
   "execution_count": 1,
   "metadata": {},
   "outputs": [],
   "source": [
    "#Variable"
   ]
  },
  {
   "cell_type": "code",
   "execution_count": 2,
   "metadata": {},
   "outputs": [],
   "source": [
    "#Case sensitive"
   ]
  },
  {
   "cell_type": "code",
   "execution_count": 3,
   "metadata": {},
   "outputs": [],
   "source": [
    "#Variable"
   ]
  },
  {
   "cell_type": "code",
   "execution_count": 4,
   "metadata": {},
   "outputs": [
    {
     "name": "stdout",
     "output_type": "stream",
     "text": [
      "100\n",
      "0.1\n",
      "0.001\n"
     ]
    }
   ],
   "source": [
    "height = 100\n",
    "weight = 10\n",
    "print(height)\n",
    "print(weight/height)\n",
    "print(weight/height**2)"
   ]
  },
  {
   "cell_type": "code",
   "execution_count": 5,
   "metadata": {},
   "outputs": [
    {
     "name": "stdout",
     "output_type": "stream",
     "text": [
      "1.0\n",
      "1.0\n",
      "100.0\n"
     ]
    }
   ],
   "source": [
    "print(height/weight**2)\n",
    "print(height/(weight**2))\n",
    "print((height/weight)**2)"
   ]
  },
  {
   "cell_type": "code",
   "execution_count": 6,
   "metadata": {},
   "outputs": [],
   "source": [
    "# ?? - 거듭제곱은 항상 먼저 실행되는 건가?!?\n",
    "# 출력값을 보면 그게 맞는 거 같음 \n",
    "# 연산자 우선순위를 찾아보니 **가 *나 /보다 더 우위에 있다. "
   ]
  },
  {
   "cell_type": "code",
   "execution_count": 7,
   "metadata": {},
   "outputs": [],
   "source": [
    "#Types - type(변수) = 그 변수의 type을 알려준다. \n",
    "# python은 c와 다르게 변수 중에 string도 존재한다. 즉, 그냥 문자열을 입력해줄 수 있음 "
   ]
  },
  {
   "cell_type": "code",
   "execution_count": 8,
   "metadata": {},
   "outputs": [],
   "source": [
    "height = 3.5"
   ]
  },
  {
   "cell_type": "code",
   "execution_count": 9,
   "metadata": {},
   "outputs": [
    {
     "data": {
      "text/plain": [
       "float"
      ]
     },
     "execution_count": 9,
     "metadata": {},
     "output_type": "execute_result"
    }
   ],
   "source": [
    "type(height)"
   ]
  },
  {
   "cell_type": "code",
   "execution_count": 10,
   "metadata": {},
   "outputs": [
    {
     "name": "stdout",
     "output_type": "stream",
     "text": [
      "<class 'int'>\n",
      "<class 'bool'>\n",
      "<class 'str'>\n"
     ]
    }
   ],
   "source": [
    "a = 5\n",
    "b = True\n",
    "c = 'this is a string'\n",
    "print(type(a))\n",
    "print(type(b))\n",
    "print(type(c))"
   ]
  },
  {
   "cell_type": "code",
   "execution_count": 11,
   "metadata": {},
   "outputs": [],
   "source": [
    "#Use of +\n",
    "# + 기호를 사용해서 상수형이나 문자열을 합칠 수 있다. "
   ]
  },
  {
   "cell_type": "code",
   "execution_count": 12,
   "metadata": {},
   "outputs": [
    {
     "name": "stdout",
     "output_type": "stream",
     "text": [
      "5\n",
      "I am a boy.\n",
      "My name is Haechan Lee.\n"
     ]
    }
   ],
   "source": [
    "d = 2+3\n",
    "e = \"I am \" + \"a boy\" + \".\"\n",
    "f = \"My name is \" + \"Haechan Lee.\"\n",
    "print(d)\n",
    "print(e)\n",
    "print(f)"
   ]
  },
  {
   "cell_type": "code",
   "execution_count": 13,
   "metadata": {},
   "outputs": [],
   "source": [
    "#Type Conversion"
   ]
  },
  {
   "cell_type": "code",
   "execution_count": 14,
   "metadata": {},
   "outputs": [
    {
     "ename": "TypeError",
     "evalue": "can only concatenate str (not \"int\") to str",
     "output_type": "error",
     "traceback": [
      "\u001b[0;31m---------------------------------------------------------------------------\u001b[0m",
      "\u001b[0;31mTypeError\u001b[0m                                 Traceback (most recent call last)",
      "\u001b[0;32m<ipython-input-14-0867b5fe61b8>\u001b[0m in \u001b[0;36m<module>\u001b[0;34m\u001b[0m\n\u001b[1;32m      1\u001b[0m \u001b[0mnumber_of_courses\u001b[0m \u001b[0;34m=\u001b[0m \u001b[0;36m5\u001b[0m\u001b[0;34m\u001b[0m\u001b[0;34m\u001b[0m\u001b[0m\n\u001b[0;32m----> 2\u001b[0;31m \u001b[0mprint\u001b[0m\u001b[0;34m(\u001b[0m\u001b[0;34m\"I am taking \"\u001b[0m \u001b[0;34m+\u001b[0m \u001b[0mnumber_of_courses\u001b[0m \u001b[0;34m+\u001b[0m \u001b[0;34m\" this semester \"\u001b[0m\u001b[0;34m)\u001b[0m\u001b[0;34m\u001b[0m\u001b[0;34m\u001b[0m\u001b[0m\n\u001b[0m",
      "\u001b[0;31mTypeError\u001b[0m: can only concatenate str (not \"int\") to str"
     ]
    }
   ],
   "source": [
    "number_of_courses = 5\n",
    "print(\"I am taking \" + number_of_courses + \" this semester \")\n"
   ]
  },
  {
   "cell_type": "code",
   "execution_count": 15,
   "metadata": {},
   "outputs": [],
   "source": [
    "# int와 string을 그냥 더해줄 수 없음 -> type conversion이 필요하다. "
   ]
  },
  {
   "cell_type": "code",
   "execution_count": 16,
   "metadata": {},
   "outputs": [
    {
     "name": "stdout",
     "output_type": "stream",
     "text": [
      "I am taking 5 this semester\n"
     ]
    }
   ],
   "source": [
    "print(\"I am taking \" + str(number_of_courses)+ \" this semester\")"
   ]
  },
  {
   "cell_type": "code",
   "execution_count": 17,
   "metadata": {},
   "outputs": [],
   "source": [
    "#str(변수) = 변수를 string형으로 변환해준다. "
   ]
  },
  {
   "cell_type": "code",
   "execution_count": 18,
   "metadata": {},
   "outputs": [
    {
     "name": "stdout",
     "output_type": "stream",
     "text": [
      "3.4567\n",
      "3.4567\n",
      "<class 'str'>\n",
      "<class 'float'>\n"
     ]
    }
   ],
   "source": [
    "a = \"3.4567\" # a는 string형\n",
    "b = float(a) # b는 a를 float형으로 변환해준거 \n",
    "print(a)\n",
    "print(b)\n",
    "print(type(a))\n",
    "print(type(b))"
   ]
  },
  {
   "cell_type": "code",
   "execution_count": 19,
   "metadata": {},
   "outputs": [],
   "source": [
    "#Python data types"
   ]
  },
  {
   "cell_type": "code",
   "execution_count": 20,
   "metadata": {},
   "outputs": [
    {
     "data": {
      "text/plain": [
       "'\\nfloat = real numbers\\nint = integer numbers\\nstr = string, text\\nbool = True,False\\nPython List = [a,b,c]\\n -> collection of variables ( 변수의 집합 )\\n -> contain any type (어떤 타입이든지 들어갈 수 있음)\\n -> contain different types (여러 타입이 섞여들어 갈 수 있음)\\n'"
      ]
     },
     "execution_count": 20,
     "metadata": {},
     "output_type": "execute_result"
    }
   ],
   "source": [
    "\"\"\"\n",
    "float = real numbers\n",
    "int = integer numbers\n",
    "str = string, text\n",
    "bool = True,False\n",
    "Python List = [a,b,c]\n",
    " -> collection of variables ( 변수의 집합 )\n",
    " -> contain any type (어떤 타입이든지 들어갈 수 있음)\n",
    " -> contain different types (여러 타입이 섞여들어 갈 수 있음)\n",
    "\"\"\"\n"
   ]
  },
  {
   "cell_type": "code",
   "execution_count": 21,
   "metadata": {},
   "outputs": [],
   "source": [
    "a = [1,2,3,4]\n",
    "b = [1, 2.3, True, \"this is a test\"]\n",
    "c = a + b\n",
    "d = [1,2,[1,2,3],[1,2,\"test\"]]\n",
    "e = [1+2,\"baby \"*3,4]\n"
   ]
  },
  {
   "cell_type": "code",
   "execution_count": 22,
   "metadata": {},
   "outputs": [
    {
     "name": "stdout",
     "output_type": "stream",
     "text": [
      "[1, 2, 3, 4]\n",
      "[1, 2.3, True, 'this is a test']\n",
      "[1, 2, 3, 4, 1, 2.3, True, 'this is a test']\n",
      "[1, 2, [1, 2, 3], [1, 2, 'test']]\n",
      "[3, 'baby baby baby ', 4]\n"
     ]
    }
   ],
   "source": [
    "print(a)\n",
    "print(b) # 출력하면 \"(큰 따옴표)가 '(작은 따옴표)로 변환되어 출력된다.\n",
    "print(c) # list간의 덧셈은 두 List가 합쳐진다. 새로운 c라는 list를 생성한 것 \n",
    "print(d) # list안에 요소로 list가 들어갈 수 있음 \n",
    "print(e) # list안에서 계산도 이루어질 수 있다. string도 곱셈으로 횟수를 늘릴 수 있다. "
   ]
  },
  {
   "cell_type": "code",
   "execution_count": 23,
   "metadata": {},
   "outputs": [
    {
     "name": "stdout",
     "output_type": "stream",
     "text": [
      "<class 'list'>\n",
      "4\n"
     ]
    }
   ],
   "source": [
    "print(type(a)) #[, ,..]의 타입은 list\n",
    "print(len(a)) # list a의 요소의 갯수 즉 list의 길이 "
   ]
  },
  {
   "cell_type": "code",
   "execution_count": 24,
   "metadata": {},
   "outputs": [],
   "source": [
    "#Subset of lists"
   ]
  },
  {
   "cell_type": "code",
   "execution_count": 25,
   "metadata": {},
   "outputs": [],
   "source": [
    "#Zero based indexing -> list의 원소는 0번부터 시작한다. "
   ]
  },
  {
   "cell_type": "code",
   "execution_count": 26,
   "metadata": {},
   "outputs": [
    {
     "name": "stdout",
     "output_type": "stream",
     "text": [
      "100\n",
      "1000\n",
      "john and liz\n",
      "john and liz\n",
      "1000\n"
     ]
    }
   ],
   "source": [
    "test = [100, \"jane\", 40, \"tim\", 1000, \"john and liz\"]\n",
    "print(test[0])\n",
    "print(test[4])\n",
    "print(test[5])\n",
    "print(test[-1]) \n",
    "print(test[-2])"
   ]
  },
  {
   "cell_type": "code",
   "execution_count": 27,
   "metadata": {},
   "outputs": [],
   "source": [
    "# - indexing = 맨 마지막이 -1로 역순으로 숫자를 센다. "
   ]
  },
  {
   "cell_type": "code",
   "execution_count": 28,
   "metadata": {},
   "outputs": [],
   "source": [
    "# list slicing"
   ]
  },
  {
   "cell_type": "code",
   "execution_count": 29,
   "metadata": {},
   "outputs": [
    {
     "data": {
      "text/plain": [
       "'\\n-> :를 이용한다. \\n-> list[index1 : index2 ]\\n   => index1부터 index2 -1까지  (즉, index1 <=   < index2)\\n   => ex) test[2:4] = test list의 2번째부터 (4-1)번째까지\\n-> list[:index] - 처음부터 index-1 까지\\n-> list[index:] - index부터 마지막까지\\n'"
      ]
     },
     "execution_count": 29,
     "metadata": {},
     "output_type": "execute_result"
    }
   ],
   "source": [
    "\"\"\"\n",
    "-> :를 이용한다. \n",
    "-> list[index1 : index2 ]\n",
    "   => index1부터 index2 -1까지  (즉, index1 <=   < index2)\n",
    "   => ex) test[2:4] = test list의 2번째부터 (4-1)번째까지\n",
    "-> list[:index] - 처음부터 index-1 까지\n",
    "-> list[index:] - index부터 마지막까지\n",
    "\"\"\""
   ]
  },
  {
   "cell_type": "code",
   "execution_count": 30,
   "metadata": {},
   "outputs": [
    {
     "data": {
      "text/plain": [
       "[40, 'tim']"
      ]
     },
     "execution_count": 30,
     "metadata": {},
     "output_type": "execute_result"
    }
   ],
   "source": [
    "test = [100, \"jane\", 40, \"tim\", 1000, \"john and liz\"]\n",
    "test[2:4]"
   ]
  },
  {
   "cell_type": "code",
   "execution_count": 31,
   "metadata": {},
   "outputs": [],
   "source": [
    "#use a single index"
   ]
  },
  {
   "cell_type": "code",
   "execution_count": 32,
   "metadata": {},
   "outputs": [
    {
     "name": "stdout",
     "output_type": "stream",
     "text": [
      "[100, 'jane', 40, 'tim']\n"
     ]
    }
   ],
   "source": [
    "print(test[:4]) #0부터 3까지"
   ]
  },
  {
   "cell_type": "code",
   "execution_count": 33,
   "metadata": {},
   "outputs": [
    {
     "name": "stdout",
     "output_type": "stream",
     "text": [
      "[40, 'tim', 1000, 'john and liz']\n"
     ]
    }
   ],
   "source": [
    "print(test[2:]) #2부터 마지막까지"
   ]
  },
  {
   "cell_type": "code",
   "execution_count": 34,
   "metadata": {},
   "outputs": [
    {
     "name": "stdout",
     "output_type": "stream",
     "text": [
      "[100, 'jane', 40, 'tim', 1000, 'john and liz']\n"
     ]
    }
   ],
   "source": [
    "print(test[:]) # 처음부터 마지막까지 (모든 내용)"
   ]
  },
  {
   "cell_type": "code",
   "execution_count": 35,
   "metadata": {},
   "outputs": [],
   "source": [
    "#list of lists"
   ]
  },
  {
   "cell_type": "code",
   "execution_count": 36,
   "metadata": {},
   "outputs": [],
   "source": [
    "test = [ ['tom', 10,20,40],['jane',50,60,70],['john',80,90,100]]"
   ]
  },
  {
   "cell_type": "code",
   "execution_count": 37,
   "metadata": {},
   "outputs": [
    {
     "name": "stdout",
     "output_type": "stream",
     "text": [
      "50\n"
     ]
    }
   ],
   "source": [
    "print(test[1][1]) #전체 list 중에 1번째 요소의 1번째"
   ]
  },
  {
   "cell_type": "code",
   "execution_count": 38,
   "metadata": {},
   "outputs": [
    {
     "name": "stdout",
     "output_type": "stream",
     "text": [
      "100\n"
     ]
    }
   ],
   "source": [
    "print(test[-1][-1])"
   ]
  },
  {
   "cell_type": "code",
   "execution_count": 39,
   "metadata": {},
   "outputs": [
    {
     "name": "stdout",
     "output_type": "stream",
     "text": [
      "[80, 90]\n"
     ]
    }
   ],
   "source": [
    "print(test[-1][1:3])"
   ]
  },
  {
   "cell_type": "code",
   "execution_count": 40,
   "metadata": {},
   "outputs": [
    {
     "name": "stdout",
     "output_type": "stream",
     "text": [
      "['jane', 50, 60, 70]\n"
     ]
    }
   ],
   "source": [
    "print(test[1][:]) # == test[1]"
   ]
  },
  {
   "cell_type": "code",
   "execution_count": 41,
   "metadata": {},
   "outputs": [
    {
     "name": "stdout",
     "output_type": "stream",
     "text": [
      "['jane', 50, 60, 70]\n"
     ]
    }
   ],
   "source": [
    "print(test[1])"
   ]
  },
  {
   "cell_type": "code",
   "execution_count": 42,
   "metadata": {},
   "outputs": [],
   "source": [
    "#Mutable List"
   ]
  },
  {
   "cell_type": "code",
   "execution_count": 43,
   "metadata": {},
   "outputs": [
    {
     "data": {
      "text/plain": [
       "' \\nmutable = 내용을 변화할 수 있다 => list의 요소를 변화할 수 있다. (더하거나 삭제 가능)\\n-> change list elements : list[0] = 100 -> list의 0번째 원소값을 100으로 바꿔라\\n-> add list elements : c = a+b -> a와 b의 원소를 합쳐서 c라는 새로운 list를 생성해라 \\n-> remove list elements : del(list[0]) -> list의 0번째 원소를 삭제해라 \\n'"
      ]
     },
     "execution_count": 43,
     "metadata": {},
     "output_type": "execute_result"
    }
   ],
   "source": [
    "\"\"\" \n",
    "mutable = 내용을 변화할 수 있다 => list의 요소를 변화할 수 있다. (더하거나 삭제 가능)\n",
    "-> change list elements : list[0] = 100 -> list의 0번째 원소값을 100으로 바꿔라\n",
    "-> add list elements : c = a+b -> a와 b의 원소를 합쳐서 c라는 새로운 list를 생성해라 \n",
    "-> remove list elements : del(list[0]) -> list의 0번째 원소를 삭제해라 \n",
    "\"\"\""
   ]
  },
  {
   "cell_type": "code",
   "execution_count": 44,
   "metadata": {},
   "outputs": [
    {
     "name": "stdout",
     "output_type": "stream",
     "text": [
      "[1, 2, 3, 'tom', 'jane', 'kim']\n"
     ]
    }
   ],
   "source": [
    "a = [1,2,3,'tom','jane','kim']\n",
    "print(a)"
   ]
  },
  {
   "cell_type": "code",
   "execution_count": 45,
   "metadata": {},
   "outputs": [
    {
     "name": "stdout",
     "output_type": "stream",
     "text": [
      "[1, 2, 3, 'tom', 'jane', 100]\n"
     ]
    }
   ],
   "source": [
    "a[-1] = 100 # a[-1]의 값을 100으로 바꾼다\n",
    "print(a)"
   ]
  },
  {
   "cell_type": "code",
   "execution_count": 46,
   "metadata": {},
   "outputs": [
    {
     "name": "stdout",
     "output_type": "stream",
     "text": [
      "[1, 2, [1, 2, 3], 'tom', 'jane', 100]\n"
     ]
    }
   ],
   "source": [
    "a[2] = [1,2,3]\n",
    "print(a)"
   ]
  },
  {
   "cell_type": "code",
   "execution_count": 47,
   "metadata": {},
   "outputs": [],
   "source": [
    "#adding and removing"
   ]
  },
  {
   "cell_type": "code",
   "execution_count": 48,
   "metadata": {},
   "outputs": [
    {
     "name": "stdout",
     "output_type": "stream",
     "text": [
      "a :  [1, 2, [1, 2, 3], 'tom', 'jane', 100]\n",
      "c :  [1, 2, [1, 2, 3], 'tom', 'jane', 100, 10000, 20000]\n"
     ]
    }
   ],
   "source": [
    "print(\"a : \",a)\n",
    "b = [10000,20000]\n",
    "c = a+b\n",
    "print(\"c : \",c)"
   ]
  },
  {
   "cell_type": "code",
   "execution_count": 49,
   "metadata": {},
   "outputs": [
    {
     "name": "stdout",
     "output_type": "stream",
     "text": [
      "tom\n"
     ]
    }
   ],
   "source": [
    "print(c[3])"
   ]
  },
  {
   "cell_type": "code",
   "execution_count": 50,
   "metadata": {},
   "outputs": [
    {
     "name": "stdout",
     "output_type": "stream",
     "text": [
      "[1, 2, [1, 2, 3], 'tom', 'jane', 100, 10000, 20000]\n",
      "[1, 2, [1, 2, 3], 'jane', 100, 10000, 20000]\n"
     ]
    }
   ],
   "source": [
    "print(c)\n",
    "del(c[3]) #del을 이용해서 원소를 삭제할 수 있다. \n",
    "print(c)"
   ]
  },
  {
   "cell_type": "code",
   "execution_count": 51,
   "metadata": {},
   "outputs": [],
   "source": [
    "#replacing list elements"
   ]
  },
  {
   "cell_type": "code",
   "execution_count": 52,
   "metadata": {},
   "outputs": [
    {
     "name": "stdout",
     "output_type": "stream",
     "text": [
      "['a', 'b', 'c', 'd', 1, 2, 3]\n"
     ]
    }
   ],
   "source": [
    "x = [\"a\",\"b\",'c','d',1,2,3]\n",
    "print(x)"
   ]
  },
  {
   "cell_type": "code",
   "execution_count": 53,
   "metadata": {},
   "outputs": [
    {
     "name": "stdout",
     "output_type": "stream",
     "text": [
      "['a', 100, 10, 20, 30]\n"
     ]
    }
   ],
   "source": [
    "x[1] = 100\n",
    "x[2:] = [10,20,30] # x list의 2부터 끝까지를 10,20,30으로 바꾼다. \n",
    "print(x)"
   ]
  },
  {
   "cell_type": "code",
   "execution_count": 54,
   "metadata": {},
   "outputs": [
    {
     "name": "stdout",
     "output_type": "stream",
     "text": [
      "['a', 100, 'abc', 'def', 'hij']\n"
     ]
    }
   ],
   "source": [
    "x[2:] = [\"abc\",'def','hij']\n",
    "print(x)"
   ]
  },
  {
   "cell_type": "code",
   "execution_count": 55,
   "metadata": {},
   "outputs": [
    {
     "name": "stdout",
     "output_type": "stream",
     "text": [
      "['a', 100, 'abc', 't', 'h', 'i', 's', ' ', 'i', 's', ' ', 'a', ' ', 't', 'e', 's', 't']\n"
     ]
    }
   ],
   "source": [
    "x[3:] = 'this is a test' # string이 list안으로 들어가면 한 문자씩 잘려서 들어간다. \n",
    "                        #왜냐면 list도 넣을 때 보면 [10,20,30]이렇게 넣어줬을 때 \n",
    "                        #list안에는 [10,20,30]이 아니라 10,20,30으로 들어간 걸 보면 알 수 있음 \n",
    "print(x)"
   ]
  },
  {
   "cell_type": "code",
   "execution_count": 56,
   "metadata": {},
   "outputs": [],
   "source": [
    "#Copying lists"
   ]
  },
  {
   "cell_type": "code",
   "execution_count": 57,
   "metadata": {},
   "outputs": [],
   "source": [
    "#Use sign to copy lists"
   ]
  },
  {
   "cell_type": "code",
   "execution_count": 58,
   "metadata": {},
   "outputs": [
    {
     "name": "stdout",
     "output_type": "stream",
     "text": [
      "['a', 'b', 'c']\n"
     ]
    }
   ],
   "source": [
    "x = [\"a\",'b',\"c\"]\n",
    "print(x)"
   ]
  },
  {
   "cell_type": "code",
   "execution_count": 59,
   "metadata": {},
   "outputs": [
    {
     "name": "stdout",
     "output_type": "stream",
     "text": [
      "['a', 'b', 'c']\n"
     ]
    }
   ],
   "source": [
    "y = x # ['a','b','c']라는 List를 전에는 x만 포인트하고 있었는데 이제 y도 그 List를 포인트한다. ppt 11쪽 그림 참고\n",
    "print(y)"
   ]
  },
  {
   "cell_type": "code",
   "execution_count": 60,
   "metadata": {},
   "outputs": [
    {
     "name": "stdout",
     "output_type": "stream",
     "text": [
      "y :  ['a', 'new', 'c']\n",
      "x :  ['a', 'new', 'c']\n"
     ]
    }
   ],
   "source": [
    "y[1] = \"new\" # x도 같은 것을 가리키고 있었기 때문에 y list의 요소 값이 바뀌면 x의 값도 함께 변한 것처럼 이해하면 된다. \n",
    "print(\"y : \",y)\n",
    "print(\"x : \",x)"
   ]
  },
  {
   "cell_type": "code",
   "execution_count": 61,
   "metadata": {},
   "outputs": [],
   "source": [
    "#Use list to copy"
   ]
  },
  {
   "cell_type": "code",
   "execution_count": 62,
   "metadata": {},
   "outputs": [
    {
     "name": "stdout",
     "output_type": "stream",
     "text": [
      "['a', 'b', 'c']\n"
     ]
    }
   ],
   "source": [
    "x = [\"a\",'b',\"c\"]\n",
    "print(x)"
   ]
  },
  {
   "cell_type": "code",
   "execution_count": 63,
   "metadata": {},
   "outputs": [
    {
     "name": "stdout",
     "output_type": "stream",
     "text": [
      "['a', 'b', 'c']\n"
     ]
    }
   ],
   "source": [
    "y = list(x) #x와 똑같은 list를 새로 생성한다. 즉, x와 y는 다른 list가 되는 것\n",
    "print(y)"
   ]
  },
  {
   "cell_type": "code",
   "execution_count": 64,
   "metadata": {},
   "outputs": [
    {
     "name": "stdout",
     "output_type": "stream",
     "text": [
      "y :  ['a', 'new', 'c']\n",
      "x :  ['a', 'b', 'c']\n"
     ]
    }
   ],
   "source": [
    "y[1] = \"new\"\n",
    "print(\"y : \",y)\n",
    "print(\"x : \",x) # 값이 바뀌지 않는다. 다른 list이기 때문이다. ppt 12쪽 그림 참고"
   ]
  },
  {
   "cell_type": "code",
   "execution_count": 65,
   "metadata": {},
   "outputs": [],
   "source": [
    "#Looping through a list"
   ]
  },
  {
   "cell_type": "code",
   "execution_count": 66,
   "metadata": {},
   "outputs": [
    {
     "data": {
      "text/plain": [
       "'\\n-> indentation (반드시 tab을 사용해서 띄어쓰기를 해줘야한다.)\\n-> for item-variabele in list :\\n        #code \\n    => 이러한 꼴로 만들어진다. \\n'"
      ]
     },
     "execution_count": 66,
     "metadata": {},
     "output_type": "execute_result"
    }
   ],
   "source": [
    "\"\"\"\n",
    "-> indentation (반드시 tab을 사용해서 띄어쓰기를 해줘야한다.)\n",
    "-> for item-variabele in list :\n",
    "        #code \n",
    "    => 이러한 꼴로 만들어진다. \n",
    "\"\"\"\n"
   ]
  },
  {
   "cell_type": "code",
   "execution_count": 67,
   "metadata": {},
   "outputs": [
    {
     "name": "stdout",
     "output_type": "stream",
     "text": [
      "cat\n",
      "dog\n",
      "bear\n",
      "elephant\n",
      "CAT\n",
      "DOG\n",
      "BEAR\n",
      "ELEPHANT\n"
     ]
    }
   ],
   "source": [
    "animals = ['cat','dog','bear','elephant']\n",
    "for a in animals:\n",
    "    print(a)\n",
    "for b in animals:\n",
    "    print(b.upper())  #item-variable.upper()은 모든 값을 대문자로 바꿔주는 것"
   ]
  },
  {
   "cell_type": "code",
   "execution_count": 68,
   "metadata": {},
   "outputs": [],
   "source": [
    "#While loop"
   ]
  },
  {
   "cell_type": "code",
   "execution_count": 69,
   "metadata": {},
   "outputs": [
    {
     "data": {
      "text/plain": [
       "'\\n-> while condition:\\n        #code\\n    => 이러한 꼴로 만들어진다. \\n'"
      ]
     },
     "execution_count": 69,
     "metadata": {},
     "output_type": "execute_result"
    }
   ],
   "source": [
    "\"\"\"\n",
    "-> while condition:\n",
    "        #code\n",
    "    => 이러한 꼴로 만들어진다. \n",
    "\"\"\""
   ]
  },
  {
   "cell_type": "code",
   "execution_count": 70,
   "metadata": {},
   "outputs": [],
   "source": [
    "animals = ['cat','dog','bear','elephant']"
   ]
  },
  {
   "cell_type": "code",
   "execution_count": 71,
   "metadata": {},
   "outputs": [
    {
     "name": "stdout",
     "output_type": "stream",
     "text": [
      "4\n"
     ]
    }
   ],
   "source": [
    "print(len(animals))"
   ]
  },
  {
   "cell_type": "code",
   "execution_count": 72,
   "metadata": {},
   "outputs": [
    {
     "name": "stdout",
     "output_type": "stream",
     "text": [
      "cat\n",
      "dog\n",
      "bear\n",
      "elephant\n"
     ]
    }
   ],
   "source": [
    "index = 0\n",
    "while index < len(animals):\n",
    "    print(animals[index])\n",
    "    index += 1            #index 0~3까지 돌면서 출력한다. "
   ]
  },
  {
   "cell_type": "code",
   "execution_count": 73,
   "metadata": {},
   "outputs": [],
   "source": [
    "#Sorting a list and append an element"
   ]
  },
  {
   "cell_type": "code",
   "execution_count": 74,
   "metadata": {},
   "outputs": [],
   "source": [
    "# list sorting\n",
    "# sorted() -> function  => list의 내용이 바뀌지 않는다. list의 내용을 sort해서 sorted변수 값에 들어간다. \n",
    "# sort() -> method"
   ]
  },
  {
   "cell_type": "code",
   "execution_count": 75,
   "metadata": {},
   "outputs": [
    {
     "name": "stdout",
     "output_type": "stream",
     "text": [
      "['cat', 'dog', 'bear', 'elephant']\n"
     ]
    }
   ],
   "source": [
    "print(animals)"
   ]
  },
  {
   "cell_type": "code",
   "execution_count": 76,
   "metadata": {},
   "outputs": [],
   "source": [
    "#sorted a list"
   ]
  },
  {
   "cell_type": "code",
   "execution_count": 77,
   "metadata": {},
   "outputs": [
    {
     "name": "stdout",
     "output_type": "stream",
     "text": [
      "animals : ['cat', 'dog', 'bear', 'elephant']\n",
      "sorted animals : ['bear', 'cat', 'dog', 'elephant']\n"
     ]
    }
   ],
   "source": [
    "sorted_animals = sorted(animals)\n",
    "print(\"animals : {}\".format(animals))\n",
    "print(\"sorted animals : {}\".format(sorted_animals))"
   ]
  },
  {
   "cell_type": "code",
   "execution_count": 78,
   "metadata": {},
   "outputs": [],
   "source": [
    "#sort a list"
   ]
  },
  {
   "cell_type": "code",
   "execution_count": 79,
   "metadata": {},
   "outputs": [
    {
     "name": "stdout",
     "output_type": "stream",
     "text": [
      "animals : ['bear', 'cat', 'dog', 'elephant']\n"
     ]
    }
   ],
   "source": [
    "animals.sort() #list의 내용 자체를 sort하는 것\n",
    "print(\"animals : {}\".format(animals))"
   ]
  },
  {
   "cell_type": "code",
   "execution_count": 80,
   "metadata": {},
   "outputs": [],
   "source": [
    "#append an element"
   ]
  },
  {
   "cell_type": "code",
   "execution_count": 81,
   "metadata": {},
   "outputs": [
    {
     "name": "stdout",
     "output_type": "stream",
     "text": [
      "['bear', 'cat', 'dog', 'elephant']\n"
     ]
    }
   ],
   "source": [
    "print(animals)"
   ]
  },
  {
   "cell_type": "code",
   "execution_count": 82,
   "metadata": {},
   "outputs": [
    {
     "name": "stdout",
     "output_type": "stream",
     "text": [
      "['bear', 'cat', 'dog', 'elephant', 'pig']\n"
     ]
    }
   ],
   "source": [
    "animals.append(\"pig\") # append 는 추가하는 메소드이다. list의 맨 뒤에 추가된다. \n",
    "print(animals)"
   ]
  },
  {
   "cell_type": "code",
   "execution_count": 83,
   "metadata": {},
   "outputs": [],
   "source": [
    "#ranges"
   ]
  },
  {
   "cell_type": "code",
   "execution_count": 84,
   "metadata": {},
   "outputs": [],
   "source": [
    "#range(index) : 0 ~ (index-1)"
   ]
  },
  {
   "cell_type": "code",
   "execution_count": 85,
   "metadata": {},
   "outputs": [
    {
     "name": "stdout",
     "output_type": "stream",
     "text": [
      "0\n",
      "1\n",
      "2\n",
      "3\n",
      "4\n"
     ]
    }
   ],
   "source": [
    "for number in range(5):  # 0~4\n",
    "    print(number)"
   ]
  },
  {
   "cell_type": "code",
   "execution_count": 86,
   "metadata": {},
   "outputs": [
    {
     "name": "stdout",
     "output_type": "stream",
     "text": [
      "2\n",
      "3\n",
      "4\n"
     ]
    }
   ],
   "source": [
    "for a in range(2,5): # 2 ~ (5-1)\n",
    "    print(a)"
   ]
  },
  {
   "cell_type": "code",
   "execution_count": 87,
   "metadata": {},
   "outputs": [
    {
     "name": "stdout",
     "output_type": "stream",
     "text": [
      "1\n",
      "3\n",
      "5\n"
     ]
    }
   ],
   "source": [
    "for b in range(1,7,2): #1~(7-1)끼지 2씩 증가 -> 1,3,5\n",
    "    print(b)"
   ]
  },
  {
   "cell_type": "code",
   "execution_count": 88,
   "metadata": {},
   "outputs": [
    {
     "name": "stdout",
     "output_type": "stream",
     "text": [
      "['bear', 'cat', 'dog', 'elephant', 'pig']\n"
     ]
    }
   ],
   "source": [
    "print(animals)"
   ]
  },
  {
   "cell_type": "code",
   "execution_count": 89,
   "metadata": {},
   "outputs": [
    {
     "name": "stdout",
     "output_type": "stream",
     "text": [
      "bear\n",
      "dog\n",
      "pig\n"
     ]
    }
   ],
   "source": [
    "for number in range(0,len(animals),2): # 0~(5-1) 2씩 증가 \n",
    "    print(animals[number])"
   ]
  },
  {
   "cell_type": "code",
   "execution_count": 90,
   "metadata": {},
   "outputs": [],
   "source": [
    "#Dictionary = {}"
   ]
  },
  {
   "cell_type": "code",
   "execution_count": 91,
   "metadata": {},
   "outputs": [
    {
     "data": {
      "text/plain": [
       "'\\n-> key와 value로 표현되는 데이터 구조\\n-> Mutable\\n\\n=> create an empty dictionary\\n=> create a dictionary\\n\\n'"
      ]
     },
     "execution_count": 91,
     "metadata": {},
     "output_type": "execute_result"
    }
   ],
   "source": [
    "\"\"\"\n",
    "-> key와 value로 표현되는 데이터 구조\n",
    "-> Mutable\n",
    "\n",
    "=> create an empty dictionary\n",
    "=> create a dictionary\n",
    "\n",
    "\"\"\""
   ]
  },
  {
   "cell_type": "code",
   "execution_count": 92,
   "metadata": {},
   "outputs": [],
   "source": [
    "#create an empty dictionary"
   ]
  },
  {
   "cell_type": "code",
   "execution_count": 93,
   "metadata": {},
   "outputs": [
    {
     "name": "stdout",
     "output_type": "stream",
     "text": [
      "<class 'dict'>\n"
     ]
    }
   ],
   "source": [
    "dict1 = {}\n",
    "print(type(dict1))"
   ]
  },
  {
   "cell_type": "code",
   "execution_count": 94,
   "metadata": {},
   "outputs": [],
   "source": [
    "#create a dictionary"
   ]
  },
  {
   "cell_type": "code",
   "execution_count": 95,
   "metadata": {},
   "outputs": [
    {
     "name": "stdout",
     "output_type": "stream",
     "text": [
      "{'kim': '111-2222', 'park': '222-3333'}\n"
     ]
    }
   ],
   "source": [
    "contacts = {'kim' : '111-2222','park':'222-3333'} # : 기호는 key값과 value값을 구분해준다. \n",
    "print(contacts)"
   ]
  },
  {
   "cell_type": "code",
   "execution_count": 96,
   "metadata": {},
   "outputs": [
    {
     "name": "stdout",
     "output_type": "stream",
     "text": [
      "Dial 222-3333 to call park\n"
     ]
    }
   ],
   "source": [
    "park_contacts = contacts['park'] #key값을 입력하면 valuer값이 나온다. 이때 value값은 따옴표가 출력되지 않는다. \n",
    "print(\"Dial {} to call park\".format(park_contacts))"
   ]
  },
  {
   "cell_type": "code",
   "execution_count": 97,
   "metadata": {},
   "outputs": [],
   "source": [
    "#update values"
   ]
  },
  {
   "cell_type": "code",
   "execution_count": 98,
   "metadata": {},
   "outputs": [
    {
     "name": "stdout",
     "output_type": "stream",
     "text": [
      "{'kim': '111-2222', 'park': '222-3333'}\n",
      "{'kim': '111-2222', 'park': '000-0000'}\n"
     ]
    }
   ],
   "source": [
    "print(contacts)\n",
    "contacts['park'] = '000-0000' # 새로운 value값으로 변경 -> dictionary는 mutable하기 때문에 값을 변경시켜줄 수 있음\n",
    "print(contacts)"
   ]
  },
  {
   "cell_type": "code",
   "execution_count": 99,
   "metadata": {},
   "outputs": [],
   "source": [
    "#add dictionary items"
   ]
  },
  {
   "cell_type": "code",
   "execution_count": 100,
   "metadata": {},
   "outputs": [
    {
     "name": "stdout",
     "output_type": "stream",
     "text": [
      "{'kim': '111-2222', 'park': '000-0000'}\n",
      "{'kim': '111-2222', 'park': '000-0000', 'choi': '111-222'}\n"
     ]
    }
   ],
   "source": [
    "print(contacts)\n",
    "contacts['choi'] = '111-222' #dictionary에 없는 값을 넣어주면 새로 추가된다. \n",
    "print(contacts)"
   ]
  },
  {
   "cell_type": "code",
   "execution_count": 101,
   "metadata": {},
   "outputs": [
    {
     "name": "stdout",
     "output_type": "stream",
     "text": [
      "3\n"
     ]
    }
   ],
   "source": [
    "print(len(contacts))"
   ]
  },
  {
   "cell_type": "code",
   "execution_count": 102,
   "metadata": {},
   "outputs": [],
   "source": [
    "#Delete a dictionary elements"
   ]
  },
  {
   "cell_type": "code",
   "execution_count": 103,
   "metadata": {},
   "outputs": [
    {
     "data": {
      "text/plain": [
       "'\\n-> list와 마찬가지로 del\\n=> del(list[index])\\n=> del(dictionary[key])\\n'"
      ]
     },
     "execution_count": 103,
     "metadata": {},
     "output_type": "execute_result"
    }
   ],
   "source": [
    "\"\"\"\n",
    "-> list와 마찬가지로 del\n",
    "=> del(list[index])\n",
    "=> del(dictionary[key])\n",
    "\"\"\""
   ]
  },
  {
   "cell_type": "code",
   "execution_count": 104,
   "metadata": {},
   "outputs": [
    {
     "name": "stdout",
     "output_type": "stream",
     "text": [
      "[10, 20, 30, 40, 50, 60]\n",
      "[10, 20, 40, 50, 60]\n"
     ]
    }
   ],
   "source": [
    "test = [10,20,30,40,50,60]\n",
    "print(test)\n",
    "del(test[2])\n",
    "print(test)"
   ]
  },
  {
   "cell_type": "code",
   "execution_count": 105,
   "metadata": {},
   "outputs": [
    {
     "name": "stdout",
     "output_type": "stream",
     "text": [
      "[10, 20]\n"
     ]
    }
   ],
   "source": [
    "del(test[2:])\n",
    "print(test)"
   ]
  },
  {
   "cell_type": "code",
   "execution_count": 106,
   "metadata": {},
   "outputs": [
    {
     "name": "stdout",
     "output_type": "stream",
     "text": [
      "{'kim': '111-2222', 'park': '000-0000', 'choi': '111-222'}\n"
     ]
    }
   ],
   "source": [
    "print(contacts)"
   ]
  },
  {
   "cell_type": "code",
   "execution_count": 107,
   "metadata": {},
   "outputs": [
    {
     "name": "stdout",
     "output_type": "stream",
     "text": [
      "{'kim': '111-2222', 'park': '000-0000'}\n"
     ]
    }
   ],
   "source": [
    "del(contacts['choi'])\n",
    "print(contacts)"
   ]
  },
  {
   "cell_type": "code",
   "execution_count": 108,
   "metadata": {},
   "outputs": [],
   "source": [
    "#Unique keys"
   ]
  },
  {
   "cell_type": "code",
   "execution_count": 109,
   "metadata": {},
   "outputs": [
    {
     "name": "stdout",
     "output_type": "stream",
     "text": [
      "{'kim': '111-2222', 'park': '000-0000'}\n",
      "{'kim': '111-2222', 'park': '111-2222'}\n",
      "{'park': '222-3333', 'choi': '333-4444'}\n"
     ]
    }
   ],
   "source": [
    "print(contacts)\n",
    "contacts['park'] = '111-2222'\n",
    "print(contacts)\n",
    "\n",
    "contacts1 = {'park' : '111-2222','park':'222-3333','choi':'333-4444'}\n",
    "# dictionary는 unique한 key값을 가진다. 따라서 같은 값이 들어가면 뒤에 있는 값만 남게 된다. \n",
    "print(contacts1)"
   ]
  },
  {
   "cell_type": "code",
   "execution_count": 110,
   "metadata": {},
   "outputs": [
    {
     "name": "stdout",
     "output_type": "stream",
     "text": [
      "[1, 2, 3, 3, 3, 3, 4]\n"
     ]
    }
   ],
   "source": [
    "a = [1,2,3,3,3,3,4]\n",
    "print(a) #list는 그런 것 없음 "
   ]
  },
  {
   "cell_type": "code",
   "execution_count": 111,
   "metadata": {},
   "outputs": [],
   "source": [
    "#Returning a value and get() function"
   ]
  },
  {
   "cell_type": "code",
   "execution_count": 112,
   "metadata": {},
   "outputs": [
    {
     "name": "stdout",
     "output_type": "stream",
     "text": [
      "111-2222\n",
      "111-2222\n"
     ]
    }
   ],
   "source": [
    "print(contacts.get('park')) #get()는 value값을 리턴해준다\n",
    "print(contacts['park'])"
   ]
  },
  {
   "cell_type": "code",
   "execution_count": 113,
   "metadata": {},
   "outputs": [],
   "source": [
    "#Useful of get"
   ]
  },
  {
   "cell_type": "code",
   "execution_count": 114,
   "metadata": {},
   "outputs": [
    {
     "name": "stdout",
     "output_type": "stream",
     "text": [
      "Name:  Phill\n",
      "Age:  22\n",
      "Salary:  None\n",
      "Salary:  10.0\n"
     ]
    }
   ],
   "source": [
    "person = {'name' : 'Phill', 'age': 22}\n",
    "\n",
    "print('Name: ',person.get('name'))\n",
    "# print('Name:  {}'.format(person['name']))와 같은 값을 출력한다\n",
    "print('Age: ',person.get('age'))\n",
    "\n",
    "print('Salary: ',person.get('salary')) #dictionary에 값이 없기 때문에 None 리턴해준다. \n",
    "# print('Salary: {}'.format(person['salary'])) -> get을 사용하지 않고 호출하면 key값이 없기 때문에 error가 발생한다. \n",
    "print('Salary: ',person.get('salary',10.0))  # default값을 설정해줄 수 있다. 해당하는 값이 없으면 none대신 10.0을 리턴해준다"
   ]
  },
  {
   "cell_type": "code",
   "execution_count": 115,
   "metadata": {},
   "outputs": [],
   "source": [
    "#Print dictionary elements"
   ]
  },
  {
   "cell_type": "code",
   "execution_count": 116,
   "metadata": {},
   "outputs": [],
   "source": [
    "contacts['park'] = '000-0000'"
   ]
  },
  {
   "cell_type": "code",
   "execution_count": 117,
   "metadata": {},
   "outputs": [
    {
     "name": "stdout",
     "output_type": "stream",
     "text": [
      "{'kim': '111-2222', 'park': '000-0000', 'lee': ['222-3333', '333-4444']}\n"
     ]
    }
   ],
   "source": [
    "contacts['lee'] = ['222-3333','333-4444']\n",
    "print(contacts)"
   ]
  },
  {
   "cell_type": "code",
   "execution_count": 118,
   "metadata": {},
   "outputs": [
    {
     "name": "stdout",
     "output_type": "stream",
     "text": [
      "Phone number : 222-3333\n",
      "Phone number : 333-4444\n"
     ]
    }
   ],
   "source": [
    "for number in contacts['lee']: # contacts['lee'] = ['222-3333','333-4444']\n",
    "    print('Phone number : {}'.format(number))"
   ]
  },
  {
   "cell_type": "code",
   "execution_count": 119,
   "metadata": {},
   "outputs": [
    {
     "name": "stdout",
     "output_type": "stream",
     "text": [
      "<built-in method keys of dict object at 0x10a4f54b0>\n"
     ]
    }
   ],
   "source": [
    "print(contacts.keys)"
   ]
  },
  {
   "cell_type": "code",
   "execution_count": 120,
   "metadata": {},
   "outputs": [
    {
     "name": "stdout",
     "output_type": "stream",
     "text": [
      "dict_keys(['kim', 'park', 'lee'])\n"
     ]
    }
   ],
   "source": [
    "print(contacts.keys()) #key값 모두 출력 dictionary.keys()"
   ]
  },
  {
   "cell_type": "code",
   "execution_count": 121,
   "metadata": {},
   "outputs": [
    {
     "name": "stdout",
     "output_type": "stream",
     "text": [
      "<built-in method values of dict object at 0x10a4f54b0>\n"
     ]
    }
   ],
   "source": [
    "print(contacts.values)"
   ]
  },
  {
   "cell_type": "code",
   "execution_count": 122,
   "metadata": {},
   "outputs": [
    {
     "name": "stdout",
     "output_type": "stream",
     "text": [
      "dict_values(['111-2222', '000-0000', ['222-3333', '333-4444']])\n"
     ]
    }
   ],
   "source": [
    "print(contacts.values()) #value값 모두 출력 dictionary.values()"
   ]
  },
  {
   "cell_type": "code",
   "execution_count": 123,
   "metadata": {},
   "outputs": [
    {
     "name": "stdout",
     "output_type": "stream",
     "text": [
      "dict_items([('kim', '111-2222'), ('park', '000-0000'), ('lee', ['222-3333', '333-4444'])])\n"
     ]
    }
   ],
   "source": [
    "print(contacts.items()) #key와 value값 모두 짝꿍 지어서 출력해준다. "
   ]
  },
  {
   "cell_type": "code",
   "execution_count": 124,
   "metadata": {},
   "outputs": [
    {
     "name": "stdout",
     "output_type": "stream",
     "text": [
      "000-0000\n"
     ]
    }
   ],
   "source": [
    "name = 'park'\n",
    "if name in contacts.keys(): #contacts.keys() -> 모든 키가 담겨있는 list => 여기에 해당하는 값이 있는지 검사\n",
    "    print(contacts[name])"
   ]
  },
  {
   "cell_type": "code",
   "execution_count": 125,
   "metadata": {},
   "outputs": [
    {
     "name": "stdout",
     "output_type": "stream",
     "text": [
      "['222-3333', '333-4444']\n"
     ]
    }
   ],
   "source": [
    "name = 'lee'\n",
    "if name in contacts.keys():\n",
    "    print(contacts[name])"
   ]
  },
  {
   "cell_type": "code",
   "execution_count": 126,
   "metadata": {},
   "outputs": [],
   "source": [
    "# dictionary.items()는 key value pair return -> key와 value가 짝지어서 출력된다는 이야기"
   ]
  },
  {
   "cell_type": "code",
   "execution_count": 127,
   "metadata": {},
   "outputs": [
    {
     "name": "stdout",
     "output_type": "stream",
     "text": [
      "{'kim': '111-2222', 'park': '000-0000', 'lee': ['222-3333', '333-4444']}\n",
      "dict_items([('kim', '111-2222'), ('park', '000-0000'), ('lee', ['222-3333', '333-4444'])])\n"
     ]
    }
   ],
   "source": [
    "print(contacts)\n",
    "print(contacts.items())"
   ]
  },
  {
   "cell_type": "code",
   "execution_count": 128,
   "metadata": {},
   "outputs": [
    {
     "name": "stdout",
     "output_type": "stream",
     "text": [
      "key is kim and value is 111-2222\n",
      "key is park and value is 000-0000\n",
      "key is lee and value is ['222-3333', '333-4444']\n"
     ]
    }
   ],
   "source": [
    "for a,b in contacts.items():\n",
    "    print(\"key is {} and value is {}\".format(a,b))"
   ]
  },
  {
   "cell_type": "code",
   "execution_count": 129,
   "metadata": {},
   "outputs": [
    {
     "name": "stdout",
     "output_type": "stream",
     "text": [
      "value is 111-2222 and key is kim\n",
      "value is 000-0000 and key is park\n",
      "value is ['222-3333', '333-4444'] and key is lee\n"
     ]
    }
   ],
   "source": [
    "for a,b in contacts.items():\n",
    "    print('value is {1} and key is {0}'.format(a,b)) # a는 0, b는 1을 의미하는 것 같다. "
   ]
  },
  {
   "cell_type": "code",
   "execution_count": 130,
   "metadata": {},
   "outputs": [],
   "source": [
    "#dictionary contains a dictionary -> 딕셔너리 안에 딕셔너리"
   ]
  },
  {
   "cell_type": "code",
   "execution_count": 131,
   "metadata": {},
   "outputs": [],
   "source": [
    "contacts2 = {'park' : {'cell' : '111-2222','email': 'park@ssu.ac.kr'},\n",
    "            'lee':{'cell' : '222-3333','email': 'lee@ssu.ac.kr'}}"
   ]
  },
  {
   "cell_type": "code",
   "execution_count": 132,
   "metadata": {},
   "outputs": [
    {
     "name": "stdout",
     "output_type": "stream",
     "text": [
      "{'park': {'cell': '111-2222', 'email': 'park@ssu.ac.kr'}, 'lee': {'cell': '222-3333', 'email': 'lee@ssu.ac.kr'}}\n"
     ]
    }
   ],
   "source": [
    "print(contacts2)"
   ]
  },
  {
   "cell_type": "code",
   "execution_count": 133,
   "metadata": {},
   "outputs": [
    {
     "name": "stdout",
     "output_type": "stream",
     "text": [
      "kim\n",
      "park\n",
      "lee\n"
     ]
    }
   ],
   "source": [
    "for contact in contacts:\n",
    "    print(contact)  # key값 리턴 "
   ]
  },
  {
   "cell_type": "code",
   "execution_count": 134,
   "metadata": {},
   "outputs": [
    {
     "name": "stdout",
     "output_type": "stream",
     "text": [
      "park\n",
      "lee\n"
     ]
    }
   ],
   "source": [
    "for a in contacts2.keys():\n",
    "    print(a) # 이것도 맞는거인듯...?"
   ]
  },
  {
   "cell_type": "code",
   "execution_count": 138,
   "metadata": {},
   "outputs": [
    {
     "name": "stdout",
     "output_type": "stream",
     "text": [
      "park's contact information\n",
      "   111-2222\n",
      "   park@ssu.ac.kr\n",
      "lee's contact information\n",
      "   222-3333\n",
      "   lee@ssu.ac.kr\n"
     ]
    }
   ],
   "source": [
    "for contact in contacts2:\n",
    "    print(\"{}'s contact information\".format(contact))\n",
    "    print(\"  \",contacts2[contact]['cell'])\n",
    "    print(\"  \",contacts2[contact]['email'])"
   ]
  },
  {
   "cell_type": "code",
   "execution_count": 139,
   "metadata": {},
   "outputs": [],
   "source": [
    "#print dictionary items"
   ]
  },
  {
   "cell_type": "code",
   "execution_count": 143,
   "metadata": {},
   "outputs": [
    {
     "name": "stdout",
     "output_type": "stream",
     "text": [
      "{'kim': '111-2222', 'park': '000-0000', 'lee': ['222-3333', '333-4444']}\n",
      "True\n",
      "False\n"
     ]
    }
   ],
   "source": [
    "print(contacts)\n",
    "# print(contacts.keys())\n",
    "print('lee' in contacts.keys()) #contacts.keys()는 ['kim','park','lee']모습의 list를 리턴한다. \n",
    "print('jaje' in contacts.keys())"
   ]
  },
  {
   "cell_type": "code",
   "execution_count": 146,
   "metadata": {},
   "outputs": [
    {
     "name": "stdout",
     "output_type": "stream",
     "text": [
      "True\n",
      "False\n"
     ]
    }
   ],
   "source": [
    "# print(contacts.values())\n",
    "print('111-2222' in contacts.values())\n",
    "print('222-3333' in contacts.values())"
   ]
  },
  {
   "cell_type": "code",
   "execution_count": 147,
   "metadata": {},
   "outputs": [],
   "source": [
    "#remove items"
   ]
  },
  {
   "cell_type": "code",
   "execution_count": 162,
   "metadata": {},
   "outputs": [
    {
     "name": "stdout",
     "output_type": "stream",
     "text": [
      "{'Alice': 20, 'Carol': 30, 'Bob': 34}\n"
     ]
    }
   ],
   "source": [
    "a = {'Alice': 20, 'Carol': 30, 'Bob':34}\n",
    "print(a)"
   ]
  },
  {
   "cell_type": "code",
   "execution_count": 163,
   "metadata": {},
   "outputs": [
    {
     "data": {
      "text/plain": [
       "30"
      ]
     },
     "execution_count": 163,
     "metadata": {},
     "output_type": "execute_result"
    }
   ],
   "source": [
    "a.pop('Carol') # pop은 value값을 리턴한다 -> 특정 element를 삭제한다. "
   ]
  },
  {
   "cell_type": "code",
   "execution_count": 164,
   "metadata": {},
   "outputs": [
    {
     "name": "stdout",
     "output_type": "stream",
     "text": [
      "{'Alice': 20, 'Bob': 34}\n"
     ]
    }
   ],
   "source": [
    "print(a)"
   ]
  },
  {
   "cell_type": "code",
   "execution_count": 165,
   "metadata": {},
   "outputs": [
    {
     "data": {
      "text/plain": [
       "20"
      ]
     },
     "execution_count": 165,
     "metadata": {},
     "output_type": "execute_result"
    }
   ],
   "source": [
    "a.pop('Alice')"
   ]
  },
  {
   "cell_type": "code",
   "execution_count": 166,
   "metadata": {},
   "outputs": [
    {
     "data": {
      "text/plain": [
       "{'Bob': 34}"
      ]
     },
     "execution_count": 166,
     "metadata": {},
     "output_type": "execute_result"
    }
   ],
   "source": [
    "a"
   ]
  },
  {
   "cell_type": "code",
   "execution_count": 167,
   "metadata": {},
   "outputs": [
    {
     "data": {
      "text/plain": [
       "('Bob', 34)"
      ]
     },
     "execution_count": 167,
     "metadata": {},
     "output_type": "execute_result"
    }
   ],
   "source": [
    "#remove random item\n",
    "a = {'Alice': 20, 'Carol': 30, 'Bob':34}\n",
    "a.popitem() #popitem은 tuple이 리턴된다 -> 삭제"
   ]
  },
  {
   "cell_type": "code",
   "execution_count": 168,
   "metadata": {},
   "outputs": [
    {
     "data": {
      "text/plain": [
       "{'Alice': 20, 'Carol': 30}"
      ]
     },
     "execution_count": 168,
     "metadata": {},
     "output_type": "execute_result"
    }
   ],
   "source": [
    "a"
   ]
  },
  {
   "cell_type": "code",
   "execution_count": 169,
   "metadata": {},
   "outputs": [
    {
     "data": {
      "text/plain": [
       "('Carol', 30)"
      ]
     },
     "execution_count": 169,
     "metadata": {},
     "output_type": "execute_result"
    }
   ],
   "source": [
    "a.popitem()"
   ]
  },
  {
   "cell_type": "code",
   "execution_count": 170,
   "metadata": {},
   "outputs": [
    {
     "data": {
      "text/plain": [
       "{'Alice': 20}"
      ]
     },
     "execution_count": 170,
     "metadata": {},
     "output_type": "execute_result"
    }
   ],
   "source": [
    "a"
   ]
  },
  {
   "cell_type": "code",
   "execution_count": 171,
   "metadata": {},
   "outputs": [
    {
     "name": "stdout",
     "output_type": "stream",
     "text": [
      "{'Alice': 20}\n"
     ]
    }
   ],
   "source": [
    "print(a)"
   ]
  },
  {
   "cell_type": "code",
   "execution_count": 172,
   "metadata": {},
   "outputs": [],
   "source": [
    "del(a['Alice'])"
   ]
  },
  {
   "cell_type": "code",
   "execution_count": 173,
   "metadata": {},
   "outputs": [
    {
     "name": "stdout",
     "output_type": "stream",
     "text": [
      "{}\n"
     ]
    }
   ],
   "source": [
    "print(a)"
   ]
  },
  {
   "cell_type": "code",
   "execution_count": null,
   "metadata": {},
   "outputs": [],
   "source": [
    "# pop -> 리턴되는 값이 있다. dictionary.pop()-> value값 리턴, dictionary.popitem() -> tuple형태로 리턴\n",
    "# del -> 리턴되는 값이 없다. "
   ]
  }
 ],
 "metadata": {
  "kernelspec": {
   "display_name": "Python 3",
   "language": "python",
   "name": "python3"
  },
  "language_info": {
   "codemirror_mode": {
    "name": "ipython",
    "version": 3
   },
   "file_extension": ".py",
   "mimetype": "text/x-python",
   "name": "python",
   "nbconvert_exporter": "python",
   "pygments_lexer": "ipython3",
   "version": "3.7.6"
  }
 },
 "nbformat": 4,
 "nbformat_minor": 4
}

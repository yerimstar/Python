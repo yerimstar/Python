{
 "cells": [
  {
   "cell_type": "code",
   "execution_count": 1,
   "metadata": {},
   "outputs": [],
   "source": [
    "#Node Class"
   ]
  },
  {
   "cell_type": "code",
   "execution_count": 2,
   "metadata": {},
   "outputs": [],
   "source": [
    "class Node():\n",
    "    def __init__(self,data,nextNode = None) :\n",
    "        self.data = data\n",
    "        if nextNode == None or type(nextNode) == Node :\n",
    "            self.nextNode = nextNode\n",
    "        else:\n",
    "            print(\"__init__node type error : \",type(Node))\n",
    "    def getData(self):\n",
    "        return self.data\n",
    "    def setData(self,val):\n",
    "        self.data = val\n",
    "    def getNextNode(self):\n",
    "        return self.nextNode\n",
    "    def setNextNode(self,node):\n",
    "        if type(node) == Node:\n",
    "            self.nextNode = node\n",
    "        else:\n",
    "            print(\"setNextNode node type error : \",type(Node))\n",
    "    def __repr__(self):\n",
    "        return \"(data : \"+ str(self.data) + \")\""
   ]
  },
  {
   "cell_type": "code",
   "execution_count": 3,
   "metadata": {},
   "outputs": [],
   "source": [
    "#Node Instance"
   ]
  },
  {
   "cell_type": "code",
   "execution_count": 4,
   "metadata": {},
   "outputs": [],
   "source": [
    "n1 = Node(\"coco\")\n",
    "#print(n1.data)\n",
    "#print(n1.nextNode)\n",
    "n2 = Node(\"pudu\")\n",
    "#print(n2.data)\n",
    "#print(n2.nextNode)\n",
    "n1.setNextNode(n2)\n",
    "#print(n1.nextNode)\n",
    "print(\"n1: {}, n2 : {}\".format(n1,n2))\n",
    "print(n1.getNextNode())\n",
    "print(n2.getNextNode())"
   ]
  },
  {
   "cell_type": "code",
   "execution_count": 5,
   "metadata": {},
   "outputs": [],
   "source": [
    "#Single Linked List"
   ]
  },
  {
   "cell_type": "code",
   "execution_count": 6,
   "metadata": {},
   "outputs": [],
   "source": [
    "n1 = Node(\"haechan\")\n",
    "n2 = Node(\"Jisung\")\n",
    "n3 = Node(\"Doyoung\")\n",
    "n4 = Node(\"Jungwoo\")\n",
    "n1.setNextNode(n2)\n",
    "n2.setNextNode(n3)\n",
    "n3.setNextNode(n4)"
   ]
  },
  {
   "cell_type": "code",
   "execution_count": 7,
   "metadata": {},
   "outputs": [],
   "source": [
    "class Head():\n",
    "    def __init__(self,node):\n",
    "        self.head = node"
   ]
  },
  {
   "cell_type": "code",
   "execution_count": 8,
   "metadata": {},
   "outputs": [],
   "source": [
    "h1 = Head(n1)"
   ]
  },
  {
   "cell_type": "code",
   "execution_count": 9,
   "metadata": {},
   "outputs": [
    {
     "name": "stdout",
     "output_type": "stream",
     "text": [
      "(data : haechan)\n",
      "(data : Jisung)\n",
      "(data : Doyoung)\n",
      "(data : Jungwoo)\n"
     ]
    }
   ],
   "source": [
    "curr = h1.head\n",
    "while curr:\n",
    "    print(curr)\n",
    "    curr = curr.getNextNode()"
   ]
  },
  {
   "cell_type": "code",
   "execution_count": 10,
   "metadata": {},
   "outputs": [],
   "source": [
    "#Linked List Class"
   ]
  },
  {
   "cell_type": "code",
   "execution_count": 11,
   "metadata": {},
   "outputs": [],
   "source": [
    "class LinkedList:\n",
    "    def __init__(self,head = None):\n",
    "        self.head = head\n",
    "        self.size = 0\n",
    "    def getSize(self):\n",
    "        return self.size\n",
    "    def addNode(self,data):\n",
    "        newNode = Node(data,self.head)\n",
    "        self.head = newNode\n",
    "        self.size += 1\n",
    "        return True\n",
    "    def printNodes(self):\n",
    "        curr = self.head\n",
    "        pos = 1\n",
    "        while curr:\n",
    "            print(\"position : \" + str(pos) + \" \" + str(curr.data))\n",
    "            pos += 1\n",
    "            curr = curr.getNextNode()"
   ]
  },
  {
   "cell_type": "code",
   "execution_count": 12,
   "metadata": {},
   "outputs": [],
   "source": [
    "myLL = LinkedList()"
   ]
  },
  {
   "cell_type": "code",
   "execution_count": 13,
   "metadata": {},
   "outputs": [
    {
     "data": {
      "text/plain": [
       "['__class__',\n",
       " '__delattr__',\n",
       " '__dict__',\n",
       " '__dir__',\n",
       " '__doc__',\n",
       " '__eq__',\n",
       " '__format__',\n",
       " '__ge__',\n",
       " '__getattribute__',\n",
       " '__gt__',\n",
       " '__hash__',\n",
       " '__init__',\n",
       " '__init_subclass__',\n",
       " '__le__',\n",
       " '__lt__',\n",
       " '__module__',\n",
       " '__ne__',\n",
       " '__new__',\n",
       " '__reduce__',\n",
       " '__reduce_ex__',\n",
       " '__repr__',\n",
       " '__setattr__',\n",
       " '__sizeof__',\n",
       " '__str__',\n",
       " '__subclasshook__',\n",
       " '__weakref__',\n",
       " 'addNode',\n",
       " 'getSize',\n",
       " 'head',\n",
       " 'printNodes',\n",
       " 'size']"
      ]
     },
     "execution_count": 13,
     "metadata": {},
     "output_type": "execute_result"
    }
   ],
   "source": [
    "dir(myLL) #사용가능한 메소드 확인하기 "
   ]
  },
  {
   "cell_type": "code",
   "execution_count": 14,
   "metadata": {},
   "outputs": [],
   "source": [
    "#LinkedList"
   ]
  },
  {
   "cell_type": "code",
   "execution_count": 15,
   "metadata": {},
   "outputs": [
    {
     "name": "stdout",
     "output_type": "stream",
     "text": [
      "position : 1 data3\n",
      "position : 2 data10\n",
      "position : 3 data2\n",
      "position : 4 data1\n"
     ]
    }
   ],
   "source": [
    "myLL = LinkedList()\n",
    "myLL.addNode(\"data1\")\n",
    "myLL.addNode(\"data2\")\n",
    "myLL.addNode(\"data10\")\n",
    "myLL.addNode(\"data3\")\n",
    "myLL.printNodes()"
   ]
  },
  {
   "cell_type": "code",
   "execution_count": 16,
   "metadata": {},
   "outputs": [],
   "source": [
    "#pop function"
   ]
  },
  {
   "cell_type": "code",
   "execution_count": 17,
   "metadata": {},
   "outputs": [],
   "source": [
    "class LinkedList:\n",
    "    def __init__(self,head = None):\n",
    "        self.head = head\n",
    "        self.size = 0\n",
    "    def getSize(self):\n",
    "        return self.size\n",
    "    def addNode(self,data):\n",
    "        newNode = Node(data,self.head)\n",
    "        self.head = newNode\n",
    "        self.size += 1\n",
    "        return True\n",
    "    def pop(self):\n",
    "        data = self.head.getData()\n",
    "        self.head = self.head.getNextNode()\n",
    "        return \"data has been popping : \" + str(data)\n",
    "    def printNodes(self):\n",
    "        curr = self.head\n",
    "        pos = 1\n",
    "        while curr:\n",
    "            print(\"position : \" + str(pos) + \" \" + str(curr.data))\n",
    "            pos += 1\n",
    "            curr = curr.getNextNode()"
   ]
  },
  {
   "cell_type": "code",
   "execution_count": 18,
   "metadata": {},
   "outputs": [
    {
     "name": "stdout",
     "output_type": "stream",
     "text": [
      "position : 1 data3\n",
      "position : 2 data10\n",
      "position : 3 data2\n",
      "position : 4 data1\n"
     ]
    }
   ],
   "source": [
    "myLL = LinkedList()\n",
    "myLL.addNode(\"data1\")\n",
    "myLL.addNode(\"data2\")\n",
    "myLL.addNode(\"data10\")\n",
    "myLL.addNode(\"data3\")\n",
    "myLL.printNodes()"
   ]
  },
  {
   "cell_type": "code",
   "execution_count": 19,
   "metadata": {},
   "outputs": [
    {
     "name": "stdout",
     "output_type": "stream",
     "text": [
      "before pop operation \n",
      "position : 1 data3\n",
      "position : 2 data10\n",
      "position : 3 data2\n",
      "position : 4 data1\n",
      "data has been popping : data3\n",
      "after pop operation \n",
      "position : 1 data10\n",
      "position : 2 data2\n",
      "position : 3 data1\n"
     ]
    }
   ],
   "source": [
    "print(\"before pop operation \")\n",
    "myLL.printNodes()\n",
    "a = myLL.pop()\n",
    "print(a)\n",
    "print(\"after pop operation \")\n",
    "myLL.printNodes()"
   ]
  },
  {
   "cell_type": "code",
   "execution_count": 20,
   "metadata": {},
   "outputs": [],
   "source": [
    "#Findnode function = find a node with the given value"
   ]
  },
  {
   "cell_type": "code",
   "execution_count": 30,
   "metadata": {},
   "outputs": [],
   "source": [
    "class LinkedList:\n",
    "    def __init__(self,head = None):\n",
    "        self.head = head\n",
    "        self.size = 0\n",
    "    def getSize(self):\n",
    "        return self.size\n",
    "    def addNode(self,data):\n",
    "        newNode = Node(data,self.head)\n",
    "        self.head = newNode\n",
    "        self.size += 1\n",
    "        return True\n",
    "    def pop(self):\n",
    "        data = self.head.getData()\n",
    "        self.head = self.head.getNextNode()\n",
    "        return \"data has been popping : \" + str(data)\n",
    "    def findNode(self,value):\n",
    "        curr = self.head\n",
    "        while curr:\n",
    "            if curr.getData() == value:\n",
    "                return True\n",
    "            curr = curr.getNextNode()\n",
    "        return False\n",
    "    def printNodes(self):\n",
    "        curr = self.head\n",
    "        pos = 1\n",
    "        while curr:\n",
    "            print(\"position : \" + str(pos) + \" \" + str(curr.data))\n",
    "            pos += 1\n",
    "            curr = curr.getNextNode()"
   ]
  },
  {
   "cell_type": "code",
   "execution_count": 31,
   "metadata": {},
   "outputs": [
    {
     "name": "stdout",
     "output_type": "stream",
     "text": [
      "position : 1 jungwoo\n",
      "position : 2 doyoung\n",
      "position : 3 haechan\n"
     ]
    }
   ],
   "source": [
    "myLL = LinkedList()\n",
    "myLL.addNode(\"haechan\")\n",
    "myLL.addNode(\"doyoung\")\n",
    "myLL.addNode(\"jungwoo\")\n",
    "myLL.printNodes()"
   ]
  },
  {
   "cell_type": "code",
   "execution_count": 32,
   "metadata": {},
   "outputs": [
    {
     "data": {
      "text/plain": [
       "False"
      ]
     },
     "execution_count": 32,
     "metadata": {},
     "output_type": "execute_result"
    }
   ],
   "source": [
    "myLL.findNode(\"mark\")"
   ]
  },
  {
   "cell_type": "code",
   "execution_count": 33,
   "metadata": {},
   "outputs": [
    {
     "data": {
      "text/plain": [
       "True"
      ]
     },
     "execution_count": 33,
     "metadata": {},
     "output_type": "execute_result"
    }
   ],
   "source": [
    "myLL.findNode(\"doyoung\")"
   ]
  },
  {
   "cell_type": "code",
   "execution_count": 34,
   "metadata": {},
   "outputs": [
    {
     "name": "stdout",
     "output_type": "stream",
     "text": [
      "position : 1 jungwoo\n",
      "position : 2 doyoung\n",
      "position : 3 haechan\n"
     ]
    }
   ],
   "source": [
    "myLL.printNodes()"
   ]
  },
  {
   "cell_type": "code",
   "execution_count": 35,
   "metadata": {},
   "outputs": [],
   "source": [
    "#remove a node : 리스트 맨 앞 / 중간의 노드 delete"
   ]
  },
  {
   "cell_type": "code",
   "execution_count": 36,
   "metadata": {},
   "outputs": [],
   "source": [
    "class LinkedList:\n",
    "    def __init__(self, head = None):\n",
    "        self.head = head\n",
    "        self.size = 0\n",
    "    def getSize(self):\n",
    "        return self.size\n",
    "    def addNode(self, data):\n",
    "        newNode = Node(data, self.head)\n",
    "        self.head = newNode\n",
    "        self.size +=1\n",
    "        return True\n",
    "    def pop(self):\n",
    "        data = self.head.getData()\n",
    "        self.head = self.head.getNextNode()\n",
    "        return \"data has been popping : \" + str(data)\n",
    "    def findNode(self,value):\n",
    "        curr = self.head\n",
    "        while curr:\n",
    "            if curr.getData() == value:\n",
    "                return True\n",
    "            curr = curr.getNextNode()\n",
    "        return False\n",
    "    def removeNode(self,value):\n",
    "        prev = None\n",
    "        curr = self.head\n",
    "        while curr:\n",
    "            if curr.getData() == value:\n",
    "                if prev:\n",
    "                    prev.setNextNode(curr.getNextNode())\n",
    "                else:\n",
    "                    self.head = curr.getNextNode()\n",
    "                return True\n",
    "                    \n",
    "            prev = curr\n",
    "            curr = curr.getNextNode() # 못 찾을 때 curr이동시켜준다. \n",
    "            \n",
    "        return False\n",
    "    def printNodes(self):\n",
    "        curr = self.head\n",
    "        pos = 1\n",
    "        while curr:\n",
    "            print(\"position :\"+str(pos) + \"  \" + str(curr.data))\n",
    "            pos += 1\n",
    "            #curr = curr.nextNode  \n",
    "            curr = curr.getNextNode()"
   ]
  },
  {
   "cell_type": "code",
   "execution_count": 39,
   "metadata": {},
   "outputs": [
    {
     "name": "stdout",
     "output_type": "stream",
     "text": [
      "position :1  kim\n",
      "position :2  choi\n",
      "position :3  park\n"
     ]
    }
   ],
   "source": [
    "myLinkedList = LinkedList()\n",
    "myLinkedList.addNode(\"park\")\n",
    "myLinkedList.addNode(\"choi\")\n",
    "myLinkedList.addNode(\"kim\")\n",
    "myLinkedList.printNodes()"
   ]
  },
  {
   "cell_type": "code",
   "execution_count": 40,
   "metadata": {},
   "outputs": [
    {
     "name": "stdout",
     "output_type": "stream",
     "text": [
      "position :1  kim\n",
      "position :2  park\n"
     ]
    }
   ],
   "source": [
    "myLinkedList.removeNode(\"choi\")\n",
    "myLinkedList.printNodes()"
   ]
  },
  {
   "cell_type": "code",
   "execution_count": 37,
   "metadata": {},
   "outputs": [
    {
     "name": "stdout",
     "output_type": "stream",
     "text": [
      "position :1  jungwoo\n",
      "position :2  doyoung\n",
      "position :3  haechan\n"
     ]
    }
   ],
   "source": [
    "link = LinkedList()\n",
    "link.addNode(\"haechan\")\n",
    "link.addNode(\"doyoung\")\n",
    "link.addNode(\"jungwoo\")\n",
    "link.printNodes()"
   ]
  },
  {
   "cell_type": "code",
   "execution_count": 42,
   "metadata": {},
   "outputs": [
    {
     "name": "stdout",
     "output_type": "stream",
     "text": [
      "position :1  jungwoo\n",
      "position :2  haechan\n"
     ]
    }
   ],
   "source": [
    "link.removeNode(\"doyoung\") #?? 한 번 더 확인하기 haechan을 삭제하려고 하면 error발생 ...!\n",
    "link.printNodes()"
   ]
  },
  {
   "cell_type": "code",
   "execution_count": 43,
   "metadata": {},
   "outputs": [
    {
     "data": {
      "text/plain": [
       "False"
      ]
     },
     "execution_count": 43,
     "metadata": {},
     "output_type": "execute_result"
    }
   ],
   "source": [
    "link.removeNode(\"doyoung\")"
   ]
  },
  {
   "cell_type": "code",
   "execution_count": null,
   "metadata": {},
   "outputs": [],
   "source": []
  }
 ],
 "metadata": {
  "kernelspec": {
   "display_name": "Python 3",
   "language": "python",
   "name": "python3"
  },
  "language_info": {
   "codemirror_mode": {
    "name": "ipython",
    "version": 3
   },
   "file_extension": ".py",
   "mimetype": "text/x-python",
   "name": "python",
   "nbconvert_exporter": "python",
   "pygments_lexer": "ipython3",
   "version": "3.7.6"
  }
 },
 "nbformat": 4,
 "nbformat_minor": 4
}

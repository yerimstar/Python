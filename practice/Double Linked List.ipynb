{
 "cells": [
  {
   "cell_type": "code",
   "execution_count": 1,
   "metadata": {},
   "outputs": [],
   "source": [
    "#Node Class"
   ]
  },
  {
   "cell_type": "code",
   "execution_count": 2,
   "metadata": {},
   "outputs": [],
   "source": [
    "class Node:\n",
    "    def __init__(self,data):\n",
    "        self.data = data\n",
    "        self.next = None\n",
    "        self.prev = None\n",
    "    def getData(self):\n",
    "        return self.data\n",
    "    def setData(self,val):\n",
    "        self.data = val\n",
    "    def hasVal(self,val):\n",
    "        return self.data == val\n",
    "    def getNext(self):\n",
    "        return self.next\n",
    "    def setNext(self,node):\n",
    "        if type(node) == Node:\n",
    "            self.next = node\n",
    "            return\n",
    "        elif node is None:\n",
    "            self.next = None\n",
    "        else:\n",
    "            print(\"setNext type error: {} and type is {}\".format(node,type(Node)))\n",
    "    def getPrev(self):\n",
    "        return self.prev\n",
    "    def setPrev(self,node):\n",
    "        if type(node) == Node:\n",
    "            self.prev = node\n",
    "        elif node == None:\n",
    "            self.prev = None\n",
    "        else:\n",
    "            print(\"setPrev type error: {} and type is {}\".format(node,type(Node)))\n",
    "    def __repr__(self):\n",
    "        return \"(data :\" +str(self.data)+ \")\""
   ]
  },
  {
   "cell_type": "code",
   "execution_count": 3,
   "metadata": {},
   "outputs": [],
   "source": [
    "#클래스 인스턴스 확인 방법 - python garbage collection(gc) 활용"
   ]
  },
  {
   "cell_type": "code",
   "execution_count": 4,
   "metadata": {},
   "outputs": [
    {
     "name": "stdout",
     "output_type": "stream",
     "text": [
      "(data :renjun)\n"
     ]
    }
   ],
   "source": [
    "node1 = Node(\"haechan\")\n",
    "node2 = Node(\"renjun\")\n",
    "node1.setNext(node2)\n",
    "print(node1.next)"
   ]
  },
  {
   "cell_type": "code",
   "execution_count": 5,
   "metadata": {},
   "outputs": [
    {
     "name": "stdout",
     "output_type": "stream",
     "text": [
      "(data :haechan)\n",
      "(data :renjun)\n"
     ]
    }
   ],
   "source": [
    "import gc\n",
    "for obj in gc.get_objects():\n",
    "    if isinstance(obj,Node):\n",
    "        print(obj)"
   ]
  },
  {
   "cell_type": "code",
   "execution_count": 6,
   "metadata": {},
   "outputs": [
    {
     "name": "stdout",
     "output_type": "stream",
     "text": [
      "(data :nct127)\n",
      "(data :nctdream)\n",
      "(data :NCT U)\n"
     ]
    }
   ],
   "source": [
    "n1 = Node(\"nct127\")\n",
    "n2 = Node(\"nctdream\")\n",
    "n3 = Node(\"NCT U\")\n",
    "print(n1)\n",
    "print(n2)\n",
    "print(n3)"
   ]
  },
  {
   "cell_type": "code",
   "execution_count": 7,
   "metadata": {},
   "outputs": [
    {
     "name": "stdout",
     "output_type": "stream",
     "text": [
      "(data :nctdream)\n",
      "(data :NCT U)\n",
      "None\n",
      "\n",
      "None\n",
      "(data :nct127)\n",
      "(data :nctdream)\n"
     ]
    }
   ],
   "source": [
    "n1.setNext(n2)\n",
    "n2.setNext(n3)\n",
    "n3.setPrev(n2)\n",
    "n2.setPrev(n1)\n",
    "print(n1.getNext())\n",
    "print(n2.getNext())\n",
    "print(n3.getNext())\n",
    "print()\n",
    "print(n1.getPrev())\n",
    "print(n2.getPrev())\n",
    "print(n3.getPrev())"
   ]
  },
  {
   "cell_type": "code",
   "execution_count": 8,
   "metadata": {},
   "outputs": [],
   "source": [
    "#DoubleLinkedList Class"
   ]
  },
  {
   "cell_type": "code",
   "execution_count": 9,
   "metadata": {},
   "outputs": [],
   "source": [
    "#Add an item at the end of the list"
   ]
  },
  {
   "cell_type": "code",
   "execution_count": 10,
   "metadata": {},
   "outputs": [],
   "source": [
    "class DoubleLinkedList:\n",
    "    def __init__(self):\n",
    "        self.head = None\n",
    "        self.tail = None\n",
    "        self.size = 0\n",
    "    def getSize(self):\n",
    "        return self.size\n",
    "    def addNode(self,data):\n",
    "        \"add an item at the end of the list\"\n",
    "        newNode = Node(data)\n",
    "        if self.head is None:\n",
    "            self.head = newNode\n",
    "            newNode.prev = None\n",
    "            newNode.next = None\n",
    "            self.tail = newNode\n",
    "        else:\n",
    "            self.tail.setNext(newNode)\n",
    "            newNode.setPrev(self.tail)\n",
    "            self.tail = newNode\n",
    "        self.size+=1"
   ]
  },
  {
   "cell_type": "code",
   "execution_count": 11,
   "metadata": {},
   "outputs": [],
   "source": [
    "#DLL print forward and backward"
   ]
  },
  {
   "cell_type": "code",
   "execution_count": 12,
   "metadata": {},
   "outputs": [],
   "source": [
    "class DoubleLinkedList:\n",
    "    def __init__(self):\n",
    "        self.head = None\n",
    "        self.tail = None\n",
    "        self.size = 0\n",
    "    def getSize(self):\n",
    "        return self.size\n",
    "    def addNode(self,data):\n",
    "        \"add an item at the end of the list\"\n",
    "        newNode = Node(data)\n",
    "        if self.head is None:\n",
    "            self.head = newNode\n",
    "            newNode.prev = None\n",
    "            newNode.next = None\n",
    "            self.tail = newNode\n",
    "        else:\n",
    "            self.tail.setNext(newNode)\n",
    "            newNode.setPrev(self.tail)\n",
    "            self.tail = newNode\n",
    "        self.size+=1\n",
    "    def findNode(self,data):\n",
    "        curr = self.head\n",
    "        while curr:\n",
    "            if curr.getData() == data:\n",
    "                return True\n",
    "            curr = curr.getNext()\n",
    "        return False\n",
    "    def removeNode(self,data):\n",
    "        if self.findNode(data) == False:\n",
    "            print(\"Data \"+str(data) + \" is not in the list\")\n",
    "            return\n",
    "        curr = self.head\n",
    "        self.size = self.size -1 # 1개 삭제되니까 size 하나 감소한다.\n",
    "        while curr is not None:\n",
    "            prev = curr.getPrev()\n",
    "            next = curr.getNext()\n",
    "            if curr.getData() == data:\n",
    "                if prev is not None: #중간 노드 삭제 \n",
    "                    prev.setNext(next)\n",
    "                    if next is not None:\n",
    "                        next.setPrev(prev)\n",
    "                    else:\n",
    "                        self.tail = prev \n",
    "                    print(\"Data \"+str(data) + \" is removed\")\n",
    "                else: # 첫 번째 값 삭제 할 때 \n",
    "                    self.head = next\n",
    "                    if next is not None:\n",
    "                        next.setPrev(None)\n",
    "                    else:\n",
    "                        self.tail = prev\n",
    "                    print(\"Data \"+str(data) + \" is removed\")\n",
    "                return\n",
    "            curr = next\n",
    "        \n",
    "            \n",
    "    def printNodes(self):\n",
    "        if self.size == 0:\n",
    "            print(\"The list is empty\")\n",
    "            return\n",
    "        curr = self.head\n",
    "        tail = self.tail\n",
    "        print(\"head = {} and tail = {}, Size = {}\".format(self.head, self.tail, self.size))\n",
    "        pos = 1\n",
    "        while curr:\n",
    "            print(\"position :\"+str(pos) + \"  \" + str(curr.data))\n",
    "            pos += 1\n",
    "            #curr = curr.nextNode  \n",
    "            curr = curr.getNext()\n",
    "    def printNodesReverse(self):\n",
    "        if self.size == 0:\n",
    "            print(\"The list is empty\")\n",
    "            return\n",
    "        curr = self.tail\n",
    "        pos = self.size\n",
    "        \n",
    "        while curr: \n",
    "            print(\"position :\"+str(pos) + \"  \" + str(curr.data))\n",
    "            pos = pos -1\n",
    "            curr = curr.getPrev()"
   ]
  },
  {
   "cell_type": "code",
   "execution_count": 13,
   "metadata": {},
   "outputs": [],
   "source": [
    "#DLL 생성 예시 (1)"
   ]
  },
  {
   "cell_type": "code",
   "execution_count": 14,
   "metadata": {},
   "outputs": [],
   "source": [
    "myDLL = DoubleLinkedList()"
   ]
  },
  {
   "cell_type": "code",
   "execution_count": 15,
   "metadata": {},
   "outputs": [
    {
     "name": "stdout",
     "output_type": "stream",
     "text": [
      "head of myDLL : None\n",
      "The list is empty\n"
     ]
    }
   ],
   "source": [
    "print(\"head of myDLL : {}\".format(myDLL.head))\n",
    "myDLL.printNodes()"
   ]
  },
  {
   "cell_type": "code",
   "execution_count": 16,
   "metadata": {},
   "outputs": [
    {
     "name": "stdout",
     "output_type": "stream",
     "text": [
      "head = (data :doyoung) and tail = (data :doyoung), Size = 1\n",
      "position :1  doyoung\n"
     ]
    }
   ],
   "source": [
    "myDLL.addNode(\"doyoung\")\n",
    "myDLL.printNodes()"
   ]
  },
  {
   "cell_type": "code",
   "execution_count": 17,
   "metadata": {},
   "outputs": [
    {
     "name": "stdout",
     "output_type": "stream",
     "text": [
      "(data :doyoung)\n",
      "(data :doyoung)\n"
     ]
    }
   ],
   "source": [
    "print(myDLL.head)\n",
    "print(myDLL.tail)"
   ]
  },
  {
   "cell_type": "code",
   "execution_count": 18,
   "metadata": {},
   "outputs": [
    {
     "name": "stdout",
     "output_type": "stream",
     "text": [
      "(data :doyoung)\n",
      "None\n",
      "None\n"
     ]
    }
   ],
   "source": [
    "print(myDLL.head)\n",
    "print(myDLL.head.getPrev())\n",
    "print(myDLL.head.getNext())"
   ]
  },
  {
   "cell_type": "code",
   "execution_count": 19,
   "metadata": {},
   "outputs": [],
   "source": [
    "#DLL 생성 예시 (2)"
   ]
  },
  {
   "cell_type": "code",
   "execution_count": 20,
   "metadata": {},
   "outputs": [
    {
     "name": "stdout",
     "output_type": "stream",
     "text": [
      "head = (data :doyoung) and tail = (data :haechan), Size = 2\n",
      "position :1  doyoung\n",
      "position :2  haechan\n",
      "\n",
      "position :2  haechan\n",
      "position :1  doyoung\n"
     ]
    }
   ],
   "source": [
    "myDLL.addNode(\"haechan\")\n",
    "myDLL.printNodes()\n",
    "print()\n",
    "myDLL.printNodesReverse()"
   ]
  },
  {
   "cell_type": "code",
   "execution_count": 21,
   "metadata": {},
   "outputs": [
    {
     "name": "stdout",
     "output_type": "stream",
     "text": [
      "(data :doyoung)\n",
      "(data :haechan)\n"
     ]
    }
   ],
   "source": [
    "print(myDLL.head)\n",
    "print(myDLL.tail)"
   ]
  },
  {
   "cell_type": "code",
   "execution_count": 22,
   "metadata": {},
   "outputs": [
    {
     "name": "stdout",
     "output_type": "stream",
     "text": [
      "(data :doyoung)\n",
      "None\n",
      "(data :haechan)\n"
     ]
    }
   ],
   "source": [
    "print(myDLL.head)\n",
    "print(myDLL.head.getPrev())\n",
    "print(myDLL.head.getNext())"
   ]
  },
  {
   "cell_type": "code",
   "execution_count": 23,
   "metadata": {},
   "outputs": [
    {
     "name": "stdout",
     "output_type": "stream",
     "text": [
      "(data :haechan)\n",
      "(data :doyoung)\n",
      "None\n"
     ]
    }
   ],
   "source": [
    "print(myDLL.tail)\n",
    "print(myDLL.tail.getPrev())\n",
    "print(myDLL.tail.getNext())"
   ]
  },
  {
   "cell_type": "code",
   "execution_count": 24,
   "metadata": {},
   "outputs": [],
   "source": [
    "# DLL의 findNode function - 특정한 노드가 있는 지를 검색 "
   ]
  },
  {
   "cell_type": "code",
   "execution_count": 25,
   "metadata": {},
   "outputs": [
    {
     "name": "stdout",
     "output_type": "stream",
     "text": [
      "(data :haechan)\n",
      "(data :doyoung)\n",
      "None\n"
     ]
    }
   ],
   "source": [
    "print(myDLL.tail)\n",
    "print(myDLL.tail.getPrev())\n",
    "print(myDLL.tail.getNext())"
   ]
  },
  {
   "cell_type": "code",
   "execution_count": 26,
   "metadata": {},
   "outputs": [
    {
     "name": "stdout",
     "output_type": "stream",
     "text": [
      "head = (data :doyoung) and tail = (data :mark), Size = 3\n",
      "position :1  doyoung\n",
      "position :2  haechan\n",
      "position :3  mark\n"
     ]
    }
   ],
   "source": [
    "myDLL.addNode(\"mark\")\n",
    "myDLL.printNodes()"
   ]
  },
  {
   "cell_type": "code",
   "execution_count": 27,
   "metadata": {},
   "outputs": [
    {
     "data": {
      "text/plain": [
       "True"
      ]
     },
     "execution_count": 27,
     "metadata": {},
     "output_type": "execute_result"
    }
   ],
   "source": [
    "myDLL.findNode(\"haechan\") #?? 아니 있는데 왜 안됨,,,?ㅅㅂ.."
   ]
  },
  {
   "cell_type": "code",
   "execution_count": 28,
   "metadata": {},
   "outputs": [
    {
     "data": {
      "text/plain": [
       "False"
      ]
     },
     "execution_count": 28,
     "metadata": {},
     "output_type": "execute_result"
    }
   ],
   "source": [
    "myDLL.findNode(\"renjun\")"
   ]
  },
  {
   "cell_type": "code",
   "execution_count": 29,
   "metadata": {},
   "outputs": [],
   "source": [
    "#DLL에서 중간 노드 remove / DLL에서 앞의 노드 remove"
   ]
  },
  {
   "cell_type": "code",
   "execution_count": 30,
   "metadata": {},
   "outputs": [],
   "source": [
    "#removeNode 예시 (1) - 없는 값을 삭제하려고 할 때 "
   ]
  },
  {
   "cell_type": "code",
   "execution_count": 31,
   "metadata": {},
   "outputs": [
    {
     "name": "stdout",
     "output_type": "stream",
     "text": [
      "head = (data :doyoung) and tail = (data :mark), Size = 3\n",
      "position :1  doyoung\n",
      "position :2  haechan\n",
      "position :3  mark\n",
      "Data renjun is not in the list\n",
      "head = (data :doyoung) and tail = (data :mark), Size = 3\n",
      "position :1  doyoung\n",
      "position :2  haechan\n",
      "position :3  mark\n"
     ]
    }
   ],
   "source": [
    "myDLL.printNodes()\n",
    "myDLL.removeNode(\"renjun\")\n",
    "myDLL.printNodes()"
   ]
  },
  {
   "cell_type": "code",
   "execution_count": 32,
   "metadata": {},
   "outputs": [
    {
     "name": "stdout",
     "output_type": "stream",
     "text": [
      "position :3  mark\n",
      "position :2  haechan\n",
      "position :1  doyoung\n"
     ]
    }
   ],
   "source": [
    "myDLL.printNodesReverse()"
   ]
  },
  {
   "cell_type": "code",
   "execution_count": 33,
   "metadata": {},
   "outputs": [],
   "source": [
    "#removeNode 예시 (2) - 있는 값을 삭제할 때"
   ]
  },
  {
   "cell_type": "code",
   "execution_count": 34,
   "metadata": {},
   "outputs": [
    {
     "name": "stdout",
     "output_type": "stream",
     "text": [
      "head = (data :doyoung) and tail = (data :mark), Size = 3\n",
      "position :1  doyoung\n",
      "position :2  haechan\n",
      "position :3  mark\n",
      "Data mark is removed\n",
      "head = (data :doyoung) and tail = (data :haechan), Size = 2\n",
      "position :1  doyoung\n",
      "position :2  haechan\n",
      "\n",
      "position :2  haechan\n",
      "position :1  doyoung\n"
     ]
    }
   ],
   "source": [
    "myDLL.printNodes()\n",
    "myDLL.removeNode(\"mark\")\n",
    "myDLL.printNodes()\n",
    "print()\n",
    "myDLL.printNodesReverse()"
   ]
  },
  {
   "cell_type": "code",
   "execution_count": 35,
   "metadata": {},
   "outputs": [
    {
     "name": "stdout",
     "output_type": "stream",
     "text": [
      "head = (data :doyoung) and tail = (data :haechan), Size = 2\n",
      "position :1  doyoung\n",
      "position :2  haechan\n",
      "Data doyoung is removed\n",
      "head = (data :haechan) and tail = (data :haechan), Size = 1\n",
      "position :1  haechan\n",
      "\n",
      "position :1  haechan\n"
     ]
    }
   ],
   "source": [
    "myDLL.printNodes()\n",
    "myDLL.removeNode(\"doyoung\")\n",
    "myDLL.printNodes()\n",
    "print()\n",
    "myDLL.printNodesReverse()"
   ]
  },
  {
   "cell_type": "code",
   "execution_count": 36,
   "metadata": {},
   "outputs": [
    {
     "name": "stdout",
     "output_type": "stream",
     "text": [
      "head = (data :haechan) and tail = (data :haechan), Size = 1\n",
      "position :1  haechan\n",
      "Data haechan is removed\n",
      "The list is empty\n",
      "\n",
      "The list is empty\n"
     ]
    }
   ],
   "source": [
    "myDLL.printNodes()\n",
    "myDLL.removeNode(\"haechan\")\n",
    "myDLL.printNodes()\n",
    "print()\n",
    "myDLL.printNodesReverse()"
   ]
  },
  {
   "cell_type": "code",
   "execution_count": null,
   "metadata": {},
   "outputs": [],
   "source": []
  }
 ],
 "metadata": {
  "kernelspec": {
   "display_name": "Python 3",
   "language": "python",
   "name": "python3"
  },
  "language_info": {
   "codemirror_mode": {
    "name": "ipython",
    "version": 3
   },
   "file_extension": ".py",
   "mimetype": "text/x-python",
   "name": "python",
   "nbconvert_exporter": "python",
   "pygments_lexer": "ipython3",
   "version": "3.7.6"
  }
 },
 "nbformat": 4,
 "nbformat_minor": 4
}

{
 "cells": [
  {
   "cell_type": "code",
   "execution_count": 2,
   "metadata": {},
   "outputs": [],
   "source": [
    "#Len = String,List,Tuple,Dictionary의 길이를 확인하는 함수 "
   ]
  },
  {
   "cell_type": "code",
   "execution_count": 3,
   "metadata": {},
   "outputs": [],
   "source": [
    "#len in string,list,tuple,dictionary"
   ]
  },
  {
   "cell_type": "code",
   "execution_count": 5,
   "metadata": {},
   "outputs": [
    {
     "name": "stdout",
     "output_type": "stream",
     "text": [
      "6\n",
      "4\n",
      "3\n",
      "2\n"
     ]
    }
   ],
   "source": [
    "fruit = \"banana\"\n",
    "print(len(fruit))\n",
    "myList = [1,2,[3,4],{\"a\":\"123\"}]\n",
    "print(len(myList))\n",
    "myTuple = (2,3,4)\n",
    "print(len(myTuple))\n",
    "myDict = {\"a\":{\"cell\":\"123\",\"email\":\"a@email\"},\"b\":{\"cell\":222,\"email\":\"b@email\"}}\n",
    "print(len(myDict))"
   ]
  },
  {
   "cell_type": "code",
   "execution_count": 7,
   "metadata": {},
   "outputs": [],
   "source": [
    "#In = string,list,tuple,dictionary에 모두 적용됨"
   ]
  },
  {
   "cell_type": "code",
   "execution_count": 15,
   "metadata": {},
   "outputs": [
    {
     "name": "stdout",
     "output_type": "stream",
     "text": [
      "b a n a n a \n",
      "1 2 [3, 4] {'a': '123'} \n",
      "2 3 4 \n",
      "a b \n",
      "a {'cell': '123', 'email': 'a@email'}\n",
      "b {'cell': 222, 'email': 'b@email'}\n"
     ]
    }
   ],
   "source": [
    "fruit = \"banana\"\n",
    "for letter in fruit:\n",
    "    print(letter,end = \" \") # end에 빈 문자열을 지정하면 다음 번 출력이 바로 뒤에 오게 됨\n",
    "print()\n",
    "myList = [1,2,[3,4],{\"a\":\"123\"}]\n",
    "for ele in myList:\n",
    "    print(ele,end = \" \")\n",
    "print()\n",
    "myTuple = (2,3,4)\n",
    "for ele in myTuple:\n",
    "    print(ele,end = \" \")  \n",
    "print()\n",
    "myDict = {\"a\":{\"cell\":\"123\",\"email\":\"a@email\"},\"b\":{\"cell\":222,\"email\":\"b@email\"}}\n",
    "for ele in myDict:\n",
    "    print(ele,end = \" \") #key값만 리턴해준다\n",
    "print()\n",
    "for i, ele in myDict.items(): #key,value값 모두 리턴해준다.\n",
    "    print(\"{} {}\".format(i,ele))\n"
   ]
  },
  {
   "cell_type": "code",
   "execution_count": 16,
   "metadata": {},
   "outputs": [],
   "source": [
    "#Find, Replace = 특정 패턴을 찾거나 찾은 패턴을 다른 패턴으로 치환하는 경우"
   ]
  },
  {
   "cell_type": "code",
   "execution_count": 17,
   "metadata": {},
   "outputs": [],
   "source": [
    "#Find"
   ]
  },
  {
   "cell_type": "code",
   "execution_count": 22,
   "metadata": {},
   "outputs": [
    {
     "name": "stdout",
     "output_type": "stream",
     "text": [
      "2\n",
      "-1\n"
     ]
    }
   ],
   "source": [
    "fruit = \"banana\"\n",
    "pos = fruit.find(\"na\")\n",
    "print(pos)\n",
    "aa = fruit.find(\"z\") #찾으라고 한 substring이 없는 경우 -1을 리턴해준다. \n",
    "print(aa)"
   ]
  },
  {
   "cell_type": "code",
   "execution_count": 23,
   "metadata": {},
   "outputs": [],
   "source": [
    "#search and replace"
   ]
  },
  {
   "cell_type": "code",
   "execution_count": 28,
   "metadata": {},
   "outputs": [
    {
     "name": "stdout",
     "output_type": "stream",
     "text": [
      "Hello John!\n"
     ]
    }
   ],
   "source": [
    "greet = \"Hello Bob!\"\n",
    "greet1 = greet.replace(\"Bob\",\"John\") #Bob을 찾아서 그 부분을 John으로 바꿔준다. \n",
    "print(greet1)"
   ]
  },
  {
   "cell_type": "code",
   "execution_count": 29,
   "metadata": {},
   "outputs": [],
   "source": [
    "#Strip = Whitespace를 없애는 함수"
   ]
  },
  {
   "cell_type": "code",
   "execution_count": 30,
   "metadata": {},
   "outputs": [],
   "source": [
    "#stripping whitespace and prefix"
   ]
  },
  {
   "cell_type": "code",
   "execution_count": 31,
   "metadata": {},
   "outputs": [
    {
     "name": "stdout",
     "output_type": "stream",
     "text": [
      "  Hello Bob  \n",
      "Hello Bob  \n",
      "  Hello Bob\n",
      "Hello Bob\n"
     ]
    }
   ],
   "source": [
    "greet = \"  Hello Bob  \"\n",
    "print(greet)\n",
    "print(greet.lstrip()) #왼쪽 공백을 없애준다\n",
    "print(greet.rstrip()) #오른쪽 공백을 없애준다\n",
    "print(greet.strip()) #양쪽 모두 공백을 없애준다"
   ]
  },
  {
   "cell_type": "code",
   "execution_count": 35,
   "metadata": {},
   "outputs": [
    {
     "name": "stdout",
     "output_type": "stream",
     "text": [
      "True\n",
      "False\n"
     ]
    }
   ],
   "source": [
    "line = \"Have a good weekend\"\n",
    "print(line.startswith(\"Have\"))\n",
    "print(line.startswith(\"h\"))\n",
    "#startwith() = 어떤 문자로 시작했는지 검사해주는 함수 -> True나 False 값을 리턴한다"
   ]
  },
  {
   "cell_type": "code",
   "execution_count": 36,
   "metadata": {},
   "outputs": [],
   "source": [
    "#Find를 이용한 string parsing"
   ]
  },
  {
   "cell_type": "code",
   "execution_count": 37,
   "metadata": {},
   "outputs": [
    {
     "data": {
      "text/plain": [
       "'\\nstring.find(value,start,end)\\n\\nParameter  Values\\n value     Required.The value to search for\\n start     Optional. Where to start the search. Default is 0     \\n end       Optional. Where to end the search. Default is to the end of the string\\n'"
      ]
     },
     "execution_count": 37,
     "metadata": {},
     "output_type": "execute_result"
    }
   ],
   "source": [
    "\"\"\"\n",
    "string.find(value,start,end)\n",
    "\n",
    "Parameter  Values\n",
    " value     Required.The value to search for\n",
    " start     Optional. Where to start the search. Default is 0     \n",
    " end       Optional. Where to end the search. Default is to the end of the string\n",
    "\"\"\""
   ]
  },
  {
   "cell_type": "code",
   "execution_count": 38,
   "metadata": {},
   "outputs": [],
   "source": [
    "#Find out email address"
   ]
  },
  {
   "cell_type": "code",
   "execution_count": 41,
   "metadata": {},
   "outputs": [
    {
     "name": "stdout",
     "output_type": "stream",
     "text": [
      "4\n",
      "19\n",
      "park@ssu.ac.kr\n"
     ]
    }
   ],
   "source": [
    "data = \"From park@ssu.ac.kr Sat Jan 09:11:44 2019\"\n",
    "atpos = data.find(\" \") #처음 공백이 나오는 위치를 찾는다\n",
    "print(atpos)\n",
    "blankpos = data.find(\" \",atpos+1) #처음 공백이 나온 위치 +1 부터 공백을 또 찾아준다.\n",
    "print(blankpos)\n",
    "print(data[atpos+1:blankpos])"
   ]
  },
  {
   "cell_type": "code",
   "execution_count": 42,
   "metadata": {},
   "outputs": [],
   "source": [
    "#Split : String을 List로 변환"
   ]
  },
  {
   "cell_type": "code",
   "execution_count": 47,
   "metadata": {},
   "outputs": [
    {
     "name": "stdout",
     "output_type": "stream",
     "text": [
      "['Hi!', 'Good', 'morning!']\n"
     ]
    }
   ],
   "source": [
    "greet = \" Hi! Good morning! \"\n",
    "greetList = greet.split() #단어들이 하나씩 잘려서 나온다\n",
    "print(greetList)"
   ]
  },
  {
   "cell_type": "code",
   "execution_count": 49,
   "metadata": {},
   "outputs": [
    {
     "name": "stdout",
     "output_type": "stream",
     "text": [
      "['', 'Hi!', 'Good', 'morning!', '']\n"
     ]
    }
   ],
   "source": [
    "#나의 궁금증\n",
    "greetList2 = greet.split(\" \")\n",
    "print(greetList2)"
   ]
  },
  {
   "cell_type": "code",
   "execution_count": 48,
   "metadata": {},
   "outputs": [
    {
     "name": "stdout",
     "output_type": "stream",
     "text": [
      "['first;second;third']\n",
      "['first', 'second', 'third']\n"
     ]
    }
   ],
   "source": [
    "line = \"first;second;third\"\n",
    "line1 = line.split() #blank로 자르게 된다\n",
    "line2 = line.split(\";\") #\n",
    "print(line1)\n",
    "print(line2)"
   ]
  },
  {
   "cell_type": "code",
   "execution_count": 53,
   "metadata": {},
   "outputs": [
    {
     "name": "stdout",
     "output_type": "stream",
     "text": [
      "From nct@sm.ac.kr Sat Jun 9\n",
      "\n",
      "he [InternetShortcut]\n",
      "\n",
      "URL = http://localhost:127/edit/untitled.txt#\n",
      "\n",
      "told me\n",
      "\n",
      "From yerim@ssu.ac.kr Sun Jan 10\n"
     ]
    }
   ],
   "source": [
    "email = open(\"nct.txt\")\n",
    "for line in email:\n",
    "    print(line) #?? 한 줄씩 출력해준다 + 한 줄 띄어쓰기가 된다...왜 그런걸까?"
   ]
  },
  {
   "cell_type": "code",
   "execution_count": 54,
   "metadata": {},
   "outputs": [
    {
     "name": "stdout",
     "output_type": "stream",
     "text": [
      "['From', 'nct@sm.ac.kr', 'Sat', 'Jun', '9']\n",
      "['From', 'yerim@ssu.ac.kr', 'Sun', 'Jan', '10']\n"
     ]
    }
   ],
   "source": [
    "email = open(\"nct.txt\")\n",
    "for line in email:\n",
    "    line = line.rstrip()\n",
    "    if not line.startswith(\"From\"):\n",
    "        continue  #From으로 시작하지 않으면 다음 Line처리 \n",
    "                  #continue이 실행되면 continue아래에 있는 코드는 실행되지 않고 다음 반복문을 수행하게 된다\n",
    "    emailWord = line.split()\n",
    "    print(emailWord)"
   ]
  },
  {
   "cell_type": "code",
   "execution_count": 56,
   "metadata": {},
   "outputs": [],
   "source": [
    "#Dictionary get() 함수 (1) "
   ]
  },
  {
   "cell_type": "code",
   "execution_count": 59,
   "metadata": {},
   "outputs": [
    {
     "name": "stdout",
     "output_type": "stream",
     "text": [
      "kim is in the dictionary\n",
      "choi is not in the dictionary\n"
     ]
    }
   ],
   "source": [
    "counts = {\"kim\":1,\"park\":2}\n",
    "names = ['kim','choi']\n",
    "for name in names:\n",
    "    if name in counts:\n",
    "        print(name, \"is in the dictionary\")\n",
    "    else:\n",
    "        print(name, \"is not in the dictionary\")\n",
    "        "
   ]
  },
  {
   "cell_type": "code",
   "execution_count": 60,
   "metadata": {},
   "outputs": [
    {
     "name": "stdout",
     "output_type": "stream",
     "text": [
      "{'park': 2, 'kim': 2, 'lee': 2}\n"
     ]
    }
   ],
   "source": [
    "counts = {}\n",
    "names = ['park','kim','lee','park','kim','lee']\n",
    "for name in names:\n",
    "    if name in counts: #counts에 name이 있으면 이미 있는 값에 +1\n",
    "        counts[name] += 1\n",
    "    else: #counts에 name이 없으면 새로 넣고 1을 저장한다. \n",
    "        counts[name] = 1\n",
    "\n",
    "print(counts)"
   ]
  },
  {
   "cell_type": "code",
   "execution_count": 61,
   "metadata": {},
   "outputs": [],
   "source": [
    "#Dictionary get() 함수 (2)"
   ]
  },
  {
   "cell_type": "code",
   "execution_count": 62,
   "metadata": {},
   "outputs": [],
   "source": [
    "#Use get"
   ]
  },
  {
   "cell_type": "code",
   "execution_count": 66,
   "metadata": {},
   "outputs": [
    {
     "name": "stdout",
     "output_type": "stream",
     "text": [
      "{'park': 3, 'kim': 2, 'lee': 2}\n"
     ]
    }
   ],
   "source": [
    "counts = {}\n",
    "names = ['park','kim','lee','park','kim','lee','park']\n",
    "for name in names:\n",
    "    counts[name] = counts.get(name,0) + 1 \n",
    "    #get('no key',default) - 아무값도 없으면 default값을 리턴한다. \n",
    "print(counts)"
   ]
  },
  {
   "cell_type": "code",
   "execution_count": 69,
   "metadata": {},
   "outputs": [
    {
     "name": "stdout",
     "output_type": "stream",
     "text": [
      "Enter a line of texts: \n",
      "this is a first line and that is the second line\n",
      "['this', 'is', 'a', 'first', 'line', 'and', 'that', 'is', 'the', 'second', 'line']\n",
      "{'this': 1, 'is': 2, 'a': 1, 'first': 1, 'line': 2, 'and': 1, 'that': 1, 'the': 1, 'second': 1}\n"
     ]
    }
   ],
   "source": [
    "counts = {}\n",
    "print(\"Enter a line of texts: \")\n",
    "line = input(\"\")\n",
    "words = line.split() #입력받은 값은 단어별로 잘려 list값에 저장된다\n",
    "print(words)\n",
    "for word in words:\n",
    "    counts[word] = counts.get(word,0) + 1\n",
    "print(counts)"
   ]
  },
  {
   "cell_type": "code",
   "execution_count": 70,
   "metadata": {},
   "outputs": [],
   "source": [
    "#immutable tuples and strings"
   ]
  },
  {
   "cell_type": "code",
   "execution_count": 74,
   "metadata": {},
   "outputs": [],
   "source": [
    "x = [1,2,3]\n",
    "y = \"string\"\n",
    "z = (1,2,3) #string과 tuple은 immutable하다\n",
    "x[1] = 100"
   ]
  },
  {
   "cell_type": "code",
   "execution_count": 75,
   "metadata": {},
   "outputs": [
    {
     "ename": "TypeError",
     "evalue": "'str' object does not support item assignment",
     "output_type": "error",
     "traceback": [
      "\u001b[0;31m---------------------------------------------------------------------------\u001b[0m",
      "\u001b[0;31mTypeError\u001b[0m                                 Traceback (most recent call last)",
      "\u001b[0;32m<ipython-input-75-313cb7cefd54>\u001b[0m in \u001b[0;36m<module>\u001b[0;34m\u001b[0m\n\u001b[0;32m----> 1\u001b[0;31m \u001b[0my\u001b[0m\u001b[0;34m[\u001b[0m\u001b[0;36m1\u001b[0m\u001b[0;34m]\u001b[0m \u001b[0;34m=\u001b[0m \u001b[0;34m'c'\u001b[0m\u001b[0;34m\u001b[0m\u001b[0;34m\u001b[0m\u001b[0m\n\u001b[0m",
      "\u001b[0;31mTypeError\u001b[0m: 'str' object does not support item assignment"
     ]
    }
   ],
   "source": [
    "y[1] = 'c'"
   ]
  },
  {
   "cell_type": "code",
   "execution_count": 73,
   "metadata": {},
   "outputs": [
    {
     "ename": "TypeError",
     "evalue": "'tuple' object does not support item assignment",
     "output_type": "error",
     "traceback": [
      "\u001b[0;31m---------------------------------------------------------------------------\u001b[0m",
      "\u001b[0;31mTypeError\u001b[0m                                 Traceback (most recent call last)",
      "\u001b[0;32m<ipython-input-73-b86867b49c70>\u001b[0m in \u001b[0;36m<module>\u001b[0;34m\u001b[0m\n\u001b[0;32m----> 1\u001b[0;31m \u001b[0mz\u001b[0m\u001b[0;34m[\u001b[0m\u001b[0;36m1\u001b[0m\u001b[0;34m]\u001b[0m \u001b[0;34m=\u001b[0m \u001b[0;36m100\u001b[0m\u001b[0;34m\u001b[0m\u001b[0;34m\u001b[0m\u001b[0m\n\u001b[0m",
      "\u001b[0;31mTypeError\u001b[0m: 'tuple' object does not support item assignment"
     ]
    }
   ],
   "source": [
    "z[1] = 100"
   ]
  },
  {
   "cell_type": "code",
   "execution_count": 76,
   "metadata": {},
   "outputs": [],
   "source": [
    "#immutable tuples : use of id()함수 "
   ]
  },
  {
   "cell_type": "code",
   "execution_count": 78,
   "metadata": {},
   "outputs": [
    {
     "name": "stdout",
     "output_type": "stream",
     "text": [
      "(1, 2, 3, 4, 5)\n",
      "[1, 2, 3, 4, 5]\n"
     ]
    }
   ],
   "source": [
    "tup = (1,2,3)\n",
    "tup += (4,5)\n",
    "lst = [1,2,3]\n",
    "lst += [4,5]\n",
    "print(tup)\n",
    "print(lst)"
   ]
  },
  {
   "cell_type": "code",
   "execution_count": 80,
   "metadata": {},
   "outputs": [
    {
     "name": "stdout",
     "output_type": "stream",
     "text": [
      "4571487200\n",
      "4535709776\n"
     ]
    }
   ],
   "source": [
    "tup = (1,2,3)\n",
    "print(id(tup))\n",
    "tup += (4,5) #새로운 tuple이 생긴다\n",
    "print(id(tup))\n",
    "# 2개의 tuple이 생긴다 "
   ]
  },
  {
   "cell_type": "code",
   "execution_count": 82,
   "metadata": {},
   "outputs": [
    {
     "name": "stdout",
     "output_type": "stream",
     "text": [
      "4571537072\n",
      "4571537072\n"
     ]
    }
   ],
   "source": [
    "lst = [1,2,3]\n",
    "print(id(lst))\n",
    "lst += [4,5]\n",
    "print(id(lst))\n",
    "#같은 List이다. "
   ]
  },
  {
   "cell_type": "code",
   "execution_count": 83,
   "metadata": {},
   "outputs": [],
   "source": [
    "#Tuples and Dictionary"
   ]
  },
  {
   "cell_type": "code",
   "execution_count": 90,
   "metadata": {},
   "outputs": [
    {
     "name": "stdout",
     "output_type": "stream",
     "text": [
      "dict_items([('park', 10), ('lee', 20), ('kim', 40)])\n",
      "[('kim', 40), ('lee', 20), ('park', 10)]\n"
     ]
    }
   ],
   "source": [
    "dict = {\"park\":10 , \"lee\": 20, \"kim\":40}\n",
    "dictItems = dict.items() #dictionary가 list of tuple의 형태로 바꾼다.\n",
    "print(dictItems) \n",
    "print(sorted(dictItems)) #sorted()는 원래 list가 바뀌지않는다"
   ]
  },
  {
   "cell_type": "code",
   "execution_count": 91,
   "metadata": {},
   "outputs": [
    {
     "name": "stdout",
     "output_type": "stream",
     "text": [
      "kim 40\n",
      "lee 20\n",
      "park 10\n"
     ]
    }
   ],
   "source": [
    "for a,b in sorted(dictItems): # a = key, b = value\n",
    "    print(a,b)"
   ]
  },
  {
   "cell_type": "code",
   "execution_count": 99,
   "metadata": {},
   "outputs": [
    {
     "name": "stdout",
     "output_type": "stream",
     "text": [
      "[('park', 10), ('lee', 20), ('kim', 40)]\n"
     ]
    }
   ],
   "source": [
    "dict = {\"park\":10 , \"lee\": 20, \"kim\":40}\n",
    "dictItems = dict.items() #dictionary를 list of tuple의 형태로 바꾼다.\n",
    "tmp = [] #비어있는 list \n",
    "for a,b in dictItems:\n",
    "    tmp.append((a,b)) #append는 하나의 argument만 가지고 있어야 한다\n",
    "print(tmp)"
   ]
  },
  {
   "cell_type": "code",
   "execution_count": 103,
   "metadata": {},
   "outputs": [
    {
     "name": "stdout",
     "output_type": "stream",
     "text": [
      "4571610960\n",
      "[('kim', 40), ('lee', 20), ('park', 10)]\n",
      "4572782912\n"
     ]
    }
   ],
   "source": [
    "#id 비교한 내용을 추가해봄 \n",
    "print(id(tmp))\n",
    "tmp = sorted(tmp)  #새로운 tmp를 생성한 것 \n",
    "print(tmp)\n",
    "print(id(tmp)) "
   ]
  },
  {
   "cell_type": "code",
   "execution_count": 100,
   "metadata": {},
   "outputs": [
    {
     "name": "stdout",
     "output_type": "stream",
     "text": [
      "[('kim', 40), ('lee', 20), ('park', 10)]\n",
      "[('park', 10), ('lee', 20), ('kim', 40)]\n"
     ]
    }
   ],
   "source": [
    "#나의 예시\n",
    "print(sorted(tmp))\n",
    "print(tmp)"
   ]
  },
  {
   "cell_type": "code",
   "execution_count": 122,
   "metadata": {},
   "outputs": [
    {
     "name": "stdout",
     "output_type": "stream",
     "text": [
      "Romeo and Juliet Summary\n",
      "\n",
      "An age-old vendatta between two powerful families erupts int tecraching a Capulet party. A young lovesick Romeo Montague father's choice.\n",
      "\n",
      "Romeo father\n",
      "\n",
      "father\n"
     ]
    }
   ],
   "source": [
    "txt = open(\"RomeoJuliet.txt\",'rt',encoding = 'UTF8')\n",
    "for line in txt:\n",
    "    print(line)"
   ]
  },
  {
   "cell_type": "code",
   "execution_count": 123,
   "metadata": {},
   "outputs": [
    {
     "name": "stdout",
     "output_type": "stream",
     "text": [
      "['Romeo', 'and', 'Juliet', 'Summary']\n",
      "['An', 'age-old', 'vendatta', 'between', 'two', 'powerful', 'families', 'erupts', 'int', 'tecraching', 'a', 'Capulet', 'party.', 'A', 'young', 'lovesick', 'Romeo', 'Montague', \"father's\", 'choice.']\n",
      "['Romeo', 'father']\n",
      "['father']\n"
     ]
    }
   ],
   "source": [
    "txt = open(\"RomeoJuliet.txt\",'rt',encoding = 'UTF8')\n",
    "for line in txt:\n",
    "    words = line.split() #list로 변한다\n",
    "    print(words)"
   ]
  },
  {
   "cell_type": "code",
   "execution_count": 124,
   "metadata": {},
   "outputs": [],
   "source": [
    "#word counting : dictionary, list, tuple (2)"
   ]
  },
  {
   "cell_type": "code",
   "execution_count": 125,
   "metadata": {},
   "outputs": [
    {
     "name": "stdout",
     "output_type": "stream",
     "text": [
      "{'Romeo': 3, 'and': 1, 'Juliet': 1, 'Summary': 1, 'An': 1, 'age-old': 1, 'vendatta': 1, 'between': 1, 'two': 1, 'powerful': 1, 'families': 1, 'erupts': 1, 'int': 1, 'tecraching': 1, 'a': 1, 'Capulet': 1, 'party.': 1, 'A': 1, 'young': 1, 'lovesick': 1, 'Montague': 1, \"father's\": 1, 'choice.': 1, 'father': 2}\n"
     ]
    }
   ],
   "source": [
    "txt = open(\"RomeoJuliet.txt\",'rt',encoding = 'UTF8')\n",
    "dict = {}\n",
    "for line in txt:\n",
    "    words = line.split() #list로 변한다\n",
    "    for word in words:\n",
    "        dict[word] = dict.get(word,0)+1\n",
    "print(dict)"
   ]
  },
  {
   "cell_type": "code",
   "execution_count": 126,
   "metadata": {},
   "outputs": [
    {
     "name": "stdout",
     "output_type": "stream",
     "text": [
      "[(3, 'Romeo'), (1, 'and'), (1, 'Juliet'), (1, 'Summary'), (1, 'An'), (1, 'age-old'), (1, 'vendatta'), (1, 'between'), (1, 'two'), (1, 'powerful'), (1, 'families'), (1, 'erupts'), (1, 'int'), (1, 'tecraching'), (1, 'a'), (1, 'Capulet'), (1, 'party.'), (1, 'A'), (1, 'young'), (1, 'lovesick'), (1, 'Montague'), (1, \"father's\"), (1, 'choice.'), (2, 'father')]\n"
     ]
    }
   ],
   "source": [
    "txt = open(\"RomeoJuliet.txt\",'rt',encoding = 'UTF8')\n",
    "dict = {}\n",
    "for line in txt:\n",
    "    words = line.split() #list로 변한다\n",
    "    for word in words:\n",
    "        dict[word] = dict.get(word,0)+1 # dict에 값을 넣어준다 \n",
    "lst = [(v,k) for k,v in dict.items()] #list로 다시 변환해준다.\n",
    "print(lst)"
   ]
  },
  {
   "cell_type": "code",
   "execution_count": 127,
   "metadata": {},
   "outputs": [],
   "source": [
    "#word counting : dictionary, list, tuple (3)"
   ]
  },
  {
   "cell_type": "code",
   "execution_count": 128,
   "metadata": {},
   "outputs": [
    {
     "name": "stdout",
     "output_type": "stream",
     "text": [
      "[(3, 'Romeo'), (2, 'father'), (1, 'young'), (1, 'vendatta'), (1, 'two'), (1, 'tecraching'), (1, 'powerful'), (1, 'party.'), (1, 'lovesick'), (1, 'int'), (1, \"father's\"), (1, 'families'), (1, 'erupts'), (1, 'choice.'), (1, 'between'), (1, 'and'), (1, 'age-old'), (1, 'a'), (1, 'Summary'), (1, 'Montague'), (1, 'Juliet'), (1, 'Capulet'), (1, 'An'), (1, 'A')]\n"
     ]
    }
   ],
   "source": [
    "txt = open(\"RomeoJuliet.txt\",'rt',encoding = 'UTF8')\n",
    "dict = {}\n",
    "for line in txt:\n",
    "    words = line.split() #list로 변한다\n",
    "    for word in words:\n",
    "        dict[word] = dict.get(word,0)+1 # dict에 값을 넣어준다 \n",
    "lst = [(v,k) for k,v in dict.items()] #list로 다시 변환해준다.\n",
    "lst = sorted(lst,reverse = True) #내림차순으로 sorting한다 \n",
    "                                 # -> 가장 많이 나온 단어를 알 수 있음 \n",
    "print(lst)"
   ]
  },
  {
   "cell_type": "code",
   "execution_count": null,
   "metadata": {},
   "outputs": [],
   "source": []
  },
  {
   "cell_type": "code",
   "execution_count": null,
   "metadata": {},
   "outputs": [],
   "source": []
  }
 ],
 "metadata": {
  "kernelspec": {
   "display_name": "Python 3",
   "language": "python",
   "name": "python3"
  },
  "language_info": {
   "codemirror_mode": {
    "name": "ipython",
    "version": 3
   },
   "file_extension": ".py",
   "mimetype": "text/x-python",
   "name": "python",
   "nbconvert_exporter": "python",
   "pygments_lexer": "ipython3",
   "version": "3.7.6"
  }
 },
 "nbformat": 4,
 "nbformat_minor": 4
}

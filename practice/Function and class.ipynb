{
 "cells": [
  {
   "cell_type": "code",
   "execution_count": 1,
   "metadata": {},
   "outputs": [
    {
     "data": {
      "text/plain": [
       "'\\ndef function_name():\\n    #some code -> return문이 있어도 되고 없어도 된다\\n'"
      ]
     },
     "execution_count": 1,
     "metadata": {},
     "output_type": "execute_result"
    }
   ],
   "source": [
    "\"\"\"\n",
    "def function_name():\n",
    "    #some code -> return문이 있어도 되고 없어도 된다\n",
    "\"\"\""
   ]
  },
  {
   "cell_type": "code",
   "execution_count": 2,
   "metadata": {},
   "outputs": [
    {
     "name": "stdout",
     "output_type": "stream",
     "text": [
      "This computer is running on version Everest Puma\n",
      "This is your desktop\n"
     ]
    }
   ],
   "source": [
    "def about_this_computer():\n",
    "    print(\"This computer is running on version Everest Puma\")\n",
    "    print(\"This is your desktop\")\n",
    "\n",
    "about_this_computer()"
   ]
  },
  {
   "cell_type": "code",
   "execution_count": 3,
   "metadata": {},
   "outputs": [],
   "source": [
    "#some change"
   ]
  },
  {
   "cell_type": "code",
   "execution_count": 4,
   "metadata": {},
   "outputs": [
    {
     "name": "stdout",
     "output_type": "stream",
     "text": [
      "This is your desktop\n",
      "This computer is running on version Everest Puma\n"
     ]
    }
   ],
   "source": [
    "def about_this_computer():\n",
    "    print(\"This computer is running on version Everest Puma\")\n",
    "print(\"This is your desktop\")\n",
    "\n",
    "about_this_computer()  #python은 indentation이 중요한 언어이다. "
   ]
  },
  {
   "cell_type": "code",
   "execution_count": 5,
   "metadata": {},
   "outputs": [],
   "source": [
    "#Parameters"
   ]
  },
  {
   "cell_type": "code",
   "execution_count": 6,
   "metadata": {},
   "outputs": [
    {
     "name": "stdout",
     "output_type": "stream",
     "text": [
      "Welcome to Stu's Staples.\n",
      "Our special is papayas.\n",
      "Have fun shopping!\n"
     ]
    }
   ],
   "source": [
    "def greet_customer(grocery_store,special_item):\n",
    "    print(\"Welcome to \"+ grocery_store+ \".\")\n",
    "    print(\"Our special is \"+ special_item + \".\")\n",
    "    print(\"Have fun shopping!\")\n",
    "\n",
    "greet_customer(\"Stu's Staples\",\"papayas\")"
   ]
  },
  {
   "cell_type": "code",
   "execution_count": 7,
   "metadata": {},
   "outputs": [
    {
     "name": "stdout",
     "output_type": "stream",
     "text": [
      "13\n"
     ]
    }
   ],
   "source": [
    "def mult_x_add_y(number,x,y):\n",
    "    print(number*x+y)\n",
    "\n",
    "mult_x_add_y(5,2,3)"
   ]
  },
  {
   "cell_type": "code",
   "execution_count": 8,
   "metadata": {},
   "outputs": [],
   "source": [
    "#Keyword and Default arguments"
   ]
  },
  {
   "cell_type": "code",
   "execution_count": 9,
   "metadata": {},
   "outputs": [
    {
     "name": "stdout",
     "output_type": "stream",
     "text": [
      "Welcome to Stu's Staples.\n",
      "Our special is chips and salsa.\n",
      "Have fun shopping!\n"
     ]
    }
   ],
   "source": [
    "def greet_customer(grocery_store,special_item):\n",
    "    print(\"Welcome to \"+ grocery_store+ \".\")\n",
    "    print(\"Our special is \"+ special_item + \".\")\n",
    "    print(\"Have fun shopping!\")\n",
    "    \n",
    "greet_customer(special_item = \"chips and salsa\", grocery_store = \"Stu's Staples\")\n",
    "#입력하는 순서가 달라도 변수를 설정해서 입력하면 제대로 들어간다. "
   ]
  },
  {
   "cell_type": "code",
   "execution_count": 10,
   "metadata": {},
   "outputs": [
    {
     "name": "stdout",
     "output_type": "stream",
     "text": [
      "Creating a spreadsheet called Downloads 1000 rows.\n"
     ]
    }
   ],
   "source": [
    "def create_spreadsheet(title, row_count = 1000):\n",
    "    print(\"Creating a spreadsheet called \" +title+ \" \"+str(row_count) + \" rows.\")\n",
    "\n",
    "create_spreadsheet(\"Downloads\")\n",
    "\n",
    "# 입력값의 개수가 다르면 error발생\n",
    "# -> 따라서, default값을 적어줘야 한다. "
   ]
  },
  {
   "cell_type": "code",
   "execution_count": 11,
   "metadata": {},
   "outputs": [
    {
     "name": "stdout",
     "output_type": "stream",
     "text": [
      "Creating a spreadsheet called Application 10 rows.\n"
     ]
    }
   ],
   "source": [
    "def create_spreadsheet(title, row_count = 1000):\n",
    "    print(\"Creating a spreadsheet called \" +title+ \" \"+str(row_count) + \" rows.\")\n",
    "\n",
    "create_spreadsheet(\"Application\",10)\n",
    "#입력값의 개수가 맞으면 default값이 아니라 입력된 값이 전달된다"
   ]
  },
  {
   "cell_type": "code",
   "execution_count": 12,
   "metadata": {},
   "outputs": [],
   "source": [
    "#Return"
   ]
  },
  {
   "cell_type": "code",
   "execution_count": 13,
   "metadata": {},
   "outputs": [
    {
     "name": "stdout",
     "output_type": "stream",
     "text": [
      "16 divided by 4 is 4.0!\n",
      "4.0 divided by 4 is 1.0!\n"
     ]
    }
   ],
   "source": [
    "def divide_by_four(input_number):\n",
    "    return input_number/4\n",
    "\n",
    "result = divide_by_four(16)\n",
    "# result now holds 4 -> return값이 result에 저장된다\n",
    "print(\"16 divided by 4 is \" + str(result) + \"!\")\n",
    "# string + int 는 불가능하다 -> type 변환과정이 필요하다\n",
    "result2 = divide_by_four(result)\n",
    "print(str(result) + \" divided by 4 is \" + str(result2) + \"!\")"
   ]
  },
  {
   "cell_type": "code",
   "execution_count": 14,
   "metadata": {},
   "outputs": [],
   "source": [
    "#여러 개 return 가능"
   ]
  },
  {
   "cell_type": "code",
   "execution_count": 15,
   "metadata": {},
   "outputs": [
    {
     "name": "stdout",
     "output_type": "stream",
     "text": [
      "1\n",
      "9\n"
     ]
    }
   ],
   "source": [
    "def square_point(x_value,y_value):\n",
    "    x_2 = x_value * x_value\n",
    "    y_2 = y_value * y_value\n",
    "    return x_2, y_2\n",
    "\n",
    "x_squared,y_squared = square_point(1,3) \n",
    "#x_squared에는 x_2값이, y_squared에는 y_2값이 저장된다\n",
    "print(x_squared)\n",
    "print(y_squared)"
   ]
  },
  {
   "cell_type": "code",
   "execution_count": 16,
   "metadata": {},
   "outputs": [],
   "source": [
    "#Scope"
   ]
  },
  {
   "cell_type": "code",
   "execution_count": 18,
   "metadata": {},
   "outputs": [
    {
     "ename": "NameError",
     "evalue": "name 'special_item' is not defined",
     "output_type": "error",
     "traceback": [
      "\u001b[0;31m---------------------------------------------------------------------------\u001b[0m",
      "\u001b[0;31mNameError\u001b[0m                                 Traceback (most recent call last)",
      "\u001b[0;32m<ipython-input-18-3c8afaf8902e>\u001b[0m in \u001b[0;36m<module>\u001b[0;34m\u001b[0m\n\u001b[1;32m      2\u001b[0m     \u001b[0;32mreturn\u001b[0m \u001b[0;34m\"Our special is \"\u001b[0m\u001b[0;34m+\u001b[0m \u001b[0mspecial_item\u001b[0m \u001b[0;34m+\u001b[0m \u001b[0;34m\".\"\u001b[0m\u001b[0;34m\u001b[0m\u001b[0;34m\u001b[0m\u001b[0m\n\u001b[1;32m      3\u001b[0m \u001b[0;34m\u001b[0m\u001b[0m\n\u001b[0;32m----> 4\u001b[0;31m \u001b[0mprint\u001b[0m\u001b[0;34m(\u001b[0m\u001b[0;34m\"I don't like \"\u001b[0m\u001b[0;34m+\u001b[0m \u001b[0mspecial_item\u001b[0m\u001b[0;34m)\u001b[0m\u001b[0;34m\u001b[0m\u001b[0;34m\u001b[0m\u001b[0m\n\u001b[0m\u001b[1;32m      5\u001b[0m \u001b[0;31m#special_item은 함수 내부에서만 선언되어 있다.\u001b[0m\u001b[0;34m\u001b[0m\u001b[0;34m\u001b[0m\u001b[0;34m\u001b[0m\u001b[0m\n\u001b[1;32m      6\u001b[0m \u001b[0;31m#-> scope가 function 내부에서만 된다 -> error발생\u001b[0m\u001b[0;34m\u001b[0m\u001b[0;34m\u001b[0m\u001b[0;34m\u001b[0m\u001b[0m\n",
      "\u001b[0;31mNameError\u001b[0m: name 'special_item' is not defined"
     ]
    }
   ],
   "source": [
    "def create_special_string(special_item):\n",
    "    return \"Our special is \"+ special_item + \".\"\n",
    "\n",
    "print(\"I don't like \"+ special_item)\n",
    "#special_item은 함수 내부에서만 선언되어 있다. \n",
    "#-> scope가 function 내부에서만 된다 -> error발생"
   ]
  },
  {
   "cell_type": "code",
   "execution_count": 19,
   "metadata": {},
   "outputs": [
    {
     "name": "stdout",
     "output_type": "stream",
     "text": [
      "Our special is grapes.\n"
     ]
    }
   ],
   "source": [
    "header_string = \"Our special is\"\n",
    "\n",
    "def crete_special_string(special_item):\n",
    "    return header_string + special_item + \".\"\n",
    "print(create_special_string(\"grapes\"))"
   ]
  },
  {
   "cell_type": "code",
   "execution_count": 20,
   "metadata": {},
   "outputs": [],
   "source": [
    "#Class and Class Variable"
   ]
  },
  {
   "cell_type": "code",
   "execution_count": 21,
   "metadata": {},
   "outputs": [
    {
     "data": {
      "text/plain": [
       "\"\\n1. When we want the same data to be available to every instance\\n   of a class we use a class variable.\\n2. A class variable is a variable that's the same for every instance.\\n\""
      ]
     },
     "execution_count": 21,
     "metadata": {},
     "output_type": "execute_result"
    }
   ],
   "source": [
    "\"\"\"\n",
    "1. When we want the same data to be available to every instance\n",
    "   of a class we use a class variable.\n",
    "2. A class variable is a variable that's the same for every instance.\n",
    "\"\"\""
   ]
  },
  {
   "cell_type": "code",
   "execution_count": 22,
   "metadata": {},
   "outputs": [
    {
     "name": "stdout",
     "output_type": "stream",
     "text": [
      "Rockstar\n",
      "Rockstar\n",
      "<class '__main__.Musician'>\n",
      "<class '__main__.Musician'>\n"
     ]
    }
   ],
   "source": [
    "class Musician():\n",
    "    title = \"Rockstar\"\n",
    "\n",
    "drummer = Musician()\n",
    "guitarist = Musician()\n",
    "print(drummer.title)\n",
    "print(guitarist.title)\n",
    "print(type(drummer))\n",
    "print(type(guitarist))"
   ]
  },
  {
   "cell_type": "code",
   "execution_count": 23,
   "metadata": {},
   "outputs": [],
   "source": [
    "#Constructors : double under = dunder"
   ]
  },
  {
   "cell_type": "code",
   "execution_count": 24,
   "metadata": {},
   "outputs": [
    {
     "name": "stdout",
     "output_type": "stream",
     "text": [
      "Hello?!\n",
      "Hello?!\n"
     ]
    }
   ],
   "source": [
    "class Shouter():\n",
    "    def __init__(self): #__init__ : instance를 만들때마다 자동적으로 실행된다\n",
    "        print(\"Hello?!\")\n",
    "shout1 = Shouter()\n",
    "shout2 = Shouter()"
   ]
  },
  {
   "cell_type": "code",
   "execution_count": 25,
   "metadata": {},
   "outputs": [],
   "source": [
    "#constructor with parameters"
   ]
  },
  {
   "cell_type": "code",
   "execution_count": 26,
   "metadata": {},
   "outputs": [
    {
     "name": "stdout",
     "output_type": "stream",
     "text": [
      "SHOUT\n"
     ]
    }
   ],
   "source": [
    "class Shouter():\n",
    "    def __init__(self,phrase):\n",
    "        if type(phrase) == str:\n",
    "            print(phrase.upper())\n",
    "            \n",
    "shout1 = Shouter(\"shout\")"
   ]
  },
  {
   "cell_type": "code",
   "execution_count": 27,
   "metadata": {},
   "outputs": [],
   "source": [
    "#Methods and self"
   ]
  },
  {
   "cell_type": "code",
   "execution_count": 28,
   "metadata": {},
   "outputs": [
    {
     "name": "stdout",
     "output_type": "stream",
     "text": [
      "Dogs experience 7 years for every 1 human year.\n"
     ]
    }
   ],
   "source": [
    "class Dog():\n",
    "    dog_time_dilation = 7 #시간 지연\n",
    "    \n",
    "    def time_explanation(self): #self\n",
    "        print(\"Dogs experience {} years for every 1 human year.\".format(self.dog_time_dilation))\n",
    "\n",
    "pipi = Dog()\n",
    "#print(pipi.dog_time_dilation)\n",
    "pipi.time_explanation() # no argument"
   ]
  },
  {
   "cell_type": "code",
   "execution_count": 29,
   "metadata": {},
   "outputs": [
    {
     "name": "stdout",
     "output_type": "stream",
     "text": [
      "Point bristles towards the basin while washing your brushes.\n"
     ]
    }
   ],
   "source": [
    "class Rules():\n",
    "    def washing_brushes(self):\n",
    "        print(\"Point bristles towards the basin while washing your brushes.\")\n",
    "\n",
    "rule = Rules()\n",
    "rule.washing_brushes()"
   ]
  },
  {
   "cell_type": "code",
   "execution_count": 30,
   "metadata": {},
   "outputs": [],
   "source": [
    "#self"
   ]
  },
  {
   "cell_type": "code",
   "execution_count": 33,
   "metadata": {},
   "outputs": [
    {
     "name": "stdout",
     "output_type": "stream",
     "text": [
      "www.ssu.ac.kr\n",
      "ailab.ssu.ac.kr\n"
     ]
    }
   ],
   "source": [
    "class Entry:\n",
    "    def __init__(self,url):\n",
    "        self.url = url\n",
    "\n",
    "soongsil = Entry(\"www.ssu.ac.kr\")\n",
    "ailab = Entry(\"ailab.ssu.ac.kr\")\n",
    "\n",
    "print(soongsil.url)\n",
    "print(ailab.url)"
   ]
  },
  {
   "cell_type": "code",
   "execution_count": 36,
   "metadata": {},
   "outputs": [
    {
     "name": "stdout",
     "output_type": "stream",
     "text": [
      "https://www.ssu.ac.kr\n",
      "https://ailab.ssu.ac.kr\n"
     ]
    }
   ],
   "source": [
    "class Entry:\n",
    "    prefix = \"https://\"\n",
    "    def __init__(self,url):\n",
    "        self.url = Entry.prefix + url #Entry = class이름 \n",
    "\n",
    "soongsil = Entry(\"www.ssu.ac.kr\")\n",
    "ailab = Entry(\"ailab.ssu.ac.kr\")\n",
    "\n",
    "print(soongsil.url)\n",
    "print(ailab.url)    "
   ]
  },
  {
   "cell_type": "code",
   "execution_count": 42,
   "metadata": {},
   "outputs": [
    {
     "name": "stdout",
     "output_type": "stream",
     "text": [
      "Creating circle with diameter 10\n",
      "Creating circle with diameter 12\n",
      "Creating circle with diameter 36\n",
      "Creating circle with diameter 11460\n"
     ]
    }
   ],
   "source": [
    "class Circle:\n",
    "    pi = 3.14\n",
    "    def __init__(self,diameter):\n",
    "        print(\"Creating circle with diameter {}\".format(diameter))\n",
    "        self.radius = diameter/2.\n",
    "    def circumference(self): # self = 생성된 객체의 이름 \n",
    "        return 2*Circle.pi*self.radius\n",
    "\n",
    "circle = Circle(10)\n",
    "medium_pizza = Circle(12)\n",
    "teaching_table = Circle(36)\n",
    "round_room = Circle(11460)"
   ]
  },
  {
   "cell_type": "code",
   "execution_count": 44,
   "metadata": {},
   "outputs": [
    {
     "name": "stdout",
     "output_type": "stream",
     "text": [
      "31.400000000000002\n",
      "37.68\n",
      "113.04\n",
      "35984.4\n"
     ]
    }
   ],
   "source": [
    "print(circle.circumference())\n",
    "print(medium_pizza.circumference())\n",
    "print(teaching_table.circumference())\n",
    "print(round_room.circumference())"
   ]
  },
  {
   "cell_type": "code",
   "execution_count": 45,
   "metadata": {},
   "outputs": [],
   "source": [
    "#Variable Scope"
   ]
  },
  {
   "cell_type": "code",
   "execution_count": 48,
   "metadata": {},
   "outputs": [
    {
     "name": "stdout",
     "output_type": "stream",
     "text": [
      "78.5\n"
     ]
    }
   ],
   "source": [
    "class Circle():\n",
    "    pi = 3.14\n",
    "    def area(self,radius):\n",
    "        return Circle.pi * radius ** 2\n",
    "\n",
    "circle = Circle()\n",
    "#print(circle.pi)\n",
    "print(circle.area(5))"
   ]
  },
  {
   "cell_type": "code",
   "execution_count": 52,
   "metadata": {},
   "outputs": [
    {
     "ename": "NameError",
     "evalue": "name 'pi' is not defined",
     "output_type": "error",
     "traceback": [
      "\u001b[0;31m---------------------------------------------------------------------------\u001b[0m",
      "\u001b[0;31mNameError\u001b[0m                                 Traceback (most recent call last)",
      "\u001b[0;32m<ipython-input-52-759795161899>\u001b[0m in \u001b[0;36m<module>\u001b[0;34m\u001b[0m\n\u001b[1;32m      5\u001b[0m \u001b[0;34m\u001b[0m\u001b[0m\n\u001b[1;32m      6\u001b[0m \u001b[0mcircle1\u001b[0m \u001b[0;34m=\u001b[0m \u001b[0mCircle1\u001b[0m\u001b[0;34m(\u001b[0m\u001b[0;34m)\u001b[0m\u001b[0;34m\u001b[0m\u001b[0;34m\u001b[0m\u001b[0m\n\u001b[0;32m----> 7\u001b[0;31m \u001b[0mprint\u001b[0m\u001b[0;34m(\u001b[0m\u001b[0mcircle1\u001b[0m\u001b[0;34m.\u001b[0m\u001b[0marea\u001b[0m\u001b[0;34m(\u001b[0m\u001b[0;36m5\u001b[0m\u001b[0;34m)\u001b[0m\u001b[0;34m)\u001b[0m\u001b[0;34m\u001b[0m\u001b[0;34m\u001b[0m\u001b[0m\n\u001b[0m",
      "\u001b[0;32m<ipython-input-52-759795161899>\u001b[0m in \u001b[0;36marea\u001b[0;34m(self, radius)\u001b[0m\n\u001b[1;32m      2\u001b[0m     \u001b[0mpi\u001b[0m \u001b[0;34m=\u001b[0m \u001b[0;36m3.14\u001b[0m\u001b[0;34m\u001b[0m\u001b[0;34m\u001b[0m\u001b[0m\n\u001b[1;32m      3\u001b[0m     \u001b[0;32mdef\u001b[0m \u001b[0marea\u001b[0m\u001b[0;34m(\u001b[0m\u001b[0mself\u001b[0m\u001b[0;34m,\u001b[0m\u001b[0mradius\u001b[0m\u001b[0;34m)\u001b[0m\u001b[0;34m:\u001b[0m\u001b[0;34m\u001b[0m\u001b[0;34m\u001b[0m\u001b[0m\n\u001b[0;32m----> 4\u001b[0;31m         \u001b[0;32mreturn\u001b[0m \u001b[0mpi\u001b[0m \u001b[0;34m*\u001b[0m \u001b[0mradius\u001b[0m \u001b[0;34m**\u001b[0m \u001b[0;36m2\u001b[0m \u001b[0;31m#Circle1.pi로 해줘야한다.\u001b[0m\u001b[0;34m\u001b[0m\u001b[0;34m\u001b[0m\u001b[0m\n\u001b[0m\u001b[1;32m      5\u001b[0m \u001b[0;34m\u001b[0m\u001b[0m\n\u001b[1;32m      6\u001b[0m \u001b[0mcircle1\u001b[0m \u001b[0;34m=\u001b[0m \u001b[0mCircle1\u001b[0m\u001b[0;34m(\u001b[0m\u001b[0;34m)\u001b[0m\u001b[0;34m\u001b[0m\u001b[0;34m\u001b[0m\u001b[0m\n",
      "\u001b[0;31mNameError\u001b[0m: name 'pi' is not defined"
     ]
    }
   ],
   "source": [
    "class Circle1():\n",
    "    pi = 3.14\n",
    "    def area(self,radius):\n",
    "        return pi * radius ** 2 #Circle1.pi로 해줘야한다. \n",
    "\n",
    "circle1 = Circle1()\n",
    "print(circle1.area(5))"
   ]
  },
  {
   "cell_type": "code",
   "execution_count": 53,
   "metadata": {},
   "outputs": [
    {
     "name": "stdout",
     "output_type": "stream",
     "text": [
      "78.5\n"
     ]
    }
   ],
   "source": [
    "class Circle11():\n",
    "    pi = 3.14\n",
    "    def area(self,radius):\n",
    "        return self.pi * radius ** 2 #self.pi = circle11.pi\n",
    "\n",
    "circle11 = Circle11()\n",
    "print(circle11.area(5))"
   ]
  },
  {
   "cell_type": "code",
   "execution_count": 54,
   "metadata": {},
   "outputs": [
    {
     "name": "stdout",
     "output_type": "stream",
     "text": [
      "78.5\n"
     ]
    }
   ],
   "source": [
    "class Circle2():\n",
    "    pi = 3.14\n",
    "    def area(self,radius):\n",
    "        return Circle2.pi * radius ** 2 \n",
    "\n",
    "circle2 = Circle2()\n",
    "print(circle2.area(5))"
   ]
  },
  {
   "cell_type": "code",
   "execution_count": 60,
   "metadata": {},
   "outputs": [
    {
     "name": "stdout",
     "output_type": "stream",
     "text": [
      "78.5\n"
     ]
    }
   ],
   "source": [
    "#가장 많이 사용한다. \n",
    "class Circle3():\n",
    "    pi = 3.14\n",
    "    def area(self,radius):\n",
    "        self.radius = radius\n",
    "        return Circle3.pi * self.radius ** 2 \n",
    "\n",
    "circle3 = Circle3()\n",
    "print(circle3.area(5))\n",
    "#print(circle3.radius)"
   ]
  },
  {
   "cell_type": "code",
   "execution_count": 61,
   "metadata": {},
   "outputs": [],
   "source": [
    "#Instance Variable"
   ]
  },
  {
   "cell_type": "code",
   "execution_count": 63,
   "metadata": {},
   "outputs": [
    {
     "name": "stdout",
     "output_type": "stream",
     "text": [
      "<class 'type'> This works\n",
      "<class '__main__.FakeDict'> This too\n"
     ]
    }
   ],
   "source": [
    "class FakeDict():\n",
    "    pass\n",
    "\n",
    "fake_dict1 = FakeDict #not good  -> FakeDict()이렇게 쓰는게 더 낫다\n",
    "fake_dict1.fake_key = \"This works\"\n",
    "fake_dict2 = FakeDict()\n",
    "fake_dict2.fake_key = \"This too\"\n",
    "\n",
    "print(type(fake_dict1),fake_dict1.fake_key)\n",
    "print(type(fake_dict2),fake_dict2.fake_key)"
   ]
  },
  {
   "cell_type": "code",
   "execution_count": 65,
   "metadata": {},
   "outputs": [
    {
     "name": "stdout",
     "output_type": "stream",
     "text": [
      "This works\n",
      "This too\n",
      "<class '__main__.FakeDict'>\n",
      "<class '__main__.FakeDict'>\n"
     ]
    }
   ],
   "source": [
    "fake_dict1 = FakeDict()\n",
    "fake_dict1.fake_key = \"This works\"\n",
    "fake_dict2 = FakeDict()\n",
    "fake_dict2.fake_key = \"This too\"\n",
    "\n",
    "print(fake_dict1.fake_key)\n",
    "print(fake_dict2.fake_key)\n",
    "print(type(fake_dict1))\n",
    "print(type(fake_dict2))"
   ]
  },
  {
   "cell_type": "code",
   "execution_count": 66,
   "metadata": {},
   "outputs": [],
   "source": [
    "class Store:\n",
    "    def __init__(self,store_name):\n",
    "        self.store_name = store_name\n",
    "\n",
    "alternative_rocks = Store(\"Alternative_rocks\")\n",
    "isabelles_ices = Store(\"Isabelles_ices\")"
   ]
  },
  {
   "cell_type": "code",
   "execution_count": 67,
   "metadata": {},
   "outputs": [
    {
     "data": {
      "text/plain": [
       "'Alternative_rocks'"
      ]
     },
     "execution_count": 67,
     "metadata": {},
     "output_type": "execute_result"
    }
   ],
   "source": [
    "alternative_rocks.store_name"
   ]
  },
  {
   "cell_type": "code",
   "execution_count": 68,
   "metadata": {},
   "outputs": [],
   "source": [
    "#repr -> dunder method (print out the string representation of the class,\n",
    "                    #   only have on parameter, self, and must return a string)"
   ]
  },
  {
   "cell_type": "code",
   "execution_count": 70,
   "metadata": {},
   "outputs": [
    {
     "name": "stdout",
     "output_type": "stream",
     "text": [
      "<__main__.Employee object at 0x110131910>\n"
     ]
    }
   ],
   "source": [
    "class Employee():\n",
    "    def __init__(self,name):\n",
    "        self.name = name\n",
    "        \n",
    "argus = Employee(\"Argus Filch\")\n",
    "print(argus)"
   ]
  },
  {
   "cell_type": "code",
   "execution_count": 73,
   "metadata": {},
   "outputs": [
    {
     "name": "stdout",
     "output_type": "stream",
     "text": [
      "Argus Filch\n"
     ]
    }
   ],
   "source": [
    "class Employee():\n",
    "    def __init__(self,name):\n",
    "        self.name = name\n",
    "    def __repr__(self):\n",
    "        return self.name\n",
    "    \n",
    "argus = Employee(\"Argus Filch\")\n",
    "print(argus) #객체를 print할 때, __repr__ 실행됨"
   ]
  },
  {
   "cell_type": "code",
   "execution_count": 77,
   "metadata": {},
   "outputs": [],
   "source": [
    "class Circle:\n",
    "    pi = 3.14\n",
    "    \n",
    "    def __init__(self,diameter):\n",
    "        self.radius = diameter/2\n",
    "    \n",
    "    def area(self):\n",
    "        return self.pi * self.radius ** 2\n",
    "    \n",
    "    def circumference(self):\n",
    "        return self.pi * 2 * self.radius\n",
    "    \n",
    "    def __repr__(self):\n",
    "        return \"Circle with radius {}\".format(self.radius)\n",
    "                                # {radius} .format(radius = self.radius)\n",
    "        \n",
    "medium_pizza = Circle(12)\n",
    "teaching_table = Circle(36)\n",
    "round_room = Circle(11460)"
   ]
  },
  {
   "cell_type": "code",
   "execution_count": 80,
   "metadata": {},
   "outputs": [
    {
     "name": "stdout",
     "output_type": "stream",
     "text": [
      "Circle with radius 6.0\n",
      "113.04\n"
     ]
    }
   ],
   "source": [
    "print(medium_pizza)\n",
    "#print(medium_pizza.area())"
   ]
  },
  {
   "cell_type": "code",
   "execution_count": 79,
   "metadata": {},
   "outputs": [],
   "source": [
    "#연습문제 "
   ]
  },
  {
   "cell_type": "code",
   "execution_count": 106,
   "metadata": {},
   "outputs": [],
   "source": [
    "class Student:\n",
    "    def __init__(self,name,year):\n",
    "        self.name = name\n",
    "        self.year = year\n",
    "        self.grades = []\n",
    "    def add_grades(self,grade):\n",
    "        if type(grade) == Grade:\n",
    "            self.grades.append(grade)\n",
    "    def get_average(self):\n",
    "        list_grade = [c.score for c in self.grades]\n",
    "        return sum(list_grade)/len(list_grade)\n",
    "        #return sum(self.grades)/len(self.grades)\n",
    "\n",
    "class Grade:\n",
    "    minimum_passing = 65\n",
    "    def __init__(self,score):\n",
    "        self.score = score\n",
    "    def is_passing(self):\n",
    "        return self.score > self.minimum_passing # self.minimum_passing == Grade.minimum_passing\n",
    "\n",
    "fullsun = Student(\"Lee haechan\",21)\n",
    "#print(fullsun.name)\n",
    "#print(fullsun.year)\n",
    "#print(fullsun.grades)\n",
    "fullsun.add_grades(Grade(100))\n",
    "fullsun.add_grades(Grade(200))"
   ]
  },
  {
   "cell_type": "code",
   "execution_count": 107,
   "metadata": {},
   "outputs": [
    {
     "name": "stdout",
     "output_type": "stream",
     "text": [
      "100\n",
      "200\n"
     ]
    }
   ],
   "source": [
    "for a in fullsun.grades:\n",
    "    print(a.score)"
   ]
  },
  {
   "cell_type": "code",
   "execution_count": 108,
   "metadata": {},
   "outputs": [
    {
     "data": {
      "text/plain": [
       "150.0"
      ]
     },
     "execution_count": 108,
     "metadata": {},
     "output_type": "execute_result"
    }
   ],
   "source": [
    "fullsun.get_average()"
   ]
  },
  {
   "cell_type": "code",
   "execution_count": 109,
   "metadata": {},
   "outputs": [],
   "source": [
    "#Inheritance 중요하다!! 상위클래스 -> 하위클래스 "
   ]
  },
  {
   "cell_type": "code",
   "execution_count": 115,
   "metadata": {},
   "outputs": [
    {
     "name": "stdout",
     "output_type": "stream",
     "text": [
      "coco\n",
      "True\n"
     ]
    }
   ],
   "source": [
    "# base(parent) class : User\n",
    "# subclass(child class) : Admin \n",
    "class User: #상위클래스 \n",
    "    is_admin = False\n",
    "    def __init__(self,username):\n",
    "        self.username = username\n",
    "class Admin(User):  # 하위클래스 = 상위클래스의 모든 정보를 상속받는다. \n",
    "    is_admin = True\n",
    "\n",
    "admin = Admin(\"coco\") #User의 dunder를 가져와서 사용할 수 있다. \n",
    "print(admin.username)\n",
    "print(admin.is_admin)"
   ]
  },
  {
   "cell_type": "code",
   "execution_count": 117,
   "metadata": {},
   "outputs": [],
   "source": [
    "#Overriding Methods = 상위클래스의 내용을 하위클래스에서 변경하는 경우"
   ]
  },
  {
   "cell_type": "code",
   "execution_count": 124,
   "metadata": {},
   "outputs": [],
   "source": [
    "class Message:\n",
    "    def __init__(self,sender,recipient, text):\n",
    "        self.sender = sender\n",
    "        self.recipient = recipient\n",
    "        self.text = text\n",
    "\n",
    "class User:\n",
    "    def __init__(self,username):\n",
    "        self.username = username\n",
    "        \n",
    "    def edit_message(self,message,new_text):\n",
    "        if message.sender == self.username:\n",
    "            message.text = new_text\n",
    "\n",
    "class Admin(User):\n",
    "    #override\n",
    "    #admin can edit any message\n",
    "    def edit_message(self,message,new_text):\n",
    "        message.text = new_text"
   ]
  },
  {
   "cell_type": "code",
   "execution_count": 125,
   "metadata": {},
   "outputs": [],
   "source": [
    "#super() - 상위클래스 내용을 그대로 가져와서 사용하는 경우 + 뭔가를 더 추가하고 싶을 때 사용한다"
   ]
  },
  {
   "cell_type": "code",
   "execution_count": 131,
   "metadata": {},
   "outputs": [
    {
     "name": "stdout",
     "output_type": "stream",
     "text": [
      "40\n",
      "<__main__.Potatoes object at 0x112e895d0>\n"
     ]
    }
   ],
   "source": [
    "class PotatoSalad:\n",
    "    def __init__(self,potatoes,celery,onions): #상위 클래스 \n",
    "        self.potatoes = potatoes\n",
    "        self.celery = celery\n",
    "        self.onions = onions\n",
    "\n",
    "class SpecialPotatoSalad(PotatoSalad): # 하위 클래스 \n",
    "    def __init__(self,potatoes,celery,onions):\n",
    "        super().__init__(potatoes,celery,onions)   # super() = PotatoSalad , no self\n",
    "        self.raisins = 40\n",
    "\n",
    "class Potatoes():\n",
    "    pass\n",
    "class Celery():\n",
    "    pass\n",
    "class Onions():\n",
    "    pass\n",
    "\n",
    "mySalad = SpecialPotatoSalad(Potatoes(),Celery(),Onions())\n",
    "#mySalad = SpecialPotatoSalad(10,20,30)\n",
    "print(mySalad.raisins)\n",
    "print(mySalad.potatoes)"
   ]
  },
  {
   "cell_type": "code",
   "execution_count": 141,
   "metadata": {},
   "outputs": [],
   "source": [
    "#Interfaces and Polymorphism = 두 개는 비슷한 개념"
   ]
  },
  {
   "cell_type": "code",
   "execution_count": 142,
   "metadata": {},
   "outputs": [],
   "source": [
    "#Interface  = 같은 메소드 이름을 가지지만 다른 동작을 수행하는 것 "
   ]
  },
  {
   "cell_type": "code",
   "execution_count": 138,
   "metadata": {},
   "outputs": [],
   "source": [
    "class InsurancePolicy:\n",
    "    def __init__(self,price_of_item):\n",
    "        self.price_of_insured_item = price_of_item\n",
    "    \n",
    "class VehicleInsurance(InsurancePolicy):\n",
    "    def get_rate(self):\n",
    "        return .001 * self.price_of_insured_item\n",
    "\n",
    "class HomeInsurance(InsurancePolicy):\n",
    "    def get_rate(self):\n",
    "        return .00005 * self.price_of_insured_item"
   ]
  },
  {
   "cell_type": "code",
   "execution_count": 140,
   "metadata": {},
   "outputs": [
    {
     "name": "stdout",
     "output_type": "stream",
     "text": [
      "0.05\n",
      "1.0\n"
     ]
    }
   ],
   "source": [
    "a = HomeInsurance(1000)\n",
    "print(a.get_rate())\n",
    "b = VehicleInsurance(1000)\n",
    "print(b.get_rate())"
   ]
  },
  {
   "cell_type": "code",
   "execution_count": 143,
   "metadata": {},
   "outputs": [],
   "source": [
    "# Polymorphism = syntax가 같은데 type에 따라 다른 결과"
   ]
  },
  {
   "cell_type": "code",
   "execution_count": 144,
   "metadata": {},
   "outputs": [
    {
     "name": "stdout",
     "output_type": "stream",
     "text": [
      "4\n",
      "1\n",
      "21\n"
     ]
    }
   ],
   "source": [
    "a_list = [1,18,32,12]\n",
    "a_dict = {'value':True}\n",
    "a_string = \"Polymorphism is cool!\"\n",
    "\n",
    "print(len(a_list))\n",
    "print(len(a_dict))\n",
    "print(len(a_string))"
   ]
  },
  {
   "cell_type": "code",
   "execution_count": 145,
   "metadata": {},
   "outputs": [],
   "source": [
    "#Dunder Method 1"
   ]
  },
  {
   "cell_type": "code",
   "execution_count": 146,
   "metadata": {},
   "outputs": [
    {
     "data": {
      "text/plain": [
       "'\\n__init__,__repr__,__add__\\n\\n__add__ : method enable us to use + operator (+ 연산자를 사용할 수 있게 해준다)\\n'"
      ]
     },
     "execution_count": 146,
     "metadata": {},
     "output_type": "execute_result"
    }
   ],
   "source": [
    "\"\"\"\n",
    "__init__,__repr__,__add__\n",
    "\n",
    "__add__ : method enable us to use + operator (+ 연산자를 사용할 수 있게 해준다)\n",
    "\"\"\""
   ]
  },
  {
   "cell_type": "code",
   "execution_count": 150,
   "metadata": {},
   "outputs": [
    {
     "name": "stdout",
     "output_type": "stream",
     "text": [
      "Color with RGB = 255,255,0\n"
     ]
    }
   ],
   "source": [
    "class Color:\n",
    "    def __init__(self,red,blue,green):\n",
    "        self.red = red\n",
    "        self.blue = blue\n",
    "        self.green = green\n",
    "    def __repr__(self):\n",
    "        return \"Color with RGB = {},{},{}\".format(self.red,self.blue,self.green)\n",
    "    def add(self,other): # self = red , other = blue\n",
    "        new_red = min(self.red+other.red,255)\n",
    "        new_blue = min(self.blue+other.blue,255)\n",
    "        new_green = min(self.green+other.green,255)\n",
    "        return Color(new_red,new_blue,new_green)\n",
    "\n",
    "red = Color(255,0,0)\n",
    "blue = Color(0,255,0)\n",
    "magenta = red.add(blue)\n",
    "\n",
    "print(magenta)\n"
   ]
  },
  {
   "cell_type": "code",
   "execution_count": 164,
   "metadata": {},
   "outputs": [
    {
     "name": "stdout",
     "output_type": "stream",
     "text": [
      "Na Cl\n"
     ]
    }
   ],
   "source": [
    "class Atom:\n",
    "    def __init__(self,label):\n",
    "        self.label = label\n",
    "    def __repr__(self):\n",
    "        return self.label\n",
    "\n",
    "class Molecule:\n",
    "    def __init__(self,atoms):\n",
    "        if type(atoms) is list:\n",
    "            self.atoms = atoms\n",
    "    def __repr__(self):\n",
    "        atomL = [atom.label for atom in self.atoms]\n",
    "        return \" \".join(atomL) #\" \".join(list) = list를 문자열로 변환 \n",
    "    \n",
    "sodium = Atom(\"Na\")\n",
    "#print(sodium)\n",
    "#print(sodium.label)\n",
    "chlorine = Atom(\"Cl\")\n",
    "#print(chlorine.label)\n",
    "salt = Molecule([sodium,chlorine])\n",
    "#print(salt.atoms)\n",
    "print(salt)"
   ]
  },
  {
   "cell_type": "code",
   "execution_count": 168,
   "metadata": {},
   "outputs": [
    {
     "name": "stdout",
     "output_type": "stream",
     "text": [
      "Na Cl\n"
     ]
    }
   ],
   "source": [
    "#Use of __add__ for + \n",
    "class Atom:\n",
    "    def __init__(self,label):\n",
    "        self.label = label\n",
    "    def __add__(self,other):\n",
    "        return Molecule([self,other])\n",
    "    def __repr__(self):\n",
    "        return self.label\n",
    "    \n",
    "class Molecule:\n",
    "    def __init__(self,atoms):\n",
    "        if type(atoms) is list:\n",
    "            self.atoms = atoms\n",
    "    def __repr__(self):\n",
    "        atomL = [atom.label for atom in self.atoms]\n",
    "        return \" \".join(atomL)\n",
    "\n",
    "sodium = Atom(\"Na\")\n",
    "chlorine = Atom(\"Cl\")\n",
    "salt = sodium + chlorine # -> __add__실행 , salt의 type은 Molecule이 된다. \n",
    "#print(type(salt))\n",
    "print(salt)"
   ]
  },
  {
   "cell_type": "code",
   "execution_count": 169,
   "metadata": {},
   "outputs": [],
   "source": [
    "#Dunder Methods 2"
   ]
  },
  {
   "cell_type": "code",
   "execution_count": 170,
   "metadata": {},
   "outputs": [
    {
     "data": {
      "text/plain": [
       "'\\n1. Dunder를 이용한 Custom defined function\\n2. __len__을 정의하면 len(UserGroup)과 같이 사용\\n3. __contain__을 이용해서 contain(user)와 같이 사용 가능\\n'"
      ]
     },
     "execution_count": 170,
     "metadata": {},
     "output_type": "execute_result"
    }
   ],
   "source": [
    "\"\"\"\n",
    "1. Dunder를 이용한 Custom defined function\n",
    "2. __len__을 정의하면 len(UserGroup)과 같이 사용\n",
    "3. __contain__을 이용해서 contain(user)와 같이 사용 가능\n",
    "\"\"\""
   ]
  },
  {
   "cell_type": "code",
   "execution_count": 191,
   "metadata": {},
   "outputs": [
    {
     "name": "stdout",
     "output_type": "stream",
     "text": [
      "3\n"
     ]
    }
   ],
   "source": [
    "class UserGroup:\n",
    "    def __init__(self,users,permissions):\n",
    "        self.user_list = users\n",
    "        self.permissions = permissions\n",
    "    def __iter__(self): #for loop 사용하는 역할 \n",
    "        # use the iter() function to turn\n",
    "        # the list self.user_list into an iterator\n",
    "        \"\"\"\n",
    "        for user in can_edit_usergroup: #test without __iter__\n",
    "            print(user)\n",
    "        \n",
    "        의 의미를 가진다. \n",
    "        \"\"\"\n",
    "        return iter(self.user_list) #?? iter이 뭔지 아직 잘 모르겟음 -> 그냥 반복문 수행해주는 애,,?\n",
    "    def __len__(self):\n",
    "        return len(self.user_list)\n",
    "\n",
    "class User:\n",
    "    def __init__(self,username):\n",
    "        self.username = username\n",
    "    def __repr__(self):\n",
    "        return self.username\n",
    "\n",
    "park = User('park')\n",
    "kim = User('kim')\n",
    "lee = User('lee')\n",
    "\n",
    "can_edit_usergroup = UserGroup([park,kim,lee],{\"can_edit_page\":True})\n",
    "can_delete_usergroup = UserGroup([park,kim],{\"can_delete_posts\":True})\n",
    "\n",
    "print(len(can_edit_usergroup))\n"
   ]
  },
  {
   "cell_type": "code",
   "execution_count": 187,
   "metadata": {},
   "outputs": [],
   "source": [
    "a = iter(can_edit_usergroup)"
   ]
  },
  {
   "cell_type": "code",
   "execution_count": 188,
   "metadata": {},
   "outputs": [
    {
     "data": {
      "text/plain": [
       "park"
      ]
     },
     "execution_count": 188,
     "metadata": {},
     "output_type": "execute_result"
    }
   ],
   "source": [
    "next(a)"
   ]
  },
  {
   "cell_type": "code",
   "execution_count": 189,
   "metadata": {},
   "outputs": [
    {
     "data": {
      "text/plain": [
       "kim"
      ]
     },
     "execution_count": 189,
     "metadata": {},
     "output_type": "execute_result"
    }
   ],
   "source": [
    "next(a)"
   ]
  },
  {
   "cell_type": "code",
   "execution_count": 190,
   "metadata": {},
   "outputs": [
    {
     "data": {
      "text/plain": [
       "lee"
      ]
     },
     "execution_count": 190,
     "metadata": {},
     "output_type": "execute_result"
    }
   ],
   "source": [
    "next(a)"
   ]
  },
  {
   "cell_type": "code",
   "execution_count": 193,
   "metadata": {},
   "outputs": [],
   "source": [
    "#__contains__"
   ]
  },
  {
   "cell_type": "code",
   "execution_count": 195,
   "metadata": {},
   "outputs": [
    {
     "data": {
      "text/plain": [
       "False"
      ]
     },
     "execution_count": 195,
     "metadata": {},
     "output_type": "execute_result"
    }
   ],
   "source": [
    "class LawFirm:\n",
    "    def __init__(self,practice,lawyars):\n",
    "        self.practice = practice\n",
    "        self.lawyars = lawyars\n",
    "    def __len__(self):\n",
    "        return len(self.lawyars)\n",
    "    def __contains__(self,lawyar):\n",
    "        return lawyar in self.lawyars\n",
    "\n",
    "d_and_p = LawFirm = (\"Injury\",[\"kim\",\"lee\"])\n",
    "\"choi\" in d_and_p #test without __contain__  # ?? contain사용해서 실행어떻게 하는건지 잘 모르겠음,,,,ㅜ"
   ]
  },
  {
   "cell_type": "code",
   "execution_count": null,
   "metadata": {},
   "outputs": [],
   "source": []
  }
 ],
 "metadata": {
  "kernelspec": {
   "display_name": "Python 3",
   "language": "python",
   "name": "python3"
  },
  "language_info": {
   "codemirror_mode": {
    "name": "ipython",
    "version": 3
   },
   "file_extension": ".py",
   "mimetype": "text/x-python",
   "name": "python",
   "nbconvert_exporter": "python",
   "pygments_lexer": "ipython3",
   "version": "3.7.6"
  }
 },
 "nbformat": 4,
 "nbformat_minor": 4
}

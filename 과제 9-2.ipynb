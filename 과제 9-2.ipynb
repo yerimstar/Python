{
 "cells": [
  {
   "cell_type": "code",
   "execution_count": 1,
   "metadata": {},
   "outputs": [],
   "source": [
    "#문제 2"
   ]
  },
  {
   "cell_type": "code",
   "execution_count": 2,
   "metadata": {},
   "outputs": [],
   "source": [
    "class Node:\n",
    "    def __init__(self,data):\n",
    "        self.prev = None\n",
    "        self.next = None\n",
    "        self.data = data    \n",
    "    def setNext(self,node):\n",
    "        if type(node) == Node:\n",
    "            self.next = node\n",
    "        elif node == None:\n",
    "            self.next = None\n",
    "    def setPrev(self,node):\n",
    "        if type(node) == Node:\n",
    "            self.prev = node\n",
    "        elif node == None:\n",
    "            self.prev = None     \n",
    "    def getData(self):\n",
    "        return self.data"
   ]
  },
  {
   "cell_type": "code",
   "execution_count": 3,
   "metadata": {},
   "outputs": [],
   "source": [
    "class DoubleLinkedList:\n",
    "    def __init__(self):\n",
    "        self.head = None\n",
    "        self.tail = None\n",
    "        self.size = 0\n",
    "    def getSize(self):\n",
    "        return self.size\n",
    "    \n",
    "    def addNode(self,data):\n",
    "        newNode = Node(data)\n",
    "        if self.head is None:\n",
    "            self.head = newNode\n",
    "            newNode.setPrev(None)\n",
    "            newNode.setNext(None)\n",
    "            self.tail = newNode\n",
    "        else:\n",
    "            self.tail.setNext(newNode)\n",
    "            newNode.setPrev(self.tail)\n",
    "            self.tail = newNode\n",
    "        self.size += 1"
   ]
  },
  {
   "cell_type": "code",
   "execution_count": null,
   "metadata": {},
   "outputs": [],
   "source": [
    "DLL = DoubleLinkedList()\n",
    "DLL.addNode(\"soongsil\")\n",
    "DLL.addNode(\"university\")\n",
    "DLL.addNode(\"computer\")\n",
    "\n",
    "print(DLL.head.data)\n",
    "print(DLL.head.next.data)\n",
    "print(DLL.head.next.next.data)\n",
    "print(DLL.tail.data)\n",
    "print(DLL.tail.prev.data)"
   ]
  }
 ],
 "metadata": {
  "kernelspec": {
   "display_name": "Python 3",
   "language": "python",
   "name": "python3"
  },
  "language_info": {
   "codemirror_mode": {
    "name": "ipython",
    "version": 3
   },
   "file_extension": ".py",
   "mimetype": "text/x-python",
   "name": "python",
   "nbconvert_exporter": "python",
   "pygments_lexer": "ipython3",
   "version": "3.8.2"
  }
 },
 "nbformat": 4,
 "nbformat_minor": 2
}

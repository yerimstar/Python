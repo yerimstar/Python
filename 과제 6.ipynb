{
 "cells": [
  {
   "cell_type": "code",
   "execution_count": 1,
   "metadata": {},
   "outputs": [],
   "source": [
    "#문제 1"
   ]
  },
  {
   "cell_type": "code",
   "execution_count": 2,
   "metadata": {},
   "outputs": [],
   "source": [
    "#1-1"
   ]
  },
  {
   "cell_type": "code",
   "execution_count": 3,
   "metadata": {},
   "outputs": [],
   "source": [
    "class Circle1():\n",
    "    pi = 3.14\n",
    "    def area(self, radius):\n",
    "        return self.pi*radius**2\n",
    "circle1 = Circle1()\n",
    "print(circle1.area(5))"
   ]
  },
  {
   "cell_type": "code",
   "execution_count": 4,
   "metadata": {},
   "outputs": [],
   "source": [
    "#1-2,1-3"
   ]
  },
  {
   "cell_type": "code",
   "execution_count": 5,
   "metadata": {},
   "outputs": [],
   "source": [
    "class Circle1():\n",
    "    pi = 3.14\n",
    "    def area(self, radius):\n",
    "        return Circle1.pi*radius**2\n",
    "circle1 = Circle1()\n",
    "print(circle1.area(5))\n",
    "print(\"pi만 쓸 경우 pi가 정의되지 않으므로 'self.pi'나 'class의 이름.pi'로 써줘야 한다.\")"
   ]
  },
  {
   "cell_type": "code",
   "execution_count": 6,
   "metadata": {},
   "outputs": [],
   "source": [
    "#문제 2"
   ]
  },
  {
   "cell_type": "code",
   "execution_count": 7,
   "metadata": {},
   "outputs": [],
   "source": [
    "class Score:\n",
    "    def __init__(self,e_score):\n",
    "        self.english_score = e_score"
   ]
  },
  {
   "cell_type": "code",
   "execution_count": 8,
   "metadata": {},
   "outputs": [],
   "source": [
    "kim_score = Score(90)\n",
    "lee_score = Score(85)"
   ]
  },
  {
   "cell_type": "code",
   "execution_count": null,
   "metadata": {},
   "outputs": [],
   "source": [
    "kim_score.english_score"
   ]
  },
  {
   "cell_type": "code",
   "execution_count": 10,
   "metadata": {},
   "outputs": [
    {
     "data": {
      "text/plain": [
       "85"
      ]
     },
     "execution_count": 10,
     "metadata": {},
     "output_type": "execute_result"
    }
   ],
   "source": [
    "lee_score.english_score"
   ]
  },
  {
   "cell_type": "code",
   "execution_count": 11,
   "metadata": {},
   "outputs": [],
   "source": [
    "#문제 3"
   ]
  },
  {
   "cell_type": "code",
   "execution_count": 12,
   "metadata": {},
   "outputs": [
    {
     "name": "stdout",
     "output_type": "stream",
     "text": [
      "aaaabbbccd 4\n",
      "['a', 'a', 'a', 'd', 's'] 3\n"
     ]
    }
   ],
   "source": [
    "how_many_a = [{'a':False},\"aaaabbbccd\",23,[\"a\",\"a\",\"a\",\"d\",\"s\"]]\n",
    "\n",
    "for element in how_many_a:\n",
    "    if hasattr(element,\"count\"):\n",
    "        print(element,element.count(\"a\"))"
   ]
  },
  {
   "cell_type": "code",
   "execution_count": 13,
   "metadata": {},
   "outputs": [],
   "source": [
    "#문제 4"
   ]
  },
  {
   "cell_type": "code",
   "execution_count": 14,
   "metadata": {},
   "outputs": [
    {
     "name": "stdout",
     "output_type": "stream",
     "text": [
      "Hong\n"
     ]
    }
   ],
   "source": [
    "class Student():\n",
    "    def __init__(self,argument_name):\n",
    "        self.name = argument_name\n",
    "    def __repr__(self):\n",
    "        return self.name\n",
    "        \n",
    "arg = Student(\"Hong\")\n",
    "print(arg)"
   ]
  },
  {
   "cell_type": "code",
   "execution_count": 15,
   "metadata": {},
   "outputs": [],
   "source": [
    "#문제 5"
   ]
  },
  {
   "cell_type": "code",
   "execution_count": 16,
   "metadata": {},
   "outputs": [],
   "source": [
    "class Student:\n",
    "    def __init__(self, name, number):\n",
    "        self.name = name\n",
    "        self.number = number\n",
    "        self.scores = []  \n",
    "    def add_score(self, score):\n",
    "        self.scores.append(score)  \n",
    "    def average(self):\n",
    "        list_score = [c.score for c in self.scores]\n",
    "        return sum(list_score)/len(list_score)\n",
    "    def __repr__(self):\n",
    "        list_score = [c.score for c in self.scores]\n",
    "        list_str_score = \" \".join([str(e) for e in list_score])\n",
    "        return \"the scores of \" + self.name + \" is \" + list_str_score\n",
    "class Score:\n",
    "    def __init__(self, score):\n",
    "        self.score = score"
   ]
  },
  {
   "cell_type": "code",
   "execution_count": 17,
   "metadata": {},
   "outputs": [],
   "source": [
    "#5-1"
   ]
  },
  {
   "cell_type": "code",
   "execution_count": null,
   "metadata": {},
   "outputs": [],
   "source": [
    "name = input()\n",
    "number = int(input())\n",
    "score1 = int(input())\n",
    "score2 = int(input())\n",
    "yerim = Student(name,number)\n",
    "yerim.add_score(Score(score1))\n",
    "yerim.add_score(Score(score2))\n",
    "\n",
    "print('\\n')\n",
    "print(yerim.name)\n",
    "print(yerim.number)\n",
    "list_score = [c.score for c in yerim.scores]\n",
    "print(list_score)"
   ]
  },
  {
   "cell_type": "code",
   "execution_count": null,
   "metadata": {},
   "outputs": [],
   "source": [
    "#5-2"
   ]
  },
  {
   "cell_type": "code",
   "execution_count": null,
   "metadata": {},
   "outputs": [],
   "source": [
    "yerim.average()"
   ]
  },
  {
   "cell_type": "code",
   "execution_count": null,
   "metadata": {},
   "outputs": [],
   "source": [
    "#5-3"
   ]
  },
  {
   "cell_type": "code",
   "execution_count": null,
   "metadata": {},
   "outputs": [],
   "source": [
    "print(yerim)"
   ]
  },
  {
   "cell_type": "code",
   "execution_count": null,
   "metadata": {},
   "outputs": [],
   "source": []
  },
  {
   "cell_type": "code",
   "execution_count": null,
   "metadata": {},
   "outputs": [],
   "source": []
  }
 ],
 "metadata": {
  "kernelspec": {
   "display_name": "Python 3",
   "language": "python",
   "name": "python3"
  },
  "language_info": {
   "codemirror_mode": {
    "name": "ipython",
    "version": 3
   },
   "file_extension": ".py",
   "mimetype": "text/x-python",
   "name": "python",
   "nbconvert_exporter": "python",
   "pygments_lexer": "ipython3",
   "version": "3.7.4"
  }
 },
 "nbformat": 4,
 "nbformat_minor": 2
}

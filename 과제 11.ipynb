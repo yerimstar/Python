{
 "cells": [
  {
   "cell_type": "code",
   "execution_count": 1,
   "metadata": {},
   "outputs": [],
   "source": [
    "#문제 1"
   ]
  },
  {
   "cell_type": "code",
   "execution_count": 2,
   "metadata": {},
   "outputs": [
    {
     "data": {
      "text/plain": [
       "array([[[ 0,  1],\n",
       "        [ 2,  3],\n",
       "        [ 4,  5],\n",
       "        [ 6,  7]],\n",
       "\n",
       "       [[ 8,  9],\n",
       "        [10, 11],\n",
       "        [12, 13],\n",
       "        [14, 15]],\n",
       "\n",
       "       [[16, 17],\n",
       "        [18, 19],\n",
       "        [20, 21],\n",
       "        [22, 23]]])"
      ]
     },
     "execution_count": 2,
     "metadata": {},
     "output_type": "execute_result"
    }
   ],
   "source": [
    "import numpy as np\n",
    "array = np.arange(24).reshape(3,4,2)\n",
    "array"
   ]
  },
  {
   "cell_type": "code",
   "execution_count": 3,
   "metadata": {},
   "outputs": [],
   "source": [
    "#문제 1-1"
   ]
  },
  {
   "cell_type": "code",
   "execution_count": 4,
   "metadata": {},
   "outputs": [
    {
     "name": "stdout",
     "output_type": "stream",
     "text": [
      "[[24 27]\n",
      " [30 33]\n",
      " [36 39]\n",
      " [42 45]]\n",
      "\n",
      "[[ 1  5  9 13]\n",
      " [17 21 25 29]\n",
      " [33 37 41 45]]\n",
      "\n",
      "[[12 16]\n",
      " [44 48]\n",
      " [76 80]]\n"
     ]
    }
   ],
   "source": [
    "s0 = array.sum(axis = 0)\n",
    "s1 = array.sum(axis = 2)\n",
    "s2 = array.sum(axis = 1)\n",
    "print(s0)\n",
    "print()\n",
    "print(s1)\n",
    "print()\n",
    "print(s2)"
   ]
  },
  {
   "cell_type": "code",
   "execution_count": 5,
   "metadata": {},
   "outputs": [],
   "source": [
    "#문제 1-2"
   ]
  },
  {
   "cell_type": "code",
   "execution_count": 6,
   "metadata": {},
   "outputs": [
    {
     "name": "stdout",
     "output_type": "stream",
     "text": [
      "[[ 0.5  2.5  4.5  6.5]\n",
      " [ 8.5 10.5 12.5 14.5]\n",
      " [16.5 18.5 20.5 22.5]]\n",
      "\n",
      "[[ 3.  4.]\n",
      " [11. 12.]\n",
      " [19. 20.]]\n",
      "\n",
      "[[ 8.  9.]\n",
      " [10. 11.]\n",
      " [12. 13.]\n",
      " [14. 15.]]\n"
     ]
    }
   ],
   "source": [
    "s0 = array.mean(axis = 2)\n",
    "s1 = array.mean(axis = 1)\n",
    "s2 = array.mean(axis = 0)\n",
    "print(s0)\n",
    "print()\n",
    "print(s1)\n",
    "print()\n",
    "print(s2)"
   ]
  },
  {
   "cell_type": "code",
   "execution_count": null,
   "metadata": {},
   "outputs": [],
   "source": []
  }
 ],
 "metadata": {
  "kernelspec": {
   "display_name": "Python 3",
   "language": "python",
   "name": "python3"
  },
  "language_info": {
   "codemirror_mode": {
    "name": "ipython",
    "version": 3
   },
   "file_extension": ".py",
   "mimetype": "text/x-python",
   "name": "python",
   "nbconvert_exporter": "python",
   "pygments_lexer": "ipython3",
   "version": "3.7.6"
  }
 },
 "nbformat": 4,
 "nbformat_minor": 4
}

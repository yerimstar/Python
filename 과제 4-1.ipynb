{
 "cells": [
  {
   "cell_type": "code",
   "execution_count": 1,
   "metadata": {},
   "outputs": [],
   "source": [
    "#문제 1"
   ]
  },
  {
   "cell_type": "code",
   "execution_count": 2,
   "metadata": {},
   "outputs": [
    {
     "name": "stdout",
     "output_type": "stream",
     "text": [
      "['허예림', 'park', 'kim', 1, 2, 3, 4, 5]\n"
     ]
    }
   ],
   "source": [
    "1-1\n",
    "data = ['허예림','park','kim',1,2,3,4,5]\n",
    "print(data)"
   ]
  },
  {
   "cell_type": "code",
   "execution_count": 3,
   "metadata": {},
   "outputs": [
    {
     "name": "stdout",
     "output_type": "stream",
     "text": [
      "0\n"
     ]
    }
   ],
   "source": [
    "1-2\n",
    "print(data.index('허예림'))"
   ]
  },
  {
   "cell_type": "code",
   "execution_count": 4,
   "metadata": {},
   "outputs": [
    {
     "name": "stdout",
     "output_type": "stream",
     "text": [
      "['허예림', 'park', 'kim', 1, 2, 3, 4, 5, 'tony']\n"
     ]
    }
   ],
   "source": [
    "1-3\n",
    "data.append('tony')\n",
    "print(data)"
   ]
  },
  {
   "cell_type": "code",
   "execution_count": 5,
   "metadata": {},
   "outputs": [
    {
     "name": "stdout",
     "output_type": "stream",
     "text": [
      "Tony\n"
     ]
    }
   ],
   "source": [
    "1-4\n",
    "name = 'tony'\n",
    "print(name.capitalize())"
   ]
  },
  {
   "cell_type": "code",
   "execution_count": 6,
   "metadata": {},
   "outputs": [
    {
     "name": "stdout",
     "output_type": "stream",
     "text": [
      "TONY\n"
     ]
    }
   ],
   "source": [
    "1-5\n",
    "print(name.upper())"
   ]
  },
  {
   "cell_type": "code",
   "execution_count": 7,
   "metadata": {},
   "outputs": [
    {
     "name": "stdout",
     "output_type": "stream",
     "text": [
      "tony\n"
     ]
    }
   ],
   "source": [
    "1-6\n",
    "print(name.lower())"
   ]
  },
  {
   "cell_type": "code",
   "execution_count": 8,
   "metadata": {},
   "outputs": [],
   "source": [
    "#문제 2"
   ]
  },
  {
   "cell_type": "code",
   "execution_count": 9,
   "metadata": {},
   "outputs": [
    {
     "name": "stdout",
     "output_type": "stream",
     "text": [
      "학번을 입력하세요 : 20182667\n",
      "홀수입니다.\n"
     ]
    }
   ],
   "source": [
    "num = int(input(\"학번을 입력하세요 : \"))\n",
    "\n",
    "def isEven():\n",
    "    if(num % 2 == 0):\n",
    "        print(\"짝수입니다.\")\n",
    "    else:\n",
    "        print(\"홀수입니다.\")\n",
    "isEven()"
   ]
  },
  {
   "cell_type": "code",
   "execution_count": 10,
   "metadata": {},
   "outputs": [],
   "source": [
    "#문제 3"
   ]
  },
  {
   "cell_type": "code",
   "execution_count": 11,
   "metadata": {},
   "outputs": [
    {
     "name": "stdout",
     "output_type": "stream",
     "text": [
      "[1, 2, 3, 4, 5]\n"
     ]
    }
   ],
   "source": [
    "3-1\n",
    "a = [3,5,1,2,4]\n",
    "b = (3,5,1,2,4)\n",
    "a.sort()\n",
    "print(a)"
   ]
  },
  {
   "cell_type": "code",
   "execution_count": 13,
   "metadata": {},
   "outputs": [
    {
     "name": "stdout",
     "output_type": "stream",
     "text": [
      "<class 'list'>\n",
      "<class 'list'>\n",
      "[1, 2, 3, 4, 5]\n",
      "tuple은 immutable하기 때문에 오류가 발생한다\n"
     ]
    }
   ],
   "source": [
    "3-2\n",
    "print(type(b))\n",
    "b = sorted(b)\n",
    "print(type(b))\n",
    "print(b)\n",
    "print(\"tuple은 immutable하기 때문에 오류가 발생한다\")"
   ]
  },
  {
   "cell_type": "code",
   "execution_count": null,
   "metadata": {},
   "outputs": [],
   "source": []
  }
 ],
 "metadata": {
  "kernelspec": {
   "display_name": "Python 3",
   "language": "python",
   "name": "python3"
  },
  "language_info": {
   "codemirror_mode": {
    "name": "ipython",
    "version": 3
   },
   "file_extension": ".py",
   "mimetype": "text/x-python",
   "name": "python",
   "nbconvert_exporter": "python",
   "pygments_lexer": "ipython3",
   "version": "3.7.4"
  }
 },
 "nbformat": 4,
 "nbformat_minor": 2
}

{
 "cells": [
  {
   "cell_type": "code",
   "execution_count": 3,
   "metadata": {},
   "outputs": [
    {
     "name": "stdout",
     "output_type": "stream",
     "text": [
      "<class 'int'>\n",
      "<class 'float'>\n",
      "<class 'bool'>\n",
      "<class 'str'>\n",
      "<class 'list'>\n"
     ]
    }
   ],
   "source": [
    "a = 4\n",
    "b = 3.14\n",
    "c = True\n",
    "d = 'Hello World'\n",
    "e = [a,b,c,d]\n",
    "print(type(a))\n",
    "print(type(b))\n",
    "print(type(c))\n",
    "print(type(d))\n",
    "print(type(e))"
   ]
  },
  {
   "cell_type": "code",
   "execution_count": 18,
   "metadata": {},
   "outputs": [
    {
     "name": "stdout",
     "output_type": "stream",
     "text": [
      "[['학번', 20182667], ['이름', '허예림'], ['학과', '컴퓨터학부']]\n"
     ]
    }
   ],
   "source": [
    "info = [['학번',20182667],['이름', '허예림'],['학과','컴퓨터학부']]\n",
    "print(info)"
   ]
  },
  {
   "cell_type": "code",
   "execution_count": 19,
   "metadata": {},
   "outputs": [
    {
     "name": "stdout",
     "output_type": "stream",
     "text": [
      "3\n"
     ]
    }
   ],
   "source": [
    "print(len(info))"
   ]
  },
  {
   "cell_type": "code",
   "execution_count": 20,
   "metadata": {},
   "outputs": [
    {
     "name": "stdout",
     "output_type": "stream",
     "text": [
      "컴퓨터학부\n"
     ]
    }
   ],
   "source": [
    "print(info[-1][-1])"
   ]
  },
  {
   "cell_type": "code",
   "execution_count": 21,
   "metadata": {},
   "outputs": [
    {
     "name": "stdout",
     "output_type": "stream",
     "text": [
      "['학과', '컴퓨터학부']\n"
     ]
    }
   ],
   "source": [
    "print(info[-1])"
   ]
  },
  {
   "cell_type": "code",
   "execution_count": 22,
   "metadata": {},
   "outputs": [
    {
     "name": "stdout",
     "output_type": "stream",
     "text": [
      "학번 : 20182667\n",
      "이름 : 허예림\n",
      "학과 : 컴퓨터학부\n"
     ]
    }
   ],
   "source": [
    "for a in info:\n",
    "    print(\"{} : {}\".format(a[0],a[1]))\n",
    "    "
   ]
  },
  {
   "cell_type": "code",
   "execution_count": 72,
   "metadata": {},
   "outputs": [
    {
     "name": "stdout",
     "output_type": "stream",
     "text": [
      "허예림\n",
      "이동혁\n",
      "정윤오\n"
     ]
    }
   ],
   "source": [
    "contacts = {'허예림': { 'cell' : '010-9498-9259',\n",
    "            'email' : 'yerimhuh@naver.com'},\n",
    "            '이동혁' : {'cell': '010-6666-6666',\n",
    "            'email': 'coco66@naver.com'},\n",
    "           '정윤오' : {'cell' : '010-0214-0214',\n",
    "                   'email': 'yo0214@naver.com'}}\n",
    "for contact in contacts.keys():\n",
    "    print(contact)"
   ]
  },
  {
   "cell_type": "code",
   "execution_count": 73,
   "metadata": {},
   "outputs": [
    {
     "name": "stdout",
     "output_type": "stream",
     "text": [
      "허예림's contact information\n",
      "010-9498-9259\n",
      "yerimhuh@naver.com\n",
      "이동혁's contact information\n",
      "010-6666-6666\n",
      "coco66@naver.com\n",
      "정윤오's contact information\n",
      "010-0214-0214\n",
      "yo0214@naver.com\n"
     ]
    }
   ],
   "source": [
    "for a,b in contacts.items():\n",
    "    print(\"{}'s contact information\".format(a))\n",
    "    print(\"{}\".format(b['cell']))\n",
    "    print(\"{}\".format(b['email']))\n",
    "   "
   ]
  },
  {
   "cell_type": "code",
   "execution_count": null,
   "metadata": {},
   "outputs": [],
   "source": []
  },
  {
   "cell_type": "code",
   "execution_count": null,
   "metadata": {},
   "outputs": [],
   "source": []
  }
 ],
 "metadata": {
  "kernelspec": {
   "display_name": "Python 3",
   "language": "python",
   "name": "python3"
  },
  "language_info": {
   "codemirror_mode": {
    "name": "ipython",
    "version": 3
   },
   "file_extension": ".py",
   "mimetype": "text/x-python",
   "name": "python",
   "nbconvert_exporter": "python",
   "pygments_lexer": "ipython3",
   "version": "3.7.4"
  }
 },
 "nbformat": 4,
 "nbformat_minor": 2
}

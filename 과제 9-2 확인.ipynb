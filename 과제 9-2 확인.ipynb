{
 "cells": [
  {
   "cell_type": "code",
   "execution_count": 1,
   "metadata": {},
   "outputs": [],
   "source": [
    "#문제 2"
   ]
  },
  {
   "cell_type": "code",
   "execution_count": 2,
   "metadata": {},
   "outputs": [],
   "source": [
    "class Node:\n",
    "    def __init__(self,data):\n",
    "        self.prev = None\n",
    "        self.next = None\n",
    "        self.data = data    \n",
    "    def setNext(self,node):\n",
    "        if type(node) == Node:\n",
    "            self.next = node\n",
    "        elif node == None:\n",
    "            self.next = None\n",
    "    def setPrev(self,node):\n",
    "        if type(node) == Node:\n",
    "            self.prev = node\n",
    "        elif node == None:\n",
    "            self.prev = None     \n",
    "    def getData(self):\n",
    "        return self.data\n",
    "    def getNext(self):\n",
    "        return self.next\n",
    "    def getPrev(self):\n",
    "        return self.prev\n",
    "    def __repr__(self):\n",
    "        return \"( data : \"+ str(self.data)+ \" )\""
   ]
  },
  {
   "cell_type": "code",
   "execution_count": 3,
   "metadata": {},
   "outputs": [],
   "source": [
    "class DoubleLinkedList:\n",
    "    def __init__(self):\n",
    "        self.head = None\n",
    "        self.tail = None\n",
    "        self.size = 0\n",
    "    def getSize(self):\n",
    "        return self.size\n",
    "    \n",
    "    def addNode(self,data):\n",
    "        newNode = Node(data)\n",
    "        if self.head is None:\n",
    "            self.head = newNode\n",
    "            newNode.setNext(None)\n",
    "            newNode.setPrev(None)\n",
    "            self.tail = newNode\n",
    "        else:\n",
    "            self.tail.setNext(newNode)\n",
    "            newNode.setPrev(self.tail)\n",
    "            self.tail = newNode\n",
    "        self.size += 1\n",
    "            \n",
    "    def printNodes(self):\n",
    "        curr = self.head\n",
    "        tail = self.tail\n",
    "        print(\"head = {} tail = {} Size = {}\".format(self.head, self.tail, self.size))\n",
    "        pos = 1\n",
    "        while curr:\n",
    "            print(\"position : \"+str(pos) + \"  \" + str(curr.data))\n",
    "            pos += 1\n",
    "            curr = curr.getNext()\n",
    "    "
   ]
  },
  {
   "cell_type": "code",
   "execution_count": 4,
   "metadata": {},
   "outputs": [
    {
     "name": "stdout",
     "output_type": "stream",
     "text": [
      "head = ( data : nctdream ) tail = ( data : jisung ) Size = 4\n",
      "position : 1  nctdream\n",
      "position : 2  haechan\n",
      "position : 3  jaemin\n",
      "position : 4  jisung\n"
     ]
    }
   ],
   "source": [
    "myDLL = DoubleLinkedList()\n",
    "myDLL.addNode(\"nctdream\")\n",
    "myDLL.addNode(\"haechan\")\n",
    "myDLL.addNode(\"jaemin\")\n",
    "myDLL.addNode(\"jisung\")\n",
    "myDLL.printNodes()"
   ]
  },
  {
   "cell_type": "code",
   "execution_count": null,
   "metadata": {},
   "outputs": [],
   "source": [
    "\n"
   ]
  },
  {
   "cell_type": "code",
   "execution_count": null,
   "metadata": {},
   "outputs": [],
   "source": []
  },
  {
   "cell_type": "code",
   "execution_count": null,
   "metadata": {},
   "outputs": [],
   "source": []
  }
 ],
 "metadata": {
  "kernelspec": {
   "display_name": "Python 3",
   "language": "python",
   "name": "python3"
  },
  "language_info": {
   "codemirror_mode": {
    "name": "ipython",
    "version": 3
   },
   "file_extension": ".py",
   "mimetype": "text/x-python",
   "name": "python",
   "nbconvert_exporter": "python",
   "pygments_lexer": "ipython3",
   "version": "3.7.4"
  }
 },
 "nbformat": 4,
 "nbformat_minor": 2
}

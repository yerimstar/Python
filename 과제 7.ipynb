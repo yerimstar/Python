{
 "cells": [
  {
   "cell_type": "code",
   "execution_count": 1,
   "metadata": {},
   "outputs": [],
   "source": [
    "#문제 1"
   ]
  },
  {
   "cell_type": "code",
   "execution_count": 2,
   "metadata": {},
   "outputs": [],
   "source": [
    "#1-1"
   ]
  },
  {
   "cell_type": "code",
   "execution_count": 3,
   "metadata": {},
   "outputs": [
    {
     "name": "stdout",
     "output_type": "stream",
     "text": [
      "name:sopia, gender:female\n",
      "name:Mike, gender:male, st_id:1105462\n"
     ]
    }
   ],
   "source": [
    "class Person:\n",
    "    def __init__(self,name,gender):\n",
    "        self.name = name\n",
    "        self.gender = gender\n",
    "    \n",
    "    def __repr__(self):\n",
    "        return \"name:{}, gender:{}\".format(self.name,self.gender)\n",
    "    \n",
    "class Student(Person):\n",
    "    def __init__(self,name,gender,st_id):\n",
    "        super().__init__(name,gender)\n",
    "        self.st_id = st_id\n",
    "    def __repr__(self):\n",
    "        return \"name:{}, gender:{}, st_id:{}\".format(self.name,self.gender,self.st_id)\n",
    "    \n",
    "sophia = Person(\"sopia\",\"female\")\n",
    "mike = Student(\"Mike\",\"male\",1105462)\n",
    "print(sophia)\n",
    "print(mike)"
   ]
  },
  {
   "cell_type": "code",
   "execution_count": 4,
   "metadata": {},
   "outputs": [],
   "source": [
    "#1-2"
   ]
  },
  {
   "cell_type": "code",
   "execution_count": 5,
   "metadata": {},
   "outputs": [
    {
     "name": "stdout",
     "output_type": "stream",
     "text": [
      "name:Yerim Huh, gender:female, st_id:20182667\n"
     ]
    }
   ],
   "source": [
    "yerim = Student(\"Yerim Huh\",\"female\",20182667)\n",
    "print(yerim)"
   ]
  },
  {
   "cell_type": "code",
   "execution_count": null,
   "metadata": {},
   "outputs": [],
   "source": []
  }
 ],
 "metadata": {
  "kernelspec": {
   "display_name": "Python 3",
   "language": "python",
   "name": "python3"
  },
  "language_info": {
   "codemirror_mode": {
    "name": "ipython",
    "version": 3
   },
   "file_extension": ".py",
   "mimetype": "text/x-python",
   "name": "python",
   "nbconvert_exporter": "python",
   "pygments_lexer": "ipython3",
   "version": "3.7.4"
  }
 },
 "nbformat": 4,
 "nbformat_minor": 2
}

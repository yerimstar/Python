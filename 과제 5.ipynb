{
 "cells": [
  {
   "cell_type": "code",
   "execution_count": 1,
   "metadata": {},
   "outputs": [],
   "source": [
    "#문제 1"
   ]
  },
  {
   "cell_type": "code",
   "execution_count": 2,
   "metadata": {},
   "outputs": [
    {
     "name": "stdout",
     "output_type": "stream",
     "text": [
      "This is your first function\n",
      "This is how to defining fuction\n"
     ]
    }
   ],
   "source": [
    "def about_defining_function():\n",
    "    print(\"This is how to defining fuction\")\n",
    "\n",
    "print(\"This is your first function\")\n",
    "\n",
    "about_defining_function()"
   ]
  },
  {
   "cell_type": "code",
   "execution_count": 3,
   "metadata": {},
   "outputs": [],
   "source": [
    "#문제 2"
   ]
  },
  {
   "cell_type": "code",
   "execution_count": 4,
   "metadata": {},
   "outputs": [
    {
     "name": "stdout",
     "output_type": "stream",
     "text": [
      "Today special menu is beaf.\n",
      "The price of beaf is 200 dollar\n",
      "enjoy!\n",
      "\n",
      "Today special menu is lamb.\n",
      "The price of lamb is 100 dollar\n",
      "enjoy!\n",
      "\n"
     ]
    }
   ],
   "source": [
    "def special_menu_price(menu = \"beaf\",price = 100):\n",
    "    print(\"Today special menu is \"+ menu + \".\")\n",
    "    print(\"The price of \"+menu+\" is \"+str(price)+\" dollar\")\n",
    "    print(\"enjoy!\")\n",
    "    print()\n",
    "    \n",
    "special_menu_price(price = 200)\n",
    "special_menu_price(\"lamb\")"
   ]
  },
  {
   "cell_type": "code",
   "execution_count": 5,
   "metadata": {},
   "outputs": [],
   "source": [
    "#문제 3"
   ]
  },
  {
   "cell_type": "code",
   "execution_count": 6,
   "metadata": {},
   "outputs": [
    {
     "name": "stdout",
     "output_type": "stream",
     "text": [
      "languages :  ['korean', 'english', 'french', 'chinese']\n"
     ]
    }
   ],
   "source": [
    "def Languages(var1, var2, var3, var4):\n",
    "    \n",
    "    languages = [var1, var2, var3, var4]\n",
    "    print(\"languages : \", languages)\n",
    "    \n",
    "variables = ('korean','english','french','chinese')\n",
    "Languages(*variables)"
   ]
  },
  {
   "cell_type": "code",
   "execution_count": 7,
   "metadata": {},
   "outputs": [],
   "source": [
    "#문제 4"
   ]
  },
  {
   "cell_type": "code",
   "execution_count": 8,
   "metadata": {},
   "outputs": [
    {
     "name": "stdout",
     "output_type": "stream",
     "text": [
      "[1, 4, 9]\n",
      "[64, 125, 216]\n"
     ]
    }
   ],
   "source": [
    "def square_cube(*numbers):\n",
    "    square = [x * x for x in numbers[0:3]]\n",
    "    cube = [x * x * x for x in numbers[3:6]]\n",
    "    \n",
    "    return square,cube;\n",
    "\n",
    "numbers = (1,2,3,4,5,6)\n",
    "square, cube = square_cube(*numbers)\n",
    "print(square)\n",
    "print(cube)\n"
   ]
  },
  {
   "cell_type": "code",
   "execution_count": 9,
   "metadata": {},
   "outputs": [],
   "source": [
    "#문제 5"
   ]
  },
  {
   "cell_type": "code",
   "execution_count": 10,
   "metadata": {},
   "outputs": [
    {
     "name": "stdout",
     "output_type": "stream",
     "text": [
      "add : 6\n",
      "mul : 16\n",
      "sub : -1\n"
     ]
    }
   ],
   "source": [
    "def add_mul_sub(**val):\n",
    "    print(\"add :\",val[\"list2\"][0]+val[\"list2\"][1])\n",
    "    print(\"mul :\",val[\"list1\"][0]*val[\"list1\"][1])\n",
    "    print(\"sub :\",val[\"list3\"][0]-val[\"list3\"][1])\n",
    "\n",
    "values = {\"list1\" : [8,2], \"list2\" : [1,5], \"list3\" : [3,4]}\n",
    "add_mul_sub(**values)"
   ]
  },
  {
   "cell_type": "code",
   "execution_count": 11,
   "metadata": {},
   "outputs": [],
   "source": [
    "#문제 6"
   ]
  },
  {
   "cell_type": "code",
   "execution_count": 12,
   "metadata": {},
   "outputs": [
    {
     "name": "stdout",
     "output_type": "stream",
     "text": [
      "ID & name : 1,kim\n",
      "phone number & email : 010-1111-1111,lee@ssu.ac.kr\n"
     ]
    }
   ],
   "source": [
    "def contact_address(**kwargs):\n",
    "    for x,(y,z) in kwargs.items():\n",
    "        print(\"{} : {},{}\".format(x,y,z))\n",
    "\n",
    "vars = {\"ID & name\" : (1,'kim'),\"phone number & email\" : ('010-1111-1111','lee@ssu.ac.kr')}\n",
    "contact_address(**vars)"
   ]
  },
  {
   "cell_type": "code",
   "execution_count": 13,
   "metadata": {},
   "outputs": [],
   "source": [
    "#문제 7"
   ]
  },
  {
   "cell_type": "code",
   "execution_count": 14,
   "metadata": {},
   "outputs": [],
   "source": [
    "#7-1,#7-2"
   ]
  },
  {
   "cell_type": "code",
   "execution_count": 15,
   "metadata": {},
   "outputs": [
    {
     "name": "stdout",
     "output_type": "stream",
     "text": [
      "HELLO?!\n",
      "tom\n",
      "self.을 쓰지 않으면 누구의 name인지 알 수 없다.\n",
      "__init__은 constructor를 호출할 때 무조건 실행되므로 누구의 name인지 알려주어야 한다. \n"
     ]
    }
   ],
   "source": [
    "class Person():\n",
    "    def __init__(self):\n",
    "        self.name = 'tom'\n",
    "        print(\"HELLO?!\")\n",
    "\n",
    "Person1 = Person()\n",
    "print(Person1.name)\n",
    "print(\"self.을 쓰지 않으면 누구의 name인지 알 수 없다.\\n__init__은 constructor를 호출할 때 무조건 실행되므로 누구의 name인지 알려주어야 한다. \")"
   ]
  },
  {
   "cell_type": "code",
   "execution_count": 16,
   "metadata": {},
   "outputs": [],
   "source": [
    "#문제 8"
   ]
  },
  {
   "cell_type": "code",
   "execution_count": 17,
   "metadata": {},
   "outputs": [
    {
     "name": "stdout",
     "output_type": "stream",
     "text": [
      "Circumference :  125.60000000000001\n"
     ]
    }
   ],
   "source": [
    "class Circle():\n",
    "    pi = 3.14\n",
    "    def __init__(self,radius):\n",
    "        self.Circumference = radius*2*Circle.pi\n",
    "\n",
    "teaching_table = Circle(20)\n",
    "print('Circumference : ', teaching_table.Circumference)"
   ]
  },
  {
   "cell_type": "code",
   "execution_count": null,
   "metadata": {},
   "outputs": [],
   "source": []
  }
 ],
 "metadata": {
  "kernelspec": {
   "display_name": "Python 3",
   "language": "python",
   "name": "python3"
  },
  "language_info": {
   "codemirror_mode": {
    "name": "ipython",
    "version": 3
   },
   "file_extension": ".py",
   "mimetype": "text/x-python",
   "name": "python",
   "nbconvert_exporter": "python",
   "pygments_lexer": "ipython3",
   "version": "3.7.4"
  }
 },
 "nbformat": 4,
 "nbformat_minor": 2
}

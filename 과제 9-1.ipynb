{
 "cells": [
  {
   "cell_type": "code",
   "execution_count": 1,
   "metadata": {},
   "outputs": [],
   "source": [
    "#문제 1"
   ]
  },
  {
   "cell_type": "code",
   "execution_count": 2,
   "metadata": {},
   "outputs": [],
   "source": [
    "class Node():\n",
    "    def __init__(self,data,nextNode = None):\n",
    "        self.data = data\n",
    "        if nextNode == None or type(nextNode) == Node:\n",
    "            self.nextNode = nextNode\n",
    "    def getData(self):\n",
    "        return self.data\n",
    "    def setData(self,val):\n",
    "        self.data = val\n",
    "    def getNextNode(self):\n",
    "        return self.nextNode\n",
    "    def setNextNode(self,node):\n",
    "        if type(node) == Node:\n",
    "            self.nextNode = node\n",
    "    \n",
    "class LinkedList:\n",
    "    def __init__(self, head = None):\n",
    "        self.head = head\n",
    "        self.size = 0\n",
    "    def addNode(self,data):\n",
    "        newNode = Node(data,self.head)\n",
    "        self.head = newNode\n",
    "        self.size += 1\n",
    "        return True\n",
    "    def removeNode(self,value):\n",
    "        prev = None\n",
    "        curr = self.head\n",
    "        while curr:\n",
    "            if curr.getData() == value:\n",
    "                if prev:\n",
    "                    prev.setNextNode(curr.getNextNode())\n",
    "                else:\n",
    "                    self.head = curr.getNextNode()\n",
    "                self.size -= 1\n",
    "                return True\n",
    "            prev = curr\n",
    "            curr = curr.getNextNode()\n",
    "            \n",
    "        return False\n",
    "    def printNodes(self):\n",
    "        curr = self.head\n",
    "        pos = 1\n",
    "        while curr:\n",
    "            print(\"position :\" + str(pos) + \"  \"+str(curr.data))\n",
    "            pos += 1\n",
    "            curr = curr.getNextNode()\n",
    "    def printSize(self):\n",
    "        print(\"size :  \"+str(self.size))"
   ]
  },
  {
   "cell_type": "code",
   "execution_count": 3,
   "metadata": {},
   "outputs": [
    {
     "name": "stdout",
     "output_type": "stream",
     "text": [
      "position :1  kim\n",
      "position :2  choi\n",
      "position :3  park\n",
      "size :  3\n"
     ]
    }
   ],
   "source": [
    "myLinkedList = LinkedList()\n",
    "myLinkedList.addNode(\"park\")\n",
    "myLinkedList.addNode(\"choi\")\n",
    "myLinkedList.addNode(\"kim\")\n",
    "myLinkedList.printNodes()\n",
    "myLinkedList.printSize()"
   ]
  },
  {
   "cell_type": "code",
   "execution_count": 4,
   "metadata": {},
   "outputs": [
    {
     "name": "stdout",
     "output_type": "stream",
     "text": [
      "position :1  kim\n",
      "position :2  park\n",
      "size :  2\n"
     ]
    }
   ],
   "source": [
    "myLinkedList.removeNode(\"choi\")\n",
    "myLinkedList.printNodes()\n",
    "myLinkedList.printSize()"
   ]
  },
  {
   "cell_type": "code",
   "execution_count": null,
   "metadata": {},
   "outputs": [],
   "source": []
  },
  {
   "cell_type": "code",
   "execution_count": null,
   "metadata": {},
   "outputs": [],
   "source": []
  }
 ],
 "metadata": {
  "kernelspec": {
   "display_name": "Python 3",
   "language": "python",
   "name": "python3"
  },
  "language_info": {
   "codemirror_mode": {
    "name": "ipython",
    "version": 3
   },
   "file_extension": ".py",
   "mimetype": "text/x-python",
   "name": "python",
   "nbconvert_exporter": "python",
   "pygments_lexer": "ipython3",
   "version": "3.7.4"
  }
 },
 "nbformat": 4,
 "nbformat_minor": 2
}

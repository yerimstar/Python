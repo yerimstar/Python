{
 "cells": [
  {
   "cell_type": "code",
   "execution_count": 1,
   "metadata": {},
   "outputs": [],
   "source": [
    "#문제 4"
   ]
  },
  {
   "cell_type": "code",
   "execution_count": 2,
   "metadata": {},
   "outputs": [
    {
     "name": "stdout",
     "output_type": "stream",
     "text": [
      "1\n",
      "2\n",
      "3\n",
      "4\n",
      "5\n",
      "입력 :[1, 2, 3, 4, 5]\n",
      "출력 : ['Odd', 'Even', 'Odd', 'Even', 'Odd']\n"
     ]
    }
   ],
   "source": [
    "numbers = []\n",
    "print(\"입력\")\n",
    "for i in range(5):\n",
    "    num = int(input())\n",
    "    numbers.append(num)\n",
    "print(\"입력 :{}\".format(numbers))\n",
    "def isEven(num):\n",
    "    if(num % 2 == 0):\n",
    "        return \"Even\"\n",
    "    else:\n",
    "        return \"Odd\"\n",
    "isEvens = [isEven(num) for num in numbers]\n",
    "print(\"출력 : {}\".format(isEvens))"
   ]
  },
  {
   "cell_type": "code",
   "execution_count": 3,
   "metadata": {},
   "outputs": [],
   "source": [
    "#문제 5"
   ]
  },
  {
   "cell_type": "code",
   "execution_count": 4,
   "metadata": {},
   "outputs": [
    {
     "name": "stdout",
     "output_type": "stream",
     "text": [
      "t o m a t o "
     ]
    }
   ],
   "source": [
    "5-1\n",
    "fruit = \"tomato\"\n",
    "greet = \"Hello Kim!\"\n",
    "for letter in fruit:\n",
    "    print(letter,end = \" \")"
   ]
  },
  {
   "cell_type": "code",
   "execution_count": 5,
   "metadata": {},
   "outputs": [
    {
     "name": "stdout",
     "output_type": "stream",
     "text": [
      "-1\n"
     ]
    }
   ],
   "source": [
    "5-2 \n",
    "a = fruit.find(\"e\")\n",
    "print(a)"
   ]
  },
  {
   "cell_type": "code",
   "execution_count": 6,
   "metadata": {},
   "outputs": [
    {
     "name": "stdout",
     "output_type": "stream",
     "text": [
      "Hello Park!\n"
     ]
    }
   ],
   "source": [
    "5-3\n",
    "greet1 = greet.replace(\"Kim\",\"Park\")\n",
    "print(greet1)"
   ]
  },
  {
   "cell_type": "code",
   "execution_count": 7,
   "metadata": {},
   "outputs": [],
   "source": [
    "#문제 6"
   ]
  },
  {
   "cell_type": "code",
   "execution_count": 8,
   "metadata": {},
   "outputs": [
    {
     "name": "stdout",
     "output_type": "stream",
     "text": [
      "Good Morning!   \n"
     ]
    }
   ],
   "source": [
    "6-1\n",
    "greet = \"   Good Morning!   \"\n",
    "text = \"Have a good weekend\"\n",
    "print(greet.lstrip())"
   ]
  },
  {
   "cell_type": "code",
   "execution_count": 9,
   "metadata": {},
   "outputs": [
    {
     "name": "stdout",
     "output_type": "stream",
     "text": [
      "   Good Morning!\n"
     ]
    }
   ],
   "source": [
    "6-2\n",
    "print(greet.rstrip())"
   ]
  },
  {
   "cell_type": "code",
   "execution_count": 10,
   "metadata": {},
   "outputs": [
    {
     "name": "stdout",
     "output_type": "stream",
     "text": [
      "Good Morning!\n"
     ]
    }
   ],
   "source": [
    "6-3\n",
    "print(greet.strip())"
   ]
  },
  {
   "cell_type": "code",
   "execution_count": 11,
   "metadata": {},
   "outputs": [
    {
     "name": "stdout",
     "output_type": "stream",
     "text": [
      "True\n"
     ]
    }
   ],
   "source": [
    "6-4\n",
    "print(text.startswith('Have'))"
   ]
  },
  {
   "cell_type": "code",
   "execution_count": 12,
   "metadata": {},
   "outputs": [],
   "source": [
    "#문제 7"
   ]
  },
  {
   "cell_type": "code",
   "execution_count": 13,
   "metadata": {},
   "outputs": [
    {
     "name": "stdout",
     "output_type": "stream",
     "text": [
      "6\n"
     ]
    }
   ],
   "source": [
    "7-1\n",
    "text1 = \"Better late than never.\"\n",
    "text2 = \"Better;late;than;never.\"\n",
    "spacepos = text1.find(\" \")\n",
    "print(spacepos)"
   ]
  },
  {
   "cell_type": "code",
   "execution_count": 14,
   "metadata": {},
   "outputs": [
    {
     "name": "stdout",
     "output_type": "stream",
     "text": [
      "11\n"
     ]
    }
   ],
   "source": [
    "7-2\n",
    "spacepos2 = text1.find(\" \",spacepos+1)\n",
    "print(spacepos2)"
   ]
  },
  {
   "cell_type": "code",
   "execution_count": 15,
   "metadata": {},
   "outputs": [
    {
     "name": "stdout",
     "output_type": "stream",
     "text": [
      "['Better', 'late', 'than', 'never.']\n"
     ]
    }
   ],
   "source": [
    "7-3\n",
    "print(text1.split(\" \"))"
   ]
  },
  {
   "cell_type": "code",
   "execution_count": 16,
   "metadata": {},
   "outputs": [
    {
     "name": "stdout",
     "output_type": "stream",
     "text": [
      "['Better', 'late', 'than', 'never.']\n"
     ]
    }
   ],
   "source": [
    "7-4\n",
    "print(text2.split(\";\"))"
   ]
  },
  {
   "cell_type": "code",
   "execution_count": 17,
   "metadata": {},
   "outputs": [],
   "source": [
    "#문제 8"
   ]
  },
  {
   "cell_type": "code",
   "execution_count": 18,
   "metadata": {},
   "outputs": [
    {
     "name": "stdout",
     "output_type": "stream",
     "text": [
      "본인의 이름이 포함된 임의의 문장을 입력하세요 : \n",
      "My name is Yerim. My hobby is watching movie.\n",
      "{'My': 2, 'name': 1, 'is': 2, 'Yerim.': 1, 'hobby': 1, 'watching': 1, 'movie.': 1}\n"
     ]
    }
   ],
   "source": [
    "8-1\n",
    "counts = {}\n",
    "print(\"본인의 이름이 포함된 임의의 문장을 입력하세요 : \")\n",
    "sentence = input(\"\")\n",
    "words = sentence.split()\n",
    "for word in words:\n",
    "    counts[word] = counts.get(word,0)+1\n",
    "print(counts)"
   ]
  },
  {
   "cell_type": "code",
   "execution_count": 19,
   "metadata": {},
   "outputs": [
    {
     "name": "stdout",
     "output_type": "stream",
     "text": [
      "[(2, 'is'), (2, 'My'), (1, 'watching'), (1, 'name'), (1, 'movie.'), (1, 'hobby'), (1, 'Yerim.')]\n"
     ]
    }
   ],
   "source": [
    "8-2 \n",
    "list = [(v,k) for k,v in counts.items()]\n",
    "list = sorted(list,reverse = True)\n",
    "print(list)"
   ]
  },
  {
   "cell_type": "code",
   "execution_count": null,
   "metadata": {},
   "outputs": [],
   "source": []
  }
 ],
 "metadata": {
  "kernelspec": {
   "display_name": "Python 3",
   "language": "python",
   "name": "python3"
  },
  "language_info": {
   "codemirror_mode": {
    "name": "ipython",
    "version": 3
   },
   "file_extension": ".py",
   "mimetype": "text/x-python",
   "name": "python",
   "nbconvert_exporter": "python",
   "pygments_lexer": "ipython3",
   "version": "3.7.4"
  }
 },
 "nbformat": 4,
 "nbformat_minor": 2
}

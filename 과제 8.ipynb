{
 "cells": [
  {
   "cell_type": "code",
   "execution_count": 1,
   "metadata": {},
   "outputs": [],
   "source": [
    "#문제 1"
   ]
  },
  {
   "cell_type": "code",
   "execution_count": 2,
   "metadata": {},
   "outputs": [],
   "source": [
    "class Node(object):\n",
    "    def __init__(self,data):\n",
    "        self.data = data\n",
    "        self.next = None\n",
    "        \n",
    "class LinkedList(object):\n",
    "    def __init__(self):\n",
    "        self.head = None\n",
    "        self.count = 0\n",
    "        \n",
    "    def addNode(self,node):\n",
    "        if self.head == None:\n",
    "            self.head = node\n",
    "        else:\n",
    "            cur = self.head\n",
    "            while cur.next != None:\n",
    "                cur = cur.next\n",
    "            cur.next = node\n",
    "    def getDataIndex(self, data):\n",
    "        cur = self.head\n",
    "        position = 0\n",
    "        \n",
    "        while cur:\n",
    "            if cur.data == data:\n",
    "                return position\n",
    "            cur = cur.next\n",
    "            position += 1\n",
    "            \n",
    "        return -1\n",
    "            "
   ]
  },
  {
   "cell_type": "code",
   "execution_count": 3,
   "metadata": {},
   "outputs": [
    {
     "name": "stdout",
     "output_type": "stream",
     "text": [
      "0\n",
      "1\n",
      "2\n",
      "3\n",
      "-1\n"
     ]
    }
   ],
   "source": [
    "if __name__ == \"__main__\":\n",
    "    myLinkedList = LinkedList()\n",
    "    myLinkedList.addNode(Node('choi'))\n",
    "    myLinkedList.addNode(Node('park'))\n",
    "    myLinkedList.addNode(Node('kim'))\n",
    "    myLinkedList.addNode(Node('lee'))\n",
    "   \n",
    "    print(myLinkedList.getDataIndex('choi'))\n",
    "    print(myLinkedList.getDataIndex('park'))\n",
    "    print(myLinkedList.getDataIndex('kim'))\n",
    "    print(myLinkedList.getDataIndex('lee'))\n",
    "    print(myLinkedList.getDataIndex(123123))\n",
    "    "
   ]
  },
  {
   "cell_type": "code",
   "execution_count": null,
   "metadata": {},
   "outputs": [],
   "source": [
    "\n",
    "\n",
    "  "
   ]
  },
  {
   "cell_type": "code",
   "execution_count": null,
   "metadata": {},
   "outputs": [],
   "source": []
  }
 ],
 "metadata": {
  "kernelspec": {
   "display_name": "Python 3",
   "language": "python",
   "name": "python3"
  },
  "language_info": {
   "codemirror_mode": {
    "name": "ipython",
    "version": 3
   },
   "file_extension": ".py",
   "mimetype": "text/x-python",
   "name": "python",
   "nbconvert_exporter": "python",
   "pygments_lexer": "ipython3",
   "version": "3.7.4"
  }
 },
 "nbformat": 4,
 "nbformat_minor": 2
}
